{
 "cells": [
  {
   "cell_type": "markdown",
   "id": "386f2ae7",
   "metadata": {
    "deletable": false,
    "editable": false,
    "id": "386f2ae7"
   },
   "source": [
    "# Исследование надежности заемщиков\n"
   ]
  },
  {
   "cell_type": "markdown",
   "id": "ffe86f65",
   "metadata": {
    "deletable": false,
    "editable": false,
    "id": "ffe86f65"
   },
   "source": [
    "Во второй части проекта вы выполните шаги 3 и 4. Их вручную проверит ревьюер.\n",
    "Чтобы вам не пришлось писать код заново для шагов 1 и 2, мы добавили авторские решения в ячейки с кодом. \n",
    "\n"
   ]
  },
  {
   "cell_type": "markdown",
   "id": "26613308",
   "metadata": {
    "deletable": false,
    "editable": false,
    "id": "26613308"
   },
   "source": [
    "## Откройте таблицу и изучите общую информацию о данных"
   ]
  },
  {
   "cell_type": "markdown",
   "id": "3c9f838e",
   "metadata": {
    "deletable": false,
    "editable": false,
    "id": "3c9f838e"
   },
   "source": [
    "**Задание 1. Импортируйте библиотеку pandas. Считайте данные из csv-файла в датафрейм и сохраните в переменную `data`. Путь к файлу:**\n",
    "\n",
    "`/datasets/data.csv`"
   ]
  },
  {
   "cell_type": "code",
   "execution_count": 27,
   "id": "77a68a90",
   "metadata": {
    "deletable": false,
    "id": "77a68a90"
   },
   "outputs": [],
   "source": [
    "import pandas as pd\n",
    "\n",
    "try:\n",
    "    data = pd.read_csv('/datasets/data.csv')\n",
    "except:\n",
    "    data = pd.read_csv('https://code.s3.yandex.net/datasets/data.csv')"
   ]
  },
  {
   "cell_type": "markdown",
   "id": "45365635",
   "metadata": {
    "deletable": false,
    "editable": false,
    "id": "45365635"
   },
   "source": [
    "**Задание 2. Выведите первые 20 строчек датафрейма `data` на экран.**"
   ]
  },
  {
   "cell_type": "code",
   "execution_count": 28,
   "id": "b0451a9a",
   "metadata": {
    "deletable": false,
    "id": "b0451a9a",
    "outputId": "1a8f3ef2-d323-4ec2-ddf7-89670b5944c4"
   },
   "outputs": [
    {
     "data": {
      "text/html": [
       "<div>\n",
       "<style scoped>\n",
       "    .dataframe tbody tr th:only-of-type {\n",
       "        vertical-align: middle;\n",
       "    }\n",
       "\n",
       "    .dataframe tbody tr th {\n",
       "        vertical-align: top;\n",
       "    }\n",
       "\n",
       "    .dataframe thead th {\n",
       "        text-align: right;\n",
       "    }\n",
       "</style>\n",
       "<table border=\"1\" class=\"dataframe\">\n",
       "  <thead>\n",
       "    <tr style=\"text-align: right;\">\n",
       "      <th></th>\n",
       "      <th>children</th>\n",
       "      <th>days_employed</th>\n",
       "      <th>dob_years</th>\n",
       "      <th>education</th>\n",
       "      <th>education_id</th>\n",
       "      <th>family_status</th>\n",
       "      <th>family_status_id</th>\n",
       "      <th>gender</th>\n",
       "      <th>income_type</th>\n",
       "      <th>debt</th>\n",
       "      <th>total_income</th>\n",
       "      <th>purpose</th>\n",
       "    </tr>\n",
       "  </thead>\n",
       "  <tbody>\n",
       "    <tr>\n",
       "      <th>0</th>\n",
       "      <td>1</td>\n",
       "      <td>-8437.673028</td>\n",
       "      <td>42</td>\n",
       "      <td>высшее</td>\n",
       "      <td>0</td>\n",
       "      <td>женат / замужем</td>\n",
       "      <td>0</td>\n",
       "      <td>F</td>\n",
       "      <td>сотрудник</td>\n",
       "      <td>0</td>\n",
       "      <td>253875.639453</td>\n",
       "      <td>покупка жилья</td>\n",
       "    </tr>\n",
       "    <tr>\n",
       "      <th>1</th>\n",
       "      <td>1</td>\n",
       "      <td>-4024.803754</td>\n",
       "      <td>36</td>\n",
       "      <td>среднее</td>\n",
       "      <td>1</td>\n",
       "      <td>женат / замужем</td>\n",
       "      <td>0</td>\n",
       "      <td>F</td>\n",
       "      <td>сотрудник</td>\n",
       "      <td>0</td>\n",
       "      <td>112080.014102</td>\n",
       "      <td>приобретение автомобиля</td>\n",
       "    </tr>\n",
       "    <tr>\n",
       "      <th>2</th>\n",
       "      <td>0</td>\n",
       "      <td>-5623.422610</td>\n",
       "      <td>33</td>\n",
       "      <td>Среднее</td>\n",
       "      <td>1</td>\n",
       "      <td>женат / замужем</td>\n",
       "      <td>0</td>\n",
       "      <td>M</td>\n",
       "      <td>сотрудник</td>\n",
       "      <td>0</td>\n",
       "      <td>145885.952297</td>\n",
       "      <td>покупка жилья</td>\n",
       "    </tr>\n",
       "    <tr>\n",
       "      <th>3</th>\n",
       "      <td>3</td>\n",
       "      <td>-4124.747207</td>\n",
       "      <td>32</td>\n",
       "      <td>среднее</td>\n",
       "      <td>1</td>\n",
       "      <td>женат / замужем</td>\n",
       "      <td>0</td>\n",
       "      <td>M</td>\n",
       "      <td>сотрудник</td>\n",
       "      <td>0</td>\n",
       "      <td>267628.550329</td>\n",
       "      <td>дополнительное образование</td>\n",
       "    </tr>\n",
       "    <tr>\n",
       "      <th>4</th>\n",
       "      <td>0</td>\n",
       "      <td>340266.072047</td>\n",
       "      <td>53</td>\n",
       "      <td>среднее</td>\n",
       "      <td>1</td>\n",
       "      <td>гражданский брак</td>\n",
       "      <td>1</td>\n",
       "      <td>F</td>\n",
       "      <td>пенсионер</td>\n",
       "      <td>0</td>\n",
       "      <td>158616.077870</td>\n",
       "      <td>сыграть свадьбу</td>\n",
       "    </tr>\n",
       "    <tr>\n",
       "      <th>5</th>\n",
       "      <td>0</td>\n",
       "      <td>-926.185831</td>\n",
       "      <td>27</td>\n",
       "      <td>высшее</td>\n",
       "      <td>0</td>\n",
       "      <td>гражданский брак</td>\n",
       "      <td>1</td>\n",
       "      <td>M</td>\n",
       "      <td>компаньон</td>\n",
       "      <td>0</td>\n",
       "      <td>255763.565419</td>\n",
       "      <td>покупка жилья</td>\n",
       "    </tr>\n",
       "    <tr>\n",
       "      <th>6</th>\n",
       "      <td>0</td>\n",
       "      <td>-2879.202052</td>\n",
       "      <td>43</td>\n",
       "      <td>высшее</td>\n",
       "      <td>0</td>\n",
       "      <td>женат / замужем</td>\n",
       "      <td>0</td>\n",
       "      <td>F</td>\n",
       "      <td>компаньон</td>\n",
       "      <td>0</td>\n",
       "      <td>240525.971920</td>\n",
       "      <td>операции с жильем</td>\n",
       "    </tr>\n",
       "    <tr>\n",
       "      <th>7</th>\n",
       "      <td>0</td>\n",
       "      <td>-152.779569</td>\n",
       "      <td>50</td>\n",
       "      <td>СРЕДНЕЕ</td>\n",
       "      <td>1</td>\n",
       "      <td>женат / замужем</td>\n",
       "      <td>0</td>\n",
       "      <td>M</td>\n",
       "      <td>сотрудник</td>\n",
       "      <td>0</td>\n",
       "      <td>135823.934197</td>\n",
       "      <td>образование</td>\n",
       "    </tr>\n",
       "    <tr>\n",
       "      <th>8</th>\n",
       "      <td>2</td>\n",
       "      <td>-6929.865299</td>\n",
       "      <td>35</td>\n",
       "      <td>ВЫСШЕЕ</td>\n",
       "      <td>0</td>\n",
       "      <td>гражданский брак</td>\n",
       "      <td>1</td>\n",
       "      <td>F</td>\n",
       "      <td>сотрудник</td>\n",
       "      <td>0</td>\n",
       "      <td>95856.832424</td>\n",
       "      <td>на проведение свадьбы</td>\n",
       "    </tr>\n",
       "    <tr>\n",
       "      <th>9</th>\n",
       "      <td>0</td>\n",
       "      <td>-2188.756445</td>\n",
       "      <td>41</td>\n",
       "      <td>среднее</td>\n",
       "      <td>1</td>\n",
       "      <td>женат / замужем</td>\n",
       "      <td>0</td>\n",
       "      <td>M</td>\n",
       "      <td>сотрудник</td>\n",
       "      <td>0</td>\n",
       "      <td>144425.938277</td>\n",
       "      <td>покупка жилья для семьи</td>\n",
       "    </tr>\n",
       "    <tr>\n",
       "      <th>10</th>\n",
       "      <td>2</td>\n",
       "      <td>-4171.483647</td>\n",
       "      <td>36</td>\n",
       "      <td>высшее</td>\n",
       "      <td>0</td>\n",
       "      <td>женат / замужем</td>\n",
       "      <td>0</td>\n",
       "      <td>M</td>\n",
       "      <td>компаньон</td>\n",
       "      <td>0</td>\n",
       "      <td>113943.491460</td>\n",
       "      <td>покупка недвижимости</td>\n",
       "    </tr>\n",
       "    <tr>\n",
       "      <th>11</th>\n",
       "      <td>0</td>\n",
       "      <td>-792.701887</td>\n",
       "      <td>40</td>\n",
       "      <td>среднее</td>\n",
       "      <td>1</td>\n",
       "      <td>женат / замужем</td>\n",
       "      <td>0</td>\n",
       "      <td>F</td>\n",
       "      <td>сотрудник</td>\n",
       "      <td>0</td>\n",
       "      <td>77069.234271</td>\n",
       "      <td>покупка коммерческой недвижимости</td>\n",
       "    </tr>\n",
       "    <tr>\n",
       "      <th>12</th>\n",
       "      <td>0</td>\n",
       "      <td>NaN</td>\n",
       "      <td>65</td>\n",
       "      <td>среднее</td>\n",
       "      <td>1</td>\n",
       "      <td>гражданский брак</td>\n",
       "      <td>1</td>\n",
       "      <td>M</td>\n",
       "      <td>пенсионер</td>\n",
       "      <td>0</td>\n",
       "      <td>NaN</td>\n",
       "      <td>сыграть свадьбу</td>\n",
       "    </tr>\n",
       "    <tr>\n",
       "      <th>13</th>\n",
       "      <td>0</td>\n",
       "      <td>-1846.641941</td>\n",
       "      <td>54</td>\n",
       "      <td>неоконченное высшее</td>\n",
       "      <td>2</td>\n",
       "      <td>женат / замужем</td>\n",
       "      <td>0</td>\n",
       "      <td>F</td>\n",
       "      <td>сотрудник</td>\n",
       "      <td>0</td>\n",
       "      <td>130458.228857</td>\n",
       "      <td>приобретение автомобиля</td>\n",
       "    </tr>\n",
       "    <tr>\n",
       "      <th>14</th>\n",
       "      <td>0</td>\n",
       "      <td>-1844.956182</td>\n",
       "      <td>56</td>\n",
       "      <td>высшее</td>\n",
       "      <td>0</td>\n",
       "      <td>гражданский брак</td>\n",
       "      <td>1</td>\n",
       "      <td>F</td>\n",
       "      <td>компаньон</td>\n",
       "      <td>1</td>\n",
       "      <td>165127.911772</td>\n",
       "      <td>покупка жилой недвижимости</td>\n",
       "    </tr>\n",
       "    <tr>\n",
       "      <th>15</th>\n",
       "      <td>1</td>\n",
       "      <td>-972.364419</td>\n",
       "      <td>26</td>\n",
       "      <td>среднее</td>\n",
       "      <td>1</td>\n",
       "      <td>женат / замужем</td>\n",
       "      <td>0</td>\n",
       "      <td>F</td>\n",
       "      <td>сотрудник</td>\n",
       "      <td>0</td>\n",
       "      <td>116820.904450</td>\n",
       "      <td>строительство собственной недвижимости</td>\n",
       "    </tr>\n",
       "    <tr>\n",
       "      <th>16</th>\n",
       "      <td>0</td>\n",
       "      <td>-1719.934226</td>\n",
       "      <td>35</td>\n",
       "      <td>среднее</td>\n",
       "      <td>1</td>\n",
       "      <td>женат / замужем</td>\n",
       "      <td>0</td>\n",
       "      <td>F</td>\n",
       "      <td>сотрудник</td>\n",
       "      <td>0</td>\n",
       "      <td>289202.704229</td>\n",
       "      <td>недвижимость</td>\n",
       "    </tr>\n",
       "    <tr>\n",
       "      <th>17</th>\n",
       "      <td>0</td>\n",
       "      <td>-2369.999720</td>\n",
       "      <td>33</td>\n",
       "      <td>высшее</td>\n",
       "      <td>0</td>\n",
       "      <td>гражданский брак</td>\n",
       "      <td>1</td>\n",
       "      <td>M</td>\n",
       "      <td>сотрудник</td>\n",
       "      <td>0</td>\n",
       "      <td>90410.586745</td>\n",
       "      <td>строительство недвижимости</td>\n",
       "    </tr>\n",
       "    <tr>\n",
       "      <th>18</th>\n",
       "      <td>0</td>\n",
       "      <td>400281.136913</td>\n",
       "      <td>53</td>\n",
       "      <td>среднее</td>\n",
       "      <td>1</td>\n",
       "      <td>вдовец / вдова</td>\n",
       "      <td>2</td>\n",
       "      <td>F</td>\n",
       "      <td>пенсионер</td>\n",
       "      <td>0</td>\n",
       "      <td>56823.777243</td>\n",
       "      <td>на покупку подержанного автомобиля</td>\n",
       "    </tr>\n",
       "    <tr>\n",
       "      <th>19</th>\n",
       "      <td>0</td>\n",
       "      <td>-10038.818549</td>\n",
       "      <td>48</td>\n",
       "      <td>СРЕДНЕЕ</td>\n",
       "      <td>1</td>\n",
       "      <td>в разводе</td>\n",
       "      <td>3</td>\n",
       "      <td>F</td>\n",
       "      <td>сотрудник</td>\n",
       "      <td>0</td>\n",
       "      <td>242831.107982</td>\n",
       "      <td>на покупку своего автомобиля</td>\n",
       "    </tr>\n",
       "  </tbody>\n",
       "</table>\n",
       "</div>"
      ],
      "text/plain": [
       "    children  days_employed  dob_years            education  education_id  \\\n",
       "0          1   -8437.673028         42               высшее             0   \n",
       "1          1   -4024.803754         36              среднее             1   \n",
       "2          0   -5623.422610         33              Среднее             1   \n",
       "3          3   -4124.747207         32              среднее             1   \n",
       "4          0  340266.072047         53              среднее             1   \n",
       "5          0    -926.185831         27               высшее             0   \n",
       "6          0   -2879.202052         43               высшее             0   \n",
       "7          0    -152.779569         50              СРЕДНЕЕ             1   \n",
       "8          2   -6929.865299         35               ВЫСШЕЕ             0   \n",
       "9          0   -2188.756445         41              среднее             1   \n",
       "10         2   -4171.483647         36               высшее             0   \n",
       "11         0    -792.701887         40              среднее             1   \n",
       "12         0            NaN         65              среднее             1   \n",
       "13         0   -1846.641941         54  неоконченное высшее             2   \n",
       "14         0   -1844.956182         56               высшее             0   \n",
       "15         1    -972.364419         26              среднее             1   \n",
       "16         0   -1719.934226         35              среднее             1   \n",
       "17         0   -2369.999720         33               высшее             0   \n",
       "18         0  400281.136913         53              среднее             1   \n",
       "19         0  -10038.818549         48              СРЕДНЕЕ             1   \n",
       "\n",
       "       family_status  family_status_id gender income_type  debt  \\\n",
       "0    женат / замужем                 0      F   сотрудник     0   \n",
       "1    женат / замужем                 0      F   сотрудник     0   \n",
       "2    женат / замужем                 0      M   сотрудник     0   \n",
       "3    женат / замужем                 0      M   сотрудник     0   \n",
       "4   гражданский брак                 1      F   пенсионер     0   \n",
       "5   гражданский брак                 1      M   компаньон     0   \n",
       "6    женат / замужем                 0      F   компаньон     0   \n",
       "7    женат / замужем                 0      M   сотрудник     0   \n",
       "8   гражданский брак                 1      F   сотрудник     0   \n",
       "9    женат / замужем                 0      M   сотрудник     0   \n",
       "10   женат / замужем                 0      M   компаньон     0   \n",
       "11   женат / замужем                 0      F   сотрудник     0   \n",
       "12  гражданский брак                 1      M   пенсионер     0   \n",
       "13   женат / замужем                 0      F   сотрудник     0   \n",
       "14  гражданский брак                 1      F   компаньон     1   \n",
       "15   женат / замужем                 0      F   сотрудник     0   \n",
       "16   женат / замужем                 0      F   сотрудник     0   \n",
       "17  гражданский брак                 1      M   сотрудник     0   \n",
       "18    вдовец / вдова                 2      F   пенсионер     0   \n",
       "19         в разводе                 3      F   сотрудник     0   \n",
       "\n",
       "     total_income                                 purpose  \n",
       "0   253875.639453                           покупка жилья  \n",
       "1   112080.014102                 приобретение автомобиля  \n",
       "2   145885.952297                           покупка жилья  \n",
       "3   267628.550329              дополнительное образование  \n",
       "4   158616.077870                         сыграть свадьбу  \n",
       "5   255763.565419                           покупка жилья  \n",
       "6   240525.971920                       операции с жильем  \n",
       "7   135823.934197                             образование  \n",
       "8    95856.832424                   на проведение свадьбы  \n",
       "9   144425.938277                 покупка жилья для семьи  \n",
       "10  113943.491460                    покупка недвижимости  \n",
       "11   77069.234271       покупка коммерческой недвижимости  \n",
       "12            NaN                         сыграть свадьбу  \n",
       "13  130458.228857                 приобретение автомобиля  \n",
       "14  165127.911772              покупка жилой недвижимости  \n",
       "15  116820.904450  строительство собственной недвижимости  \n",
       "16  289202.704229                            недвижимость  \n",
       "17   90410.586745              строительство недвижимости  \n",
       "18   56823.777243      на покупку подержанного автомобиля  \n",
       "19  242831.107982            на покупку своего автомобиля  "
      ]
     },
     "execution_count": 28,
     "metadata": {},
     "output_type": "execute_result"
    }
   ],
   "source": [
    "data.head(20)"
   ]
  },
  {
   "cell_type": "markdown",
   "id": "0ed8f27f",
   "metadata": {
    "deletable": false,
    "editable": false,
    "id": "0ed8f27f"
   },
   "source": [
    "**Задание 3. Выведите основную информацию о датафрейме с помощью метода `info()`.**"
   ]
  },
  {
   "cell_type": "code",
   "execution_count": 29,
   "id": "ab3f863b",
   "metadata": {
    "deletable": false,
    "id": "ab3f863b",
    "outputId": "15376089-8dad-46c9-b520-c05248d43158"
   },
   "outputs": [
    {
     "name": "stdout",
     "output_type": "stream",
     "text": [
      "<class 'pandas.core.frame.DataFrame'>\n",
      "RangeIndex: 21525 entries, 0 to 21524\n",
      "Data columns (total 12 columns):\n",
      " #   Column            Non-Null Count  Dtype  \n",
      "---  ------            --------------  -----  \n",
      " 0   children          21525 non-null  int64  \n",
      " 1   days_employed     19351 non-null  float64\n",
      " 2   dob_years         21525 non-null  int64  \n",
      " 3   education         21525 non-null  object \n",
      " 4   education_id      21525 non-null  int64  \n",
      " 5   family_status     21525 non-null  object \n",
      " 6   family_status_id  21525 non-null  int64  \n",
      " 7   gender            21525 non-null  object \n",
      " 8   income_type       21525 non-null  object \n",
      " 9   debt              21525 non-null  int64  \n",
      " 10  total_income      19351 non-null  float64\n",
      " 11  purpose           21525 non-null  object \n",
      "dtypes: float64(2), int64(5), object(5)\n",
      "memory usage: 2.0+ MB\n"
     ]
    }
   ],
   "source": [
    "data.info()"
   ]
  },
  {
   "cell_type": "markdown",
   "id": "60e3e22d",
   "metadata": {
    "deletable": false,
    "editable": false,
    "id": "60e3e22d"
   },
   "source": [
    "## Предобработка данных"
   ]
  },
  {
   "cell_type": "markdown",
   "id": "03dc170c",
   "metadata": {
    "deletable": false,
    "editable": false,
    "id": "03dc170c"
   },
   "source": [
    "### Удаление пропусков"
   ]
  },
  {
   "cell_type": "markdown",
   "id": "a4f54eef",
   "metadata": {
    "deletable": false,
    "editable": false,
    "id": "a4f54eef"
   },
   "source": [
    "**Задание 4. Выведите количество пропущенных значений для каждого столбца. Используйте комбинацию двух методов.**"
   ]
  },
  {
   "cell_type": "code",
   "execution_count": 30,
   "id": "2dc372b2",
   "metadata": {
    "deletable": false,
    "id": "2dc372b2",
    "outputId": "81f4d817-781c-465c-ed15-91ce4446810d"
   },
   "outputs": [
    {
     "data": {
      "text/plain": [
       "children               0\n",
       "days_employed       2174\n",
       "dob_years              0\n",
       "education              0\n",
       "education_id           0\n",
       "family_status          0\n",
       "family_status_id       0\n",
       "gender                 0\n",
       "income_type            0\n",
       "debt                   0\n",
       "total_income        2174\n",
       "purpose                0\n",
       "dtype: int64"
      ]
     },
     "execution_count": 30,
     "metadata": {},
     "output_type": "execute_result"
    }
   ],
   "source": [
    "data.isna().sum()"
   ]
  },
  {
   "cell_type": "markdown",
   "id": "14f011b1",
   "metadata": {
    "deletable": false,
    "editable": false,
    "id": "14f011b1"
   },
   "source": [
    "**Задание 5. В двух столбцах есть пропущенные значения. Один из них — `days_employed`. Пропуски в этом столбце вы обработаете на следующем этапе. Другой столбец с пропущенными значениями — `total_income` — хранит данные о доходах. На сумму дохода сильнее всего влияет тип занятости, поэтому заполнить пропуски в этом столбце нужно медианным значением по каждому типу из столбца `income_type`. Например, у человека с типом занятости `сотрудник` пропуск в столбце `total_income` должен быть заполнен медианным доходом среди всех записей с тем же типом.**"
   ]
  },
  {
   "cell_type": "code",
   "execution_count": 31,
   "id": "bdabfb6e",
   "metadata": {
    "deletable": false,
    "id": "bdabfb6e"
   },
   "outputs": [],
   "source": [
    "for t in data['income_type'].unique():\n",
    "    data.loc[(data['income_type'] == t) & (data['total_income'].isna()), 'total_income'] = \\\n",
    "    data.loc[(data['income_type'] == t), 'total_income'].median()"
   ]
  },
  {
   "cell_type": "markdown",
   "id": "5be34059",
   "metadata": {
    "deletable": false,
    "editable": false,
    "id": "5be34059"
   },
   "source": [
    "### Обработка аномальных значений"
   ]
  },
  {
   "cell_type": "markdown",
   "id": "a87606cb",
   "metadata": {
    "deletable": false,
    "editable": false,
    "id": "a87606cb"
   },
   "source": [
    "**Задание 6. В данных могут встречаться артефакты (аномалии) — значения, которые не отражают действительность и появились по какой-то ошибке. таким артефактом будет отрицательное количество дней трудового стажа в столбце `days_employed`. Для реальных данных это нормально. Обработайте значения в этом столбце: замените все отрицательные значения положительными с помощью метода `abs()`.**"
   ]
  },
  {
   "cell_type": "code",
   "execution_count": 32,
   "id": "020c46cc",
   "metadata": {
    "deletable": false,
    "id": "020c46cc"
   },
   "outputs": [],
   "source": [
    "data['days_employed'] = data['days_employed'].abs()"
   ]
  },
  {
   "cell_type": "markdown",
   "id": "45538a3a",
   "metadata": {
    "deletable": false,
    "editable": false,
    "id": "45538a3a"
   },
   "source": [
    "**Задание 7. Для каждого типа занятости выведите медианное значение трудового стажа `days_employed` в днях.**"
   ]
  },
  {
   "cell_type": "code",
   "execution_count": 33,
   "id": "cd3e6328",
   "metadata": {
    "deletable": false,
    "id": "cd3e6328",
    "outputId": "801ef80e-522b-4668-f34e-565af7432bcf"
   },
   "outputs": [
    {
     "data": {
      "text/plain": [
       "income_type\n",
       "безработный        366413.652744\n",
       "в декрете            3296.759962\n",
       "госслужащий          2689.368353\n",
       "компаньон            1547.382223\n",
       "пенсионер          365213.306266\n",
       "предприниматель       520.848083\n",
       "сотрудник            1574.202821\n",
       "студент               578.751554\n",
       "Name: days_employed, dtype: float64"
      ]
     },
     "execution_count": 33,
     "metadata": {},
     "output_type": "execute_result"
    }
   ],
   "source": [
    "data.groupby('income_type')['days_employed'].agg('median')"
   ]
  },
  {
   "cell_type": "markdown",
   "id": "90c5f058",
   "metadata": {
    "deletable": false,
    "editable": false,
    "id": "90c5f058"
   },
   "source": [
    "У двух типов (безработные и пенсионеры) получатся аномально большие значения. Исправить такие значения сложно, поэтому оставьте их как есть."
   ]
  },
  {
   "cell_type": "markdown",
   "id": "9652e50d",
   "metadata": {
    "deletable": false,
    "editable": false,
    "id": "9652e50d"
   },
   "source": [
    "**Задание 8. Выведите перечень уникальных значений столбца `children`.**"
   ]
  },
  {
   "cell_type": "code",
   "execution_count": 34,
   "id": "dbb37b8e",
   "metadata": {
    "deletable": false,
    "id": "dbb37b8e",
    "outputId": "6975b15c-7f95-4697-d16d-a0c79b657b03"
   },
   "outputs": [
    {
     "data": {
      "text/plain": [
       "array([ 1,  0,  3,  2, -1,  4, 20,  5])"
      ]
     },
     "execution_count": 34,
     "metadata": {},
     "output_type": "execute_result"
    }
   ],
   "source": [
    "data['children'].unique()"
   ]
  },
  {
   "cell_type": "markdown",
   "id": "2b8b0715",
   "metadata": {
    "deletable": false,
    "editable": false,
    "id": "2b8b0715"
   },
   "source": [
    "**Задание 9. В столбце `children` есть два аномальных значения. Удалите строки, в которых встречаются такие аномальные значения из датафрейма `data`.**"
   ]
  },
  {
   "cell_type": "code",
   "execution_count": 35,
   "id": "20009df8",
   "metadata": {
    "deletable": false,
    "id": "20009df8"
   },
   "outputs": [],
   "source": [
    "data = data[(data['children'] != -1) & (data['children'] != 20)]"
   ]
  },
  {
   "cell_type": "markdown",
   "id": "8c6ac9f1",
   "metadata": {
    "deletable": false,
    "editable": false,
    "id": "8c6ac9f1"
   },
   "source": [
    "**Задание 10. Ещё раз выведите перечень уникальных значений столбца `children`, чтобы убедиться, что артефакты удалены.**"
   ]
  },
  {
   "cell_type": "code",
   "execution_count": 36,
   "id": "07337b81",
   "metadata": {
    "deletable": false,
    "id": "07337b81",
    "outputId": "b2097101-d49d-44d9-901b-32a65c9463d1"
   },
   "outputs": [
    {
     "data": {
      "text/plain": [
       "array([1, 0, 3, 2, 4, 5])"
      ]
     },
     "execution_count": 36,
     "metadata": {},
     "output_type": "execute_result"
    }
   ],
   "source": [
    "data['children'].unique()"
   ]
  },
  {
   "cell_type": "markdown",
   "id": "ee3f52d4",
   "metadata": {
    "deletable": false,
    "editable": false,
    "id": "ee3f52d4"
   },
   "source": [
    "### Удаление пропусков (продолжение)"
   ]
  },
  {
   "cell_type": "markdown",
   "id": "a700b0e4",
   "metadata": {
    "deletable": false,
    "editable": false,
    "id": "a700b0e4"
   },
   "source": [
    "**Задание 11. Заполните пропуски в столбце `days_employed` медианными значениями по каждого типа занятости `income_type`.**"
   ]
  },
  {
   "cell_type": "code",
   "execution_count": 37,
   "id": "61946b83",
   "metadata": {
    "deletable": false,
    "id": "61946b83"
   },
   "outputs": [],
   "source": [
    "for t in data['income_type'].unique():\n",
    "    data.loc[(data['income_type'] == t) & (data['days_employed'].isna()), 'days_employed'] = \\\n",
    "    data.loc[(data['income_type'] == t), 'days_employed'].median()"
   ]
  },
  {
   "cell_type": "markdown",
   "id": "550dcd9b",
   "metadata": {
    "deletable": false,
    "editable": false,
    "id": "550dcd9b"
   },
   "source": [
    "**Задание 12. Убедитесь, что все пропуски заполнены. Проверьте себя и ещё раз выведите количество пропущенных значений для каждого столбца с помощью двух методов.**"
   ]
  },
  {
   "cell_type": "code",
   "execution_count": 38,
   "id": "937c7014",
   "metadata": {
    "deletable": false,
    "id": "937c7014",
    "outputId": "8da1e4e1-358e-4e87-98c9-f261bce0a7b2"
   },
   "outputs": [
    {
     "data": {
      "text/plain": [
       "children            0\n",
       "days_employed       0\n",
       "dob_years           0\n",
       "education           0\n",
       "education_id        0\n",
       "family_status       0\n",
       "family_status_id    0\n",
       "gender              0\n",
       "income_type         0\n",
       "debt                0\n",
       "total_income        0\n",
       "purpose             0\n",
       "dtype: int64"
      ]
     },
     "execution_count": 38,
     "metadata": {},
     "output_type": "execute_result"
    }
   ],
   "source": [
    "data.isna().sum()"
   ]
  },
  {
   "cell_type": "markdown",
   "id": "d522e295",
   "metadata": {
    "deletable": false,
    "editable": false,
    "id": "d522e295"
   },
   "source": [
    "### Изменение типов данных"
   ]
  },
  {
   "cell_type": "markdown",
   "id": "c229c581",
   "metadata": {
    "deletable": false,
    "editable": false,
    "id": "c229c581"
   },
   "source": [
    "**Задание 13. Замените вещественный тип данных в столбце `total_income` на целочисленный с помощью метода `astype()`.**"
   ]
  },
  {
   "cell_type": "code",
   "execution_count": 39,
   "id": "31036462",
   "metadata": {
    "deletable": false,
    "id": "31036462"
   },
   "outputs": [],
   "source": [
    "data['total_income'] = data['total_income'].astype(int)"
   ]
  },
  {
   "cell_type": "markdown",
   "id": "b8e3d1d9",
   "metadata": {
    "deletable": false,
    "editable": false,
    "id": "b8e3d1d9"
   },
   "source": [
    "### Обработка дубликатов"
   ]
  },
  {
   "cell_type": "markdown",
   "id": "9be53c49",
   "metadata": {
    "deletable": false,
    "editable": false,
    "id": "9be53c49"
   },
   "source": [
    "**Задание 14. Обработайте неявные дубликаты в столбце `education`. В этом столбце есть одни и те же значения, но записанные по-разному: с использованием заглавных и строчных букв. Приведите их к нижнему регистру.**"
   ]
  },
  {
   "cell_type": "code",
   "execution_count": 40,
   "id": "d89e73e1",
   "metadata": {
    "deletable": false,
    "id": "d89e73e1"
   },
   "outputs": [],
   "source": [
    "data['education'] = data['education'].str.lower()"
   ]
  },
  {
   "cell_type": "markdown",
   "id": "01d4500e",
   "metadata": {
    "deletable": false,
    "editable": false,
    "id": "01d4500e"
   },
   "source": [
    "**Задание 15. Выведите на экран количество строк-дубликатов в данных. Если такие строки присутствуют, удалите их.**"
   ]
  },
  {
   "cell_type": "code",
   "execution_count": 41,
   "id": "e10efb23",
   "metadata": {
    "deletable": false,
    "id": "e10efb23",
    "outputId": "9684deba-1934-42d1-99e1-cda61740f822"
   },
   "outputs": [
    {
     "data": {
      "text/plain": [
       "71"
      ]
     },
     "execution_count": 41,
     "metadata": {},
     "output_type": "execute_result"
    }
   ],
   "source": [
    "data.duplicated().sum()"
   ]
  },
  {
   "cell_type": "code",
   "execution_count": 42,
   "id": "df853f20",
   "metadata": {
    "deletable": false,
    "id": "df853f20"
   },
   "outputs": [],
   "source": [
    "data = data.drop_duplicates()"
   ]
  },
  {
   "cell_type": "markdown",
   "id": "627be38f",
   "metadata": {
    "deletable": false,
    "editable": false,
    "id": "627be38f"
   },
   "source": [
    "### Категоризация данных"
   ]
  },
  {
   "cell_type": "markdown",
   "id": "4684c3e0",
   "metadata": {
    "deletable": false,
    "editable": false,
    "id": "4684c3e0"
   },
   "source": [
    "**Задание 16. На основании диапазонов, указанных ниже, создайте в датафрейме `data` столбец `total_income_category` с категориями:**\n",
    "\n",
    "- 0–30000 — `'E'`;\n",
    "- 30001–50000 — `'D'`;\n",
    "- 50001–200000 — `'C'`;\n",
    "- 200001–1000000 — `'B'`;\n",
    "- 1000001 и выше — `'A'`.\n",
    "\n",
    "\n",
    "**Например, кредитополучателю с доходом 25000 нужно назначить категорию `'E'`, а клиенту, получающему 235000, — `'B'`. Используйте собственную функцию с именем `categorize_income()` и метод `apply()`.**"
   ]
  },
  {
   "cell_type": "code",
   "execution_count": 43,
   "id": "78965238",
   "metadata": {
    "deletable": false,
    "id": "78965238"
   },
   "outputs": [],
   "source": [
    "def categorize_income(income):\n",
    "    try:\n",
    "        if 0 <= income <= 30000:\n",
    "            return 'E'\n",
    "        elif 30001 <= income <= 50000:\n",
    "            return 'D'\n",
    "        elif 50001 <= income <= 200000:\n",
    "            return 'C'\n",
    "        elif 200001 <= income <= 1000000:\n",
    "            return 'B'\n",
    "        elif income >= 1000001:\n",
    "            return 'A'\n",
    "    except:\n",
    "        pass"
   ]
  },
  {
   "cell_type": "code",
   "execution_count": 44,
   "id": "0980ada1",
   "metadata": {
    "deletable": false,
    "id": "0980ada1"
   },
   "outputs": [],
   "source": [
    "data['total_income_category'] = data['total_income'].apply(categorize_income)"
   ]
  },
  {
   "cell_type": "markdown",
   "id": "9917bba0",
   "metadata": {
    "deletable": false,
    "editable": false,
    "id": "9917bba0"
   },
   "source": [
    "**Задание 17. Выведите на экран перечень уникальных целей взятия кредита из столбца `purpose`.**"
   ]
  },
  {
   "cell_type": "code",
   "execution_count": 45,
   "id": "ee07b65e",
   "metadata": {
    "deletable": false,
    "id": "ee07b65e",
    "outputId": "673c12d9-7d7e-4ae0-9812-c622c89dd244"
   },
   "outputs": [
    {
     "data": {
      "text/plain": [
       "array(['покупка жилья', 'приобретение автомобиля',\n",
       "       'дополнительное образование', 'сыграть свадьбу',\n",
       "       'операции с жильем', 'образование', 'на проведение свадьбы',\n",
       "       'покупка жилья для семьи', 'покупка недвижимости',\n",
       "       'покупка коммерческой недвижимости', 'покупка жилой недвижимости',\n",
       "       'строительство собственной недвижимости', 'недвижимость',\n",
       "       'строительство недвижимости', 'на покупку подержанного автомобиля',\n",
       "       'на покупку своего автомобиля',\n",
       "       'операции с коммерческой недвижимостью',\n",
       "       'строительство жилой недвижимости', 'жилье',\n",
       "       'операции со своей недвижимостью', 'автомобили',\n",
       "       'заняться образованием', 'сделка с подержанным автомобилем',\n",
       "       'получение образования', 'автомобиль', 'свадьба',\n",
       "       'получение дополнительного образования', 'покупка своего жилья',\n",
       "       'операции с недвижимостью', 'получение высшего образования',\n",
       "       'свой автомобиль', 'сделка с автомобилем',\n",
       "       'профильное образование', 'высшее образование',\n",
       "       'покупка жилья для сдачи', 'на покупку автомобиля', 'ремонт жилью',\n",
       "       'заняться высшим образованием'], dtype=object)"
      ]
     },
     "execution_count": 45,
     "metadata": {},
     "output_type": "execute_result"
    }
   ],
   "source": [
    "data['purpose'].unique()"
   ]
  },
  {
   "cell_type": "markdown",
   "id": "52b79d56",
   "metadata": {
    "deletable": false,
    "editable": false,
    "id": "52b79d56"
   },
   "source": [
    "**Задание 18. Создайте функцию, которая на основании данных из столбца `purpose` сформирует новый столбец `purpose_category`, в который войдут следующие категории:**\n",
    "\n",
    "- `'операции с автомобилем'`,\n",
    "- `'операции с недвижимостью'`,\n",
    "- `'проведение свадьбы'`,\n",
    "- `'получение образования'`.\n",
    "\n",
    "**Например, если в столбце `purpose` находится подстрока `'на покупку автомобиля'`, то в столбце `purpose_category` должна появиться строка `'операции с автомобилем'`.**\n",
    "\n",
    "**Используйте собственную функцию с именем `categorize_purpose()` и метод `apply()`. Изучите данные в столбце `purpose` и определите, какие подстроки помогут вам правильно определить категорию.**"
   ]
  },
  {
   "cell_type": "code",
   "execution_count": 46,
   "id": "be41da5d",
   "metadata": {
    "deletable": false,
    "id": "be41da5d"
   },
   "outputs": [],
   "source": [
    "def categorize_purpose(row):\n",
    "    try:\n",
    "        if 'автом' in row:\n",
    "            return 'операции с автомобилем'\n",
    "        elif 'жил' in row or 'недвиж' in row:\n",
    "            return 'операции с недвижимостью'\n",
    "        elif 'свад' in row:\n",
    "            return 'проведение свадьбы'\n",
    "        elif 'образов' in row:\n",
    "            return 'получение образования'\n",
    "    except:\n",
    "        return 'нет категории'"
   ]
  },
  {
   "cell_type": "code",
   "execution_count": 47,
   "id": "94c4a19a",
   "metadata": {
    "deletable": false,
    "id": "94c4a19a"
   },
   "outputs": [],
   "source": [
    "data['purpose_category'] = data['purpose'].apply(categorize_purpose)"
   ]
  },
  {
   "cell_type": "markdown",
   "id": "3d596c34",
   "metadata": {
    "deletable": false,
    "editable": false,
    "id": "3d596c34"
   },
   "source": [
    "### Шаг 3. Исследуйте данные и ответьте на вопросы"
   ]
  },
  {
   "cell_type": "markdown",
   "id": "648db036",
   "metadata": {
    "deletable": false,
    "editable": false,
    "id": "648db036"
   },
   "source": [
    "#### 3.1 Есть ли зависимость между количеством детей и возвратом кредита в срок?"
   ]
  },
  {
   "cell_type": "code",
   "execution_count": 48,
   "id": "7fcff25e",
   "metadata": {
    "deletable": false,
    "id": "7fcff25e"
   },
   "outputs": [
    {
     "name": "stdout",
     "output_type": "stream",
     "text": [
      "   children   sum  count      mean\n",
      "0         0  1063  14091  0.075438\n",
      "1         1   444   4808  0.092346\n",
      "2         2   194   2052  0.094542\n",
      "3         3    27    330  0.081818\n",
      "4         4     4     41  0.097561\n",
      "5         5     0      9  0.000000\n"
     ]
    }
   ],
   "source": [
    "data_child_debt=data.pivot_table(index=['children'], values='debt', aggfunc=['sum','count','mean'])# сводная таблица\n",
    "data_child_debt=data_child_debt.droplevel(1, axis=1).reset_index()\n",
    "print(data_child_debt)"
   ]
  },
  {
   "cell_type": "markdown",
   "id": "3187df11",
   "metadata": {},
   "source": [
    "<div class=\"alert alert-block alert-danger\">\n",
    "<b>Комментарий ревьюер:</b> \n",
    "\n",
    "❌ Стоит каждую таблицу называть своим именем, вдруг тебе понадобятся ее еще раз вывести, название каждой таблицы должно быть индивидуальным)) "
   ]
  },
  {
   "cell_type": "markdown",
   "id": "aa3c90a1",
   "metadata": {},
   "source": [
    "<div class=\"alert alert-block alert-warning\">\n",
    "<b>Комментарий ревьюер:</b> \n",
    "\n",
    "⚠️ Здесь молодец, отличную таблицу построил, но для красоты лучше избавляться от мультииндексов, вначале срезаем один слой названия с помощью `droplevel(1, axis=1)`, а затем сбрасываешь индексы с помощью `reset_index()`)) Это касается изучение всех взаимосвязей))  <br>"
   ]
  },
  {
   "cell_type": "markdown",
   "id": "9f0128db",
   "metadata": {},
   "source": [
    "<div class=\"alert alert-block alert-success\">\n",
    "<b>Комментарий ревьюера_V2:</b>\n",
    "\n",
    "✔️  Здесь все отлично стало)) Все замечания исправил)) Толькот с помощью `Print()`  не нужно выводить таблицу, просто название прописываешь таблицы и все выведется \n",
    "\n",
    "  </div>"
   ]
  },
  {
   "cell_type": "markdown",
   "id": "2eb9088e",
   "metadata": {
    "deletable": false,
    "id": "2eb9088e"
   },
   "source": [
    "**Вывод: люди, которые не имеют детей, лучше всего отдают кредит, доля должников здесь составляет с 7,5%, хуже обстоит дело с должниками, кто имеет одного или двух детей, здесь доля невозврата составляет соответственно 9,2% и 9,4%. Остальные категории уже некорректно сравнивать, так как в них очень маленькая выборка. В итоге можно сказать следующее: повышение количества детей увеличивает вероятность не возврата кредита.** "
   ]
  },
  {
   "cell_type": "markdown",
   "id": "858cd765",
   "metadata": {},
   "source": [
    "<div class=\"alert alert-block alert-warning\">\n",
    "<b>Комментарий ревьюер:</b> \n",
    "\n",
    "⚠️ Не бойся использовать в выводах цифры, также нужно сделать акцент на сбалансированности выборок. Примерно выводы будут выглядеть так: \n",
    "`люди, которые не имеют детей, лучше всего отдают кредит, доля должников здесь составляет с 7,5%, хуже обстоит дело с должниками, кто имеет одного или двух детей, здесь доля невозврата составляет соответственно 9,2% и 9,4%. Остальные категории уже некорректно сравнивать, так как в них очень маленькая выборка`)) <br>"
   ]
  },
  {
   "cell_type": "markdown",
   "id": "98f7992a",
   "metadata": {},
   "source": [
    "<div class=\"alert alert-block alert-success\">\n",
    "<b>Комментарий ревьюера_V2:</b>\n",
    "\n",
    "✔️  Выводы переработал, молодец)) \n",
    "\n",
    "  </div>"
   ]
  },
  {
   "cell_type": "markdown",
   "id": "74c9b3a7",
   "metadata": {
    "deletable": false,
    "editable": false,
    "id": "74c9b3a7"
   },
   "source": [
    "#### 3.2 Есть ли зависимость между семейным положением и возвратом кредита в срок?"
   ]
  },
  {
   "cell_type": "code",
   "execution_count": 49,
   "id": "8098ab3b",
   "metadata": {
    "deletable": false,
    "id": "8098ab3b"
   },
   "outputs": [
    {
     "name": "stdout",
     "output_type": "stream",
     "text": [
      "           family_status  sum  count      mean\n",
      "0  Не женат / не замужем  273   2796  0.097639\n",
      "1              в разводе   84   1189  0.070648\n",
      "2         вдовец / вдова   63    951  0.066246\n",
      "3       гражданский брак  385   4134  0.093130\n",
      "4        женат / замужем  927  12261  0.075606\n"
     ]
    }
   ],
   "source": [
    "data_family_status_debt=data.pivot_table(index=['family_status'], values='debt', aggfunc=['sum','count','mean'])\n",
    "data_family_status_debt=data_family_status_debt.droplevel(1, axis=1).reset_index()\n",
    "print(data_family_status_debt)"
   ]
  },
  {
   "cell_type": "markdown",
   "id": "c389ca63",
   "metadata": {
    "deletable": false,
    "id": "c389ca63"
   },
   "source": [
    "**Вывод: вероятность возникновения задолжности (mean debt) имеет максимальные показатели  у групп людей: Не женат / не замужем и гражданский брак (9,7% и 9,3% соответственно). Минимальные показатели наблюдаются у группы вдовец / вдова (6,6%). Если же говорить о максимальном количестве людей с задолжностью, то тут в лидерах категория женат / замужем, но в тоже время доля выданных кредитов в этой категории максимальна. Минимальное количество людей с задолжностью в группе вдовец / вдова, но тут и количество кредитов минимальное.\n",
    "Общий вывод такой сеймейные люди имеют средние показатели по возникновениям задолжности, наиболее \"опасной\" категорией людей являются: Не женат / не замужем и гражданский брак.** "
   ]
  },
  {
   "cell_type": "markdown",
   "id": "4ad2ee3a",
   "metadata": {},
   "source": [
    "<div class=\"alert alert-block alert-warning\">\n",
    "<b>Комментарий ревьюер:</b> \n",
    "\n",
    "⚠️ В выводах давай будет использовать цифры, также  удели здесь внимание тоже сбалансированности выборок))"
   ]
  },
  {
   "cell_type": "markdown",
   "id": "c6e7afad",
   "metadata": {},
   "source": [
    "<div class=\"alert alert-block alert-success\">\n",
    "<b>Комментарий ревьюера_V2:</b>\n",
    "\n",
    "✔️  Здесь тоже все отлично по выводам))\n",
    "\n",
    "  </div>"
   ]
  },
  {
   "cell_type": "markdown",
   "id": "9529de68",
   "metadata": {
    "deletable": false,
    "editable": false,
    "id": "9529de68"
   },
   "source": [
    "#### 3.3 Есть ли зависимость между уровнем дохода и возвратом кредита в срок?"
   ]
  },
  {
   "cell_type": "code",
   "execution_count": 50,
   "id": "8787f44a",
   "metadata": {
    "deletable": false,
    "id": "8787f44a"
   },
   "outputs": [
    {
     "name": "stdout",
     "output_type": "stream",
     "text": [
      "  total_income_category   sum  count      mean\n",
      "0                     A     2     25  0.080000\n",
      "1                     B   354   5014  0.070602\n",
      "2                     C  1353  15921  0.084982\n",
      "3                     D    21    349  0.060172\n",
      "4                     E     2     22  0.090909\n"
     ]
    }
   ],
   "source": [
    "data_total_income_debt=data.pivot_table(index=['total_income_category'], values='debt', aggfunc=['sum','count','mean'])\n",
    "data_total_income_debt=data_total_income_debt.droplevel(1, axis=1).reset_index()\n",
    "print(data_total_income_debt)"
   ]
  },
  {
   "cell_type": "markdown",
   "id": "6dd14b57",
   "metadata": {
    "deletable": false,
    "id": "6dd14b57"
   },
   "source": [
    "**Вывод: \n",
    "0–30000 — 'E';\n",
    "30001–50000 — 'D';\n",
    "50001–200000 — 'C';\n",
    "200001–1000000 — 'B';\n",
    "1000001 и выше — 'A'\n",
    "Категории A, D и E имеют малую выборку, поэтому их сравнивать не корректно. Среди двух оставшихъся лидером по вероятности появления задолжности является категория C - 8,4%. Также в этой категории максимальные показатели по количеству выданных кредитов и возникших задолжностей. ** "
   ]
  },
  {
   "cell_type": "markdown",
   "id": "c378d20e",
   "metadata": {},
   "source": [
    "<div class=\"alert alert-block alert-warning\">\n",
    "<b>Комментарий ревьюер:</b> \n",
    "\n",
    "⚠️ Здесь сравниваем только две группы B и С, не забываем про сбалансированость выборки))<br>"
   ]
  },
  {
   "cell_type": "markdown",
   "id": "57660a99",
   "metadata": {},
   "source": [
    "<div class=\"alert alert-block alert-success\">\n",
    "<b>Комментарий ревьюера_V2:</b>\n",
    "\n",
    "✔️  Здесь сравнил две самые большие группы))\n",
    "\n",
    "  </div>"
   ]
  },
  {
   "cell_type": "markdown",
   "id": "1dcc9b12",
   "metadata": {
    "deletable": false,
    "editable": false,
    "id": "1dcc9b12"
   },
   "source": [
    "#### 3.4 Как разные цели кредита влияют на его возврат в срок?"
   ]
  },
  {
   "cell_type": "code",
   "execution_count": 51,
   "id": "c602bc8b",
   "metadata": {
    "deletable": false,
    "id": "c602bc8b"
   },
   "outputs": [
    {
     "name": "stdout",
     "output_type": "stream",
     "text": [
      "           purpose_category  sum  count      mean\n",
      "0    операции с автомобилем  400   4279  0.093480\n",
      "1  операции с недвижимостью  780  10751  0.072551\n",
      "2     получение образования  369   3988  0.092528\n",
      "3        проведение свадьбы  183   2313  0.079118\n"
     ]
    }
   ],
   "source": [
    "data_purpose_category_debt=data.pivot_table(index=['purpose_category'], values='debt', aggfunc=['sum','count','mean'])\n",
    "data_purpose_category_debt=data_purpose_category_debt.droplevel(1, axis=1).reset_index()\n",
    "print(data_purpose_category_debt)\n"
   ]
  },
  {
   "cell_type": "markdown",
   "id": "cf05ed63",
   "metadata": {
    "deletable": false,
    "id": "cf05ed63"
   },
   "source": [
    "**Вывод:по вероятности задолжности наибольшим значением обладает категория операций с автомобилем (9,3%), наименьшей - операции с недвижимостью (7,2%), также в этой категории максимальные показатели по колличеству выданных кредитов и колличеству должников (780 и 10751 соответственно). Скорее всего в категории операции с недвижимостью превалируют кредиты по ипотеке, с залогом в виде приобретаемого имущества. Вероятность остаться без жилья стимулирует многих, но не всех.** "
   ]
  },
  {
   "cell_type": "markdown",
   "id": "85a71e0c",
   "metadata": {},
   "source": [
    "<div class=\"alert alert-block alert-warning\">\n",
    "<b>Комментарий ревьюера:</b> \n",
    "\n",
    "⚠️ Почему по твоему самые надежные заемщики те, кто берет ипотеку? Здесь можно порасуждать в выводах)) "
   ]
  },
  {
   "cell_type": "markdown",
   "id": "281f9546",
   "metadata": {},
   "source": [
    "<div class=\"alert alert-block alert-success\">\n",
    "<b>Комментарий ревьюера_V2:</b>\n",
    "\n",
    "✔️ Логика твоя верная, но здесь можно просто порасуждать, самые большие суммы при ипотеке, поэтому банки предъявляют самые жесткие требования к ипотечникам, поэтому их проверяют вдоль и поперек при выдаче кредитов, плюс собственность находится в залоге у банка, не будешь платить она вернется к банку)) \n",
    "   \n",
    "       \n",
    "  </div>"
   ]
  },
  {
   "cell_type": "markdown",
   "id": "46c1f10b",
   "metadata": {
    "deletable": false,
    "editable": false,
    "id": "46c1f10b"
   },
   "source": [
    "#### 3.5 Приведите возможные причины появления пропусков в исходных данных."
   ]
  },
  {
   "cell_type": "markdown",
   "id": "3697d2a9",
   "metadata": {
    "deletable": false,
    "id": "3697d2a9"
   },
   "source": [
    "*Ответ: общая проблема заключается в вариативности при заполненнии датасета. И в том числе в возможности не предоставлять данные. Решение: жестко обязать заполнять данные в соответствии с шаблоном или выбирать из списка.* "
   ]
  },
  {
   "cell_type": "markdown",
   "id": "939c061e",
   "metadata": {},
   "source": [
    "<div class=\"alert alert-block alert-warning\">\n",
    "<b>Комментарий ревьюера:</b>\n",
    "\n",
    "⚠️ Однако, если пристально взглянуть на на наши данные, то увидим что пропуски в столбцах \"трудовой стаж\" и \"ежемесячный доход\" абсолютно идентичны. Количество ячеек с отсутствующими данными в обоих указанных столбцах совпадает и равно 2174. Почему такое могло возникнуть?"
   ]
  },
  {
   "cell_type": "markdown",
   "id": "0e2e5e28",
   "metadata": {},
   "source": [
    "<div class=\"alert alert-block alert-success\">\n",
    "<b>Комментарий ревьюера:</b>\n",
    "\n",
    "✔️  Маловероятно, что специалисты по выдаче кредитов, заполнив все без исключения ячейки других столбцов по каждому кредитополучателю, оставляли незаполненными именно два показателя, и сделали это ровно 2174 раза в каждом столбце. Даже не проводя проверку, во всех ли случаях незаполненные ячейки находятся в одной и то же строке с высокой долей вероятности можно утверждать, что произошла техническая ошибка при формировании таблицы с исходными данными (либо некий сбой во время выгрузки данных на анализ, либо при объединении данных в единый файл, который также должен был передаваться на анализ, либо эти данные не собирались).\n",
    "</div>"
   ]
  },
  {
   "cell_type": "markdown",
   "id": "3137d257",
   "metadata": {
    "deletable": false,
    "editable": false,
    "id": "3137d257"
   },
   "source": [
    "#### 3.6 Объясните, почему заполнить пропуски медианным значением — лучшее решение для количественных переменных."
   ]
  },
  {
   "cell_type": "markdown",
   "id": "cf40012a",
   "metadata": {
    "deletable": false,
    "id": "cf40012a"
   },
   "source": [
    "*Ответ:Среднее значение некорректно характеризует данные, когда некоторые значения сильно выделяются среди большинства.* "
   ]
  },
  {
   "cell_type": "markdown",
   "id": "bde7ea57",
   "metadata": {},
   "source": [
    "<div class=\"alert alert-block alert-success\">\n",
    "<b>Комментарий ревьюера:</b>\n",
    "\n",
    "✔️ Ответ правильный)) \n",
    "  </div>"
   ]
  },
  {
   "cell_type": "markdown",
   "id": "57bc304e",
   "metadata": {
    "deletable": false,
    "editable": false,
    "id": "57bc304e"
   },
   "source": [
    "### Шаг 4: общий вывод."
   ]
  },
  {
   "cell_type": "markdown",
   "id": "1ab75d1c",
   "metadata": {
    "deletable": false,
    "id": "1ab75d1c"
   },
   "source": [
    "1.люди, которые не имеют детей, лучше всего отдают кредит, доля должников здесь составляет с 7,5%, хуже обстоит дело с должниками, кто имеет одного или двух детей, здесь доля невозврата составляет соответственно 9,2% и 9,4%. Остальные категории уже некорректно сравнивать, так как в них очень маленькая выборка. В итоге можно сказать следующее: повышение количества детей увеличивает вероятность не возврата кредита;\n",
    "2. вероятность возникновения задолжности (mean debt) имеет максимальные показатели  у групп людей: Не женат / не замужем и гражданский брак (9,7% и 9,3% соответственно). Минимальные показатели наблюдаются у группы вдовец / вдова (6,6%). Если же говорить о максимальном количестве людей с задолжностью, то тут в лидерах категория женат / замужем, но в тоже время доля выданных кредитов в этой категории максимальна. Минимальное количество людей с задолжностью в группе вдовец / вдова, но тут и количество кредитов минимальное.\n",
    "Общий вывод такой сеймейные люди имеют средние показатели по возникновениям задолжности, наиболее \"опасной\" категорией людей являются: Не женат / не замужем и гражданский брак;\n",
    "3. Категории A, D и E имеют малую выборку, поэтому их сравнивать не корректно. Среди двух оставшихъся лидером по вероятности появления задолжности является категория C - 8,4%. Также в этой категории максимальные показатели по количеству выданных кредитов и возникших задолжностей;\n",
    "4. по вероятности задолжности наибольшим значением обладает категория операций с автомобилем (9,3%), наименьшей - операции с недвижимостью (7,2%), также в этой категории максимальные показатели по колличеству выданных кредитов и колличеству должников (780 и 10751 соответственно). Скорее всего в категории операции с недвижимостью превалируют кредиты по ипотеке, с залогом в виде приобретаемого имущества. Вероятность остаться без жилья стимулирует многих, но не всех.\n",
    "В данных много пропусков. общая проблема заключается в вариативности при заполненнии датасета. И в том числе в возможности не предоставлять данные. Решение: жестко обязать заполнять данные в соответствии с шаблоном или выбирать из списка.\n",
    "\n"
   ]
  },
  {
   "cell_type": "markdown",
   "id": "4da95fa6",
   "metadata": {},
   "source": [
    " <div class=\"alert alert-block alert-success\">\n",
    "<b>Комментарий ревьюера_V2:</b>\n",
    "\n",
    "✔️ Выводы хорошо переработала, молодец)) Рекомендации даны банку, исследование проведено))<br>\n",
    "Но одним текстом тяжело читается выводы, надо разбивать все по абзацам, вот так вот:\n",
    "- Вывод про детей\n",
    "- Вывод про семейное положение\n",
    "- Так далее\n",
    "\n",
    "    \n",
    "    \n",
    "Я дам тебе ссылки на полезные гайды, которые могут помочь:\n",
    "    \n",
    "<a href=\"https://markdown-guide.readthedocs.io/en/latest/basics.html\">guide1.</a>\n",
    "<a href=\"https://paulradzkov.com/2014/markdown_cheatsheet/\">guide2.</a>\n",
    "    \n",
    "А также советую тебе взглянуть на <a href=\"https://www.kaggle.com/notebooks/\">работы</a> профессиональных аналитиков, чтобы оценить, как другие люди оформляют и проводят исследования.\n",
    "</div>"
   ]
  },
  {
   "cell_type": "markdown",
   "id": "a726118c",
   "metadata": {},
   "source": [
    "<div class=\"alert alert-block alert-warning\">\n",
    "<b>Комментарий ревьюера:</b> \n",
    "\n",
    "⚠️ Выводы у тебя обновятся, но в целом мне понравилось, что прям детальные сделал, добавь туда только цифр и акцент на сбалансированости сделай))"
   ]
  },
  {
   "cell_type": "markdown",
   "id": "4c853b5d",
   "metadata": {},
   "source": [
    "<div class=\"alert alert-block alert-success\">\n",
    "<b>Комментарий ревьюера:</b>\n",
    "    \n",
    "Сергей, отлично поработал, видно что умеешь работать с кодом, в общем молодец, но нужно будет оптимизировать код при изучении взаимосвязей и поработать над выводами)) \n",
    "<br> Жду исправленного варианта)\n",
    "  </div>"
   ]
  },
  {
   "cell_type": "markdown",
   "id": "5f4f5b11",
   "metadata": {},
   "source": [
    "Добрый день. Вроде учел замечания."
   ]
  },
  {
   "cell_type": "markdown",
   "id": "da334371",
   "metadata": {},
   "source": [
    "<div class=\"alert alert-block alert-success\">\n",
    "<b>Комментарий ревьюера_V2:</b>\n",
    "    \n",
    "Сергей, отлично поработал, можно двигаться дальше)) Успехов в дальнейшем обучении)) \n",
    "  </div>"
   ]
  }
 ],
 "metadata": {
  "ExecuteTimeLog": [
   {
    "duration": 52,
    "start_time": "2023-03-09T08:14:03.396Z"
   },
   {
    "duration": 541,
    "start_time": "2023-03-09T08:14:12.181Z"
   },
   {
    "duration": 25,
    "start_time": "2023-03-09T08:14:13.223Z"
   },
   {
    "duration": 17,
    "start_time": "2023-03-09T08:14:14.261Z"
   },
   {
    "duration": 12,
    "start_time": "2023-03-09T08:14:16.181Z"
   },
   {
    "duration": 38,
    "start_time": "2023-03-09T08:14:17.253Z"
   },
   {
    "duration": 4,
    "start_time": "2023-03-09T08:14:18.799Z"
   },
   {
    "duration": 10,
    "start_time": "2023-03-09T08:14:19.918Z"
   },
   {
    "duration": 5,
    "start_time": "2023-03-09T08:14:21.382Z"
   },
   {
    "duration": 8,
    "start_time": "2023-03-09T08:14:22.357Z"
   },
   {
    "duration": 6,
    "start_time": "2023-03-09T08:14:23.368Z"
   },
   {
    "duration": 36,
    "start_time": "2023-03-09T08:14:24.894Z"
   },
   {
    "duration": 17,
    "start_time": "2023-03-09T08:14:25.941Z"
   },
   {
    "duration": 4,
    "start_time": "2023-03-09T08:14:27.573Z"
   },
   {
    "duration": 13,
    "start_time": "2023-03-09T08:14:29.114Z"
   },
   {
    "duration": 22,
    "start_time": "2023-03-09T08:14:30.167Z"
   },
   {
    "duration": 20,
    "start_time": "2023-03-09T08:14:30.793Z"
   },
   {
    "duration": 3,
    "start_time": "2023-03-09T08:14:32.389Z"
   },
   {
    "duration": 10,
    "start_time": "2023-03-09T08:14:33.950Z"
   },
   {
    "duration": 8,
    "start_time": "2023-03-09T08:14:35.221Z"
   },
   {
    "duration": 3,
    "start_time": "2023-03-09T08:14:36.310Z"
   },
   {
    "duration": 9,
    "start_time": "2023-03-09T08:14:36.879Z"
   },
   {
    "duration": 4,
    "start_time": "2023-03-09T08:14:38.531Z"
   },
   {
    "duration": 2,
    "start_time": "2023-03-09T08:14:40.846Z"
   },
   {
    "duration": 6,
    "start_time": "2023-03-09T08:15:00.273Z"
   },
   {
    "duration": 21,
    "start_time": "2023-03-09T08:23:28.856Z"
   },
   {
    "duration": 12,
    "start_time": "2023-03-09T08:23:36.714Z"
   },
   {
    "duration": 26,
    "start_time": "2023-03-09T08:25:42.258Z"
   },
   {
    "duration": 36,
    "start_time": "2023-03-09T13:04:44.504Z"
   },
   {
    "duration": 45,
    "start_time": "2023-03-09T13:05:27.959Z"
   },
   {
    "duration": 34,
    "start_time": "2023-03-09T13:05:58.774Z"
   },
   {
    "duration": 60,
    "start_time": "2023-03-10T07:44:46.303Z"
   },
   {
    "duration": 713,
    "start_time": "2023-03-10T07:45:13.860Z"
   },
   {
    "duration": 22,
    "start_time": "2023-03-10T07:45:16.309Z"
   },
   {
    "duration": 15,
    "start_time": "2023-03-10T07:45:18.068Z"
   },
   {
    "duration": 10,
    "start_time": "2023-03-10T07:45:20.571Z"
   },
   {
    "duration": 35,
    "start_time": "2023-03-10T07:45:21.676Z"
   },
   {
    "duration": 3,
    "start_time": "2023-03-10T07:45:23.469Z"
   },
   {
    "duration": 8,
    "start_time": "2023-03-10T07:45:24.948Z"
   },
   {
    "duration": 5,
    "start_time": "2023-03-10T07:45:27.476Z"
   },
   {
    "duration": 7,
    "start_time": "2023-03-10T07:45:28.916Z"
   },
   {
    "duration": 4,
    "start_time": "2023-03-10T07:45:30.290Z"
   },
   {
    "duration": 34,
    "start_time": "2023-03-10T07:45:32.267Z"
   },
   {
    "duration": 10,
    "start_time": "2023-03-10T07:45:33.531Z"
   },
   {
    "duration": 4,
    "start_time": "2023-03-10T07:45:35.707Z"
   },
   {
    "duration": 14,
    "start_time": "2023-03-10T07:45:37.421Z"
   },
   {
    "duration": 21,
    "start_time": "2023-03-10T07:45:38.539Z"
   },
   {
    "duration": 18,
    "start_time": "2023-03-10T07:45:39.043Z"
   },
   {
    "duration": 3,
    "start_time": "2023-03-10T07:45:40.803Z"
   },
   {
    "duration": 11,
    "start_time": "2023-03-10T07:45:41.412Z"
   },
   {
    "duration": 6,
    "start_time": "2023-03-10T07:45:42.637Z"
   },
   {
    "duration": 3,
    "start_time": "2023-03-10T07:45:43.956Z"
   },
   {
    "duration": 9,
    "start_time": "2023-03-10T07:45:44.571Z"
   },
   {
    "duration": 24,
    "start_time": "2023-03-10T07:45:46.266Z"
   },
   {
    "duration": 23,
    "start_time": "2023-03-10T07:46:35.228Z"
   },
   {
    "duration": 24,
    "start_time": "2023-03-10T07:47:15.406Z"
   },
   {
    "duration": 22,
    "start_time": "2023-03-10T07:47:18.002Z"
   },
   {
    "duration": 23,
    "start_time": "2023-03-10T07:47:40.156Z"
   },
   {
    "duration": 66,
    "start_time": "2023-03-10T07:48:16.420Z"
   },
   {
    "duration": 22,
    "start_time": "2023-03-10T07:48:31.246Z"
   },
   {
    "duration": 23,
    "start_time": "2023-03-10T07:48:36.269Z"
   },
   {
    "duration": 24,
    "start_time": "2023-03-10T07:48:40.973Z"
   },
   {
    "duration": 29,
    "start_time": "2023-03-10T07:49:00.412Z"
   },
   {
    "duration": 27,
    "start_time": "2023-03-10T07:49:08.806Z"
   },
   {
    "duration": 23,
    "start_time": "2023-03-10T07:49:13.229Z"
   },
   {
    "duration": 25,
    "start_time": "2023-03-10T07:54:00.949Z"
   },
   {
    "duration": 28,
    "start_time": "2023-03-10T07:54:12.352Z"
   },
   {
    "duration": 29,
    "start_time": "2023-03-10T07:54:55.594Z"
   },
   {
    "duration": 28,
    "start_time": "2023-03-10T08:18:02.188Z"
   },
   {
    "duration": 28,
    "start_time": "2023-03-10T08:18:05.271Z"
   },
   {
    "duration": 26,
    "start_time": "2023-03-10T08:18:13.359Z"
   },
   {
    "duration": 29,
    "start_time": "2023-03-10T08:18:27.609Z"
   },
   {
    "duration": 40,
    "start_time": "2023-03-10T11:42:51.547Z"
   },
   {
    "duration": 27,
    "start_time": "2023-03-10T11:42:59.100Z"
   },
   {
    "duration": 35,
    "start_time": "2023-03-10T11:43:04.204Z"
   },
   {
    "duration": 25,
    "start_time": "2023-03-10T11:43:06.019Z"
   },
   {
    "duration": 36,
    "start_time": "2023-03-10T11:43:44.684Z"
   },
   {
    "duration": 46,
    "start_time": "2023-03-10T11:43:58.692Z"
   },
   {
    "duration": 27,
    "start_time": "2023-03-10T11:44:22.972Z"
   },
   {
    "duration": 47,
    "start_time": "2023-03-10T11:44:37.524Z"
   },
   {
    "duration": 680,
    "start_time": "2024-04-11T17:58:34.197Z"
   },
   {
    "duration": 25,
    "start_time": "2024-04-11T17:58:34.879Z"
   },
   {
    "duration": 18,
    "start_time": "2024-04-11T17:58:34.905Z"
   },
   {
    "duration": 12,
    "start_time": "2024-04-11T17:58:34.924Z"
   },
   {
    "duration": 65,
    "start_time": "2024-04-11T17:58:34.938Z"
   },
   {
    "duration": 4,
    "start_time": "2024-04-11T17:58:35.005Z"
   },
   {
    "duration": 22,
    "start_time": "2024-04-11T17:58:35.010Z"
   },
   {
    "duration": 8,
    "start_time": "2024-04-11T17:58:35.034Z"
   },
   {
    "duration": 9,
    "start_time": "2024-04-11T17:58:35.044Z"
   },
   {
    "duration": 4,
    "start_time": "2024-04-11T17:58:35.055Z"
   },
   {
    "duration": 49,
    "start_time": "2024-04-11T17:58:35.060Z"
   },
   {
    "duration": 10,
    "start_time": "2024-04-11T17:58:35.111Z"
   },
   {
    "duration": 16,
    "start_time": "2024-04-11T17:58:35.123Z"
   },
   {
    "duration": 12,
    "start_time": "2024-04-11T17:58:35.142Z"
   },
   {
    "duration": 29,
    "start_time": "2024-04-11T17:58:35.156Z"
   },
   {
    "duration": 17,
    "start_time": "2024-04-11T17:58:35.186Z"
   },
   {
    "duration": 3,
    "start_time": "2024-04-11T17:58:35.205Z"
   },
   {
    "duration": 17,
    "start_time": "2024-04-11T17:58:35.210Z"
   },
   {
    "duration": 14,
    "start_time": "2024-04-11T17:58:35.229Z"
   },
   {
    "duration": 18,
    "start_time": "2024-04-11T17:58:35.244Z"
   },
   {
    "duration": 46,
    "start_time": "2024-04-11T17:58:35.264Z"
   },
   {
    "duration": 34,
    "start_time": "2024-04-11T17:58:35.312Z"
   },
   {
    "duration": 26,
    "start_time": "2024-04-11T17:58:35.347Z"
   },
   {
    "duration": 32,
    "start_time": "2024-04-11T17:58:35.374Z"
   },
   {
    "duration": 27,
    "start_time": "2024-04-11T17:58:35.407Z"
   },
   {
    "duration": 73,
    "start_time": "2024-04-11T17:58:35.436Z"
   },
   {
    "duration": 83,
    "start_time": "2024-04-11T17:59:22.432Z"
   },
   {
    "duration": 18,
    "start_time": "2024-04-11T17:59:22.517Z"
   },
   {
    "duration": 16,
    "start_time": "2024-04-11T17:59:22.537Z"
   },
   {
    "duration": 33,
    "start_time": "2024-04-11T17:59:22.555Z"
   },
   {
    "duration": 47,
    "start_time": "2024-04-11T17:59:22.590Z"
   },
   {
    "duration": 4,
    "start_time": "2024-04-11T17:59:22.639Z"
   },
   {
    "duration": 13,
    "start_time": "2024-04-11T17:59:22.645Z"
   },
   {
    "duration": 23,
    "start_time": "2024-04-11T17:59:22.660Z"
   },
   {
    "duration": 7,
    "start_time": "2024-04-11T17:59:22.684Z"
   },
   {
    "duration": 5,
    "start_time": "2024-04-11T17:59:22.693Z"
   },
   {
    "duration": 45,
    "start_time": "2024-04-11T17:59:22.700Z"
   },
   {
    "duration": 33,
    "start_time": "2024-04-11T17:59:22.747Z"
   },
   {
    "duration": 3,
    "start_time": "2024-04-11T17:59:22.782Z"
   },
   {
    "duration": 13,
    "start_time": "2024-04-11T17:59:22.788Z"
   },
   {
    "duration": 23,
    "start_time": "2024-04-11T17:59:22.802Z"
   },
   {
    "duration": 18,
    "start_time": "2024-04-11T17:59:22.827Z"
   },
   {
    "duration": 4,
    "start_time": "2024-04-11T17:59:22.846Z"
   },
   {
    "duration": 34,
    "start_time": "2024-04-11T17:59:22.851Z"
   },
   {
    "duration": 13,
    "start_time": "2024-04-11T17:59:22.886Z"
   },
   {
    "duration": 21,
    "start_time": "2024-04-11T17:59:22.901Z"
   },
   {
    "duration": 10,
    "start_time": "2024-04-11T17:59:22.924Z"
   },
   {
    "duration": 25,
    "start_time": "2024-04-11T17:59:22.936Z"
   },
   {
    "duration": 32,
    "start_time": "2024-04-11T17:59:22.962Z"
   },
   {
    "duration": 24,
    "start_time": "2024-04-11T17:59:22.995Z"
   },
   {
    "duration": 26,
    "start_time": "2024-04-11T17:59:23.020Z"
   }
  ],
  "colab": {
   "provenance": []
  },
  "kernelspec": {
   "display_name": "Python 3",
   "language": "python",
   "name": "python3"
  },
  "language_info": {
   "codemirror_mode": {
    "name": "ipython",
    "version": 3
   },
   "file_extension": ".py",
   "mimetype": "text/x-python",
   "name": "python",
   "nbconvert_exporter": "python",
   "pygments_lexer": "ipython3",
   "version": "3.8.8"
  },
  "toc": {
   "base_numbering": 1,
   "nav_menu": {},
   "number_sections": true,
   "sideBar": true,
   "skip_h1_title": true,
   "title_cell": "Table of Contents",
   "title_sidebar": "Contents",
   "toc_cell": false,
   "toc_position": {},
   "toc_section_display": true,
   "toc_window_display": false
  }
 },
 "nbformat": 4,
 "nbformat_minor": 5
}
