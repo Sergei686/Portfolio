{
 "cells": [
  {
   "cell_type": "markdown",
   "id": "3091072f",
   "metadata": {},
   "source": [
    "# Сервис аренды самокатов"
   ]
  },
  {
   "cell_type": "markdown",
   "id": "4a6cd349",
   "metadata": {},
   "source": [
    "Задача проверить гипотезы:\n",
    "1 Важно понять, тратят ли пользователи с подпиской больше времени на поездки? Если да, то пользователи с подпиской могут быть «выгоднее» для компании. \n",
    "2 Расстояние одной поездки в 3130 метров — оптимальное с точки зрения износа самоката. Можно ли сказать, что среднее расстояние, которое проезжают пользователи с подпиской за одну поездку, не превышает 3130 метров?\n",
    "3 Проверьте гипотезу о том, будет ли помесячная выручка от пользователей с подпиской по месяцам выше, чем выручка от пользователей без подписки.\n",
    "4 Представьте такую ситуацию: техническая команда сервиса обновила сервера, с которыми взаимодействует мобильное приложение. Она надеется, что из-за этого количество обращений в техподдержку значимо снизилось. Некоторый файл содержит для каждого пользователя данные о количестве обращений до обновления и после него. Какой тест вам понадобился бы для проверки этой гипотезы?"
   ]
  },
  {
   "cell_type": "code",
   "execution_count": 1,
   "id": "a75fdb39",
   "metadata": {},
   "outputs": [],
   "source": [
    "# Импорт библиотек\n",
    "import numpy as np\n",
    "import pandas as pd\n",
    "import matplotlib.pyplot as plt\n",
    "import seaborn as sns\n",
    "import plotly.express as px\n",
    "from plotly import graph_objects as go\n",
    "import json\n",
    "import re\n",
    "from scipy.stats import ttest_ind\n",
    "import scipy.stats as stats\n",
    "from scipy.stats import ttest_1samp\n",
    "from math import factorial"
   ]
  },
  {
   "cell_type": "markdown",
   "id": "99efb844",
   "metadata": {},
   "source": [
    "---------------------------------------------------------------------------------------------------------------------------"
   ]
  },
  {
   "cell_type": "markdown",
   "id": "c3449d41",
   "metadata": {},
   "source": [
    "# Загрузка данных"
   ]
  },
  {
   "cell_type": "code",
   "execution_count": 2,
   "id": "d9abb80e",
   "metadata": {},
   "outputs": [],
   "source": [
    "# Загрузка датафрейма\n",
    "\n",
    "users = pd.read_csv(\"/datasets/users_go.csv\")\n",
    "\n",
    "rides = pd.read_csv(\"/datasets/rides_go.csv\", parse_dates=['date'])\n",
    "\n",
    "subscriptions = pd.read_csv(\"/datasets/subscriptions_go.csv\")\n"
   ]
  },
  {
   "cell_type": "code",
   "execution_count": 3,
   "id": "b76d4bea",
   "metadata": {},
   "outputs": [
    {
     "data": {
      "text/html": [
       "<div>\n",
       "<style scoped>\n",
       "    .dataframe tbody tr th:only-of-type {\n",
       "        vertical-align: middle;\n",
       "    }\n",
       "\n",
       "    .dataframe tbody tr th {\n",
       "        vertical-align: top;\n",
       "    }\n",
       "\n",
       "    .dataframe thead th {\n",
       "        text-align: right;\n",
       "    }\n",
       "</style>\n",
       "<table border=\"1\" class=\"dataframe\">\n",
       "  <thead>\n",
       "    <tr style=\"text-align: right;\">\n",
       "      <th></th>\n",
       "      <th>user_id</th>\n",
       "      <th>name</th>\n",
       "      <th>age</th>\n",
       "      <th>city</th>\n",
       "      <th>subscription_type</th>\n",
       "    </tr>\n",
       "  </thead>\n",
       "  <tbody>\n",
       "    <tr>\n",
       "      <th>0</th>\n",
       "      <td>1</td>\n",
       "      <td>Кира</td>\n",
       "      <td>22</td>\n",
       "      <td>Тюмень</td>\n",
       "      <td>ultra</td>\n",
       "    </tr>\n",
       "    <tr>\n",
       "      <th>1</th>\n",
       "      <td>2</td>\n",
       "      <td>Станислав</td>\n",
       "      <td>31</td>\n",
       "      <td>Омск</td>\n",
       "      <td>ultra</td>\n",
       "    </tr>\n",
       "    <tr>\n",
       "      <th>2</th>\n",
       "      <td>3</td>\n",
       "      <td>Алексей</td>\n",
       "      <td>20</td>\n",
       "      <td>Москва</td>\n",
       "      <td>ultra</td>\n",
       "    </tr>\n",
       "    <tr>\n",
       "      <th>3</th>\n",
       "      <td>4</td>\n",
       "      <td>Константин</td>\n",
       "      <td>26</td>\n",
       "      <td>Ростов-на-Дону</td>\n",
       "      <td>ultra</td>\n",
       "    </tr>\n",
       "    <tr>\n",
       "      <th>4</th>\n",
       "      <td>5</td>\n",
       "      <td>Адель</td>\n",
       "      <td>28</td>\n",
       "      <td>Омск</td>\n",
       "      <td>ultra</td>\n",
       "    </tr>\n",
       "  </tbody>\n",
       "</table>\n",
       "</div>"
      ],
      "text/plain": [
       "   user_id        name  age            city subscription_type\n",
       "0        1        Кира   22          Тюмень             ultra\n",
       "1        2   Станислав   31            Омск             ultra\n",
       "2        3     Алексей   20          Москва             ultra\n",
       "3        4  Константин   26  Ростов-на-Дону             ultra\n",
       "4        5       Адель   28            Омск             ultra"
      ]
     },
     "execution_count": 3,
     "metadata": {},
     "output_type": "execute_result"
    }
   ],
   "source": [
    "users.head()"
   ]
  },
  {
   "cell_type": "code",
   "execution_count": 4,
   "id": "4a0b6dec",
   "metadata": {},
   "outputs": [
    {
     "data": {
      "text/html": [
       "<div>\n",
       "<style scoped>\n",
       "    .dataframe tbody tr th:only-of-type {\n",
       "        vertical-align: middle;\n",
       "    }\n",
       "\n",
       "    .dataframe tbody tr th {\n",
       "        vertical-align: top;\n",
       "    }\n",
       "\n",
       "    .dataframe thead th {\n",
       "        text-align: right;\n",
       "    }\n",
       "</style>\n",
       "<table border=\"1\" class=\"dataframe\">\n",
       "  <thead>\n",
       "    <tr style=\"text-align: right;\">\n",
       "      <th></th>\n",
       "      <th>user_id</th>\n",
       "      <th>distance</th>\n",
       "      <th>duration</th>\n",
       "      <th>date</th>\n",
       "    </tr>\n",
       "  </thead>\n",
       "  <tbody>\n",
       "    <tr>\n",
       "      <th>0</th>\n",
       "      <td>1</td>\n",
       "      <td>4409.919140</td>\n",
       "      <td>25.599769</td>\n",
       "      <td>2021-01-01</td>\n",
       "    </tr>\n",
       "    <tr>\n",
       "      <th>1</th>\n",
       "      <td>1</td>\n",
       "      <td>2617.592153</td>\n",
       "      <td>15.816871</td>\n",
       "      <td>2021-01-18</td>\n",
       "    </tr>\n",
       "    <tr>\n",
       "      <th>2</th>\n",
       "      <td>1</td>\n",
       "      <td>754.159807</td>\n",
       "      <td>6.232113</td>\n",
       "      <td>2021-04-20</td>\n",
       "    </tr>\n",
       "    <tr>\n",
       "      <th>3</th>\n",
       "      <td>1</td>\n",
       "      <td>2694.783254</td>\n",
       "      <td>18.511000</td>\n",
       "      <td>2021-08-11</td>\n",
       "    </tr>\n",
       "    <tr>\n",
       "      <th>4</th>\n",
       "      <td>1</td>\n",
       "      <td>4028.687306</td>\n",
       "      <td>26.265803</td>\n",
       "      <td>2021-08-28</td>\n",
       "    </tr>\n",
       "  </tbody>\n",
       "</table>\n",
       "</div>"
      ],
      "text/plain": [
       "   user_id     distance   duration       date\n",
       "0        1  4409.919140  25.599769 2021-01-01\n",
       "1        1  2617.592153  15.816871 2021-01-18\n",
       "2        1   754.159807   6.232113 2021-04-20\n",
       "3        1  2694.783254  18.511000 2021-08-11\n",
       "4        1  4028.687306  26.265803 2021-08-28"
      ]
     },
     "execution_count": 4,
     "metadata": {},
     "output_type": "execute_result"
    }
   ],
   "source": [
    "rides.head()"
   ]
  },
  {
   "cell_type": "code",
   "execution_count": 5,
   "id": "2b54463e",
   "metadata": {},
   "outputs": [
    {
     "data": {
      "text/html": [
       "<div>\n",
       "<style scoped>\n",
       "    .dataframe tbody tr th:only-of-type {\n",
       "        vertical-align: middle;\n",
       "    }\n",
       "\n",
       "    .dataframe tbody tr th {\n",
       "        vertical-align: top;\n",
       "    }\n",
       "\n",
       "    .dataframe thead th {\n",
       "        text-align: right;\n",
       "    }\n",
       "</style>\n",
       "<table border=\"1\" class=\"dataframe\">\n",
       "  <thead>\n",
       "    <tr style=\"text-align: right;\">\n",
       "      <th></th>\n",
       "      <th>subscription_type</th>\n",
       "      <th>minute_price</th>\n",
       "      <th>start_ride_price</th>\n",
       "      <th>subscription_fee</th>\n",
       "    </tr>\n",
       "  </thead>\n",
       "  <tbody>\n",
       "    <tr>\n",
       "      <th>0</th>\n",
       "      <td>free</td>\n",
       "      <td>8</td>\n",
       "      <td>50</td>\n",
       "      <td>0</td>\n",
       "    </tr>\n",
       "    <tr>\n",
       "      <th>1</th>\n",
       "      <td>ultra</td>\n",
       "      <td>6</td>\n",
       "      <td>0</td>\n",
       "      <td>199</td>\n",
       "    </tr>\n",
       "  </tbody>\n",
       "</table>\n",
       "</div>"
      ],
      "text/plain": [
       "  subscription_type  minute_price  start_ride_price  subscription_fee\n",
       "0              free             8                50                 0\n",
       "1             ultra             6                 0               199"
      ]
     },
     "execution_count": 5,
     "metadata": {},
     "output_type": "execute_result"
    }
   ],
   "source": [
    "subscriptions.head()"
   ]
  },
  {
   "cell_type": "markdown",
   "id": "fe0da5f4",
   "metadata": {},
   "source": [
    "Выводы по разделу:\n",
    "Данных достаточно, нужно проверить дубликаты и выбросы, перевести в формат даты столбец date, выделить из даты месяц."
   ]
  },
  {
   "cell_type": "markdown",
   "id": "338a3de2",
   "metadata": {},
   "source": [
    "---------------------------------------------------------------------------------------------------------------------------"
   ]
  },
  {
   "cell_type": "markdown",
   "id": "73fc2a09",
   "metadata": {},
   "source": [
    "# Предобработка данных"
   ]
  },
  {
   "cell_type": "code",
   "execution_count": 7,
   "id": "335b848d",
   "metadata": {},
   "outputs": [
    {
     "name": "stdout",
     "output_type": "stream",
     "text": [
      "<class 'pandas.core.frame.DataFrame'>\n",
      "RangeIndex: 18068 entries, 0 to 18067\n",
      "Data columns (total 4 columns):\n",
      " #   Column    Non-Null Count  Dtype         \n",
      "---  ------    --------------  -----         \n",
      " 0   user_id   18068 non-null  int64         \n",
      " 1   distance  18068 non-null  float64       \n",
      " 2   duration  18068 non-null  float64       \n",
      " 3   date      18068 non-null  datetime64[ns]\n",
      "dtypes: datetime64[ns](1), float64(2), int64(1)\n",
      "memory usage: 564.8 KB\n"
     ]
    }
   ],
   "source": [
    "rides.info()"
   ]
  },
  {
   "cell_type": "code",
   "execution_count": 8,
   "id": "297df52a",
   "metadata": {},
   "outputs": [
    {
     "data": {
      "text/plain": [
       "0         1\n",
       "1         1\n",
       "2         4\n",
       "3         8\n",
       "4         8\n",
       "         ..\n",
       "18063    11\n",
       "18064    11\n",
       "18065    11\n",
       "18066    11\n",
       "18067    12\n",
       "Name: month, Length: 18068, dtype: int64"
      ]
     },
     "execution_count": 8,
     "metadata": {},
     "output_type": "execute_result"
    }
   ],
   "source": [
    "# выделим месяц в отдельный столбец\n",
    "rides['month']=pd.DatetimeIndex(rides['date']).month\n",
    "rides['month']"
   ]
  },
  {
   "cell_type": "markdown",
   "id": "82729733",
   "metadata": {},
   "source": [
    "В таблице rides пропусков нет"
   ]
  },
  {
   "cell_type": "code",
   "execution_count": 9,
   "id": "ca7209ca",
   "metadata": {},
   "outputs": [
    {
     "name": "stdout",
     "output_type": "stream",
     "text": [
      "<class 'pandas.core.frame.DataFrame'>\n",
      "RangeIndex: 2 entries, 0 to 1\n",
      "Data columns (total 4 columns):\n",
      " #   Column             Non-Null Count  Dtype \n",
      "---  ------             --------------  ----- \n",
      " 0   subscription_type  2 non-null      object\n",
      " 1   minute_price       2 non-null      int64 \n",
      " 2   start_ride_price   2 non-null      int64 \n",
      " 3   subscription_fee   2 non-null      int64 \n",
      "dtypes: int64(3), object(1)\n",
      "memory usage: 192.0+ bytes\n"
     ]
    }
   ],
   "source": [
    "subscriptions.info()"
   ]
  },
  {
   "cell_type": "code",
   "execution_count": 10,
   "id": "4da21c2e",
   "metadata": {},
   "outputs": [
    {
     "name": "stdout",
     "output_type": "stream",
     "text": [
      "<class 'pandas.core.frame.DataFrame'>\n",
      "RangeIndex: 1565 entries, 0 to 1564\n",
      "Data columns (total 5 columns):\n",
      " #   Column             Non-Null Count  Dtype \n",
      "---  ------             --------------  ----- \n",
      " 0   user_id            1565 non-null   int64 \n",
      " 1   name               1565 non-null   object\n",
      " 2   age                1565 non-null   int64 \n",
      " 3   city               1565 non-null   object\n",
      " 4   subscription_type  1565 non-null   object\n",
      "dtypes: int64(2), object(3)\n",
      "memory usage: 61.3+ KB\n"
     ]
    }
   ],
   "source": [
    "users.info()"
   ]
  },
  {
   "cell_type": "markdown",
   "id": "0ac8d484",
   "metadata": {},
   "source": [
    "Пропусков в таблицах не вижу"
   ]
  },
  {
   "cell_type": "code",
   "execution_count": 11,
   "id": "6f05de6b",
   "metadata": {},
   "outputs": [],
   "source": [
    "# ищем полные дубли"
   ]
  },
  {
   "cell_type": "code",
   "execution_count": 12,
   "id": "df90c9a2",
   "metadata": {},
   "outputs": [
    {
     "name": "stdout",
     "output_type": "stream",
     "text": [
      "1565\n",
      "31\n",
      "      user_id            city subscription_type      name\n",
      "15         16       Краснодар             ultra    Амалия\n",
      "42         43            Омск             ultra  Стефания\n",
      "46         47          Тюмень             ultra      Юрий\n",
      "71         72          Москва             ultra    Никита\n",
      "107       108          Тюмень             ultra     Влада\n",
      "...       ...             ...               ...       ...\n",
      "1560      829       Пятигорск              free     Федор\n",
      "1561      809            Сочи              free      Юрий\n",
      "1562      307       Краснодар             ultra    Ясмина\n",
      "1563       47          Тюмень             ultra      Юрий\n",
      "1564     1045  Ростов-на-Дону              free   Артемий\n",
      "\n",
      "[62 rows x 4 columns]\n"
     ]
    },
    {
     "data": {
      "text/plain": [
       "1534"
      ]
     },
     "metadata": {},
     "output_type": "display_data"
    }
   ],
   "source": [
    "print(users.shape[0])\n",
    "print(users.duplicated(subset=['user_id', 'city', 'subscription_type', 'name']).sum())\n",
    "\n",
    "print(users[users.duplicated(subset=['user_id', 'city', 'subscription_type', 'name'], keep=False)]\n",
    "      [['user_id', 'city', 'subscription_type', 'name']])\n",
    "users = users.drop_duplicates(subset=['user_id', 'city', 'subscription_type', 'name'], keep='first')\n",
    "display(users.shape[0])"
   ]
  },
  {
   "cell_type": "code",
   "execution_count": 13,
   "id": "682de203",
   "metadata": {},
   "outputs": [
    {
     "name": "stdout",
     "output_type": "stream",
     "text": [
      "2\n",
      "0\n",
      "Empty DataFrame\n",
      "Columns: [subscription_type, minute_price, start_ride_price, subscription_fee]\n",
      "Index: []\n"
     ]
    },
    {
     "data": {
      "text/plain": [
       "2"
      ]
     },
     "metadata": {},
     "output_type": "display_data"
    }
   ],
   "source": [
    "print(subscriptions.shape[0])\n",
    "print(subscriptions.duplicated(subset=['subscription_type', 'minute_price', 'start_ride_price', 'subscription_fee']).sum())\n",
    "\n",
    "print(subscriptions[subscriptions.duplicated(subset=['subscription_type', 'minute_price', 'start_ride_price', 'subscription_fee'],\n",
    "                                             keep=False)]\n",
    "      [['subscription_type', 'minute_price', 'start_ride_price', 'subscription_fee']])\n",
    "subscriptions = subscriptions.drop_duplicates(subset=['subscription_type', 'minute_price', 'start_ride_price', 'subscription_fee'], keep='first')\n",
    "display(subscriptions.shape[0])"
   ]
  },
  {
   "cell_type": "code",
   "execution_count": 14,
   "id": "4513f8ca",
   "metadata": {},
   "outputs": [
    {
     "name": "stdout",
     "output_type": "stream",
     "text": [
      "18068\n",
      "0\n",
      "Empty DataFrame\n",
      "Columns: [user_id, distance, duration, date]\n",
      "Index: []\n"
     ]
    },
    {
     "data": {
      "text/plain": [
       "18068"
      ]
     },
     "metadata": {},
     "output_type": "display_data"
    }
   ],
   "source": [
    "print(rides.shape[0])\n",
    "print(rides.duplicated(subset=['user_id', 'distance', 'duration', 'date']).sum())\n",
    "\n",
    "print(rides[rides.duplicated(subset=['user_id', 'distance', 'duration', 'date'], keep=False)]\n",
    "      [['user_id', 'distance', 'duration', 'date']])\n",
    "rides = rides.drop_duplicates(subset=['user_id', 'distance', 'duration', 'date'], keep='first')\n",
    "display(rides.shape[0])"
   ]
  },
  {
   "cell_type": "markdown",
   "id": "9da893e1",
   "metadata": {},
   "source": [
    "С явными дублями разобрались"
   ]
  },
  {
   "cell_type": "code",
   "execution_count": 15,
   "id": "f715e84f",
   "metadata": {},
   "outputs": [
    {
     "data": {
      "text/plain": [
       "<Figure size 7200x576 with 0 Axes>"
      ]
     },
     "metadata": {},
     "output_type": "display_data"
    },
    {
     "data": {
      "image/png": "[encoded data removed]",
      "text/plain": [
       "<Figure size 360x360 with 1 Axes>"
      ]
     },
     "metadata": {
      "needs_background": "light"
     },
     "output_type": "display_data"
    }
   ],
   "source": [
    "plt.figure(figsize=(100, 8))\n",
    "sns.displot (users['age'], kde= True )\n",
    "plt.title(\"распределение возраста\")\n",
    "plt.xlabel(\"возраст\")\n",
    "plt.ylabel(\"количество\")\n",
    "plt.show()"
   ]
  },
  {
   "cell_type": "markdown",
   "id": "2c73e4c9",
   "metadata": {},
   "source": [
    "тут все нормально, выбросов нет"
   ]
  },
  {
   "cell_type": "code",
   "execution_count": 16,
   "id": "c320d315",
   "metadata": {},
   "outputs": [
    {
     "data": {
      "text/plain": [
       "<Figure size 7200x576 with 0 Axes>"
      ]
     },
     "metadata": {},
     "output_type": "display_data"
    },
    {
     "data": {
      "image/png": "[encoded data removed]",
      "text/plain": [
       "<Figure size 360x360 with 1 Axes>"
      ]
     },
     "metadata": {
      "needs_background": "light"
     },
     "output_type": "display_data"
    }
   ],
   "source": [
    "plt.figure(figsize=(100, 8))\n",
    "sns.displot (rides['distance'], kde= True )\n",
    "plt.title(\"распределение расстояния\")\n",
    "plt.xlabel(\"расстояние\")\n",
    "plt.ylabel(\"количество\")\n",
    "plt.show()"
   ]
  },
  {
   "attachments": {
    "download.png": {
     "image/png": "[encoded data removed]"
    }
   },
   "cell_type": "markdown",
   "id": "18a5abf0",
   "metadata": {},
   "source": [
    "Тут есть небольшое отклонение от нормальности. Но с точки зрения пользователя сервисом ситуация, когда одни пользователи перемещаются на короткие, а другие на длинные расстояния, не лишина правды.![download.png](attachment:download.png)"
   ]
  },
  {
   "cell_type": "code",
   "execution_count": 17,
   "id": "91041d7d",
   "metadata": {},
   "outputs": [
    {
     "data": {
      "text/plain": [
       "<Figure size 7200x576 with 0 Axes>"
      ]
     },
     "metadata": {},
     "output_type": "display_data"
    },
    {
     "data": {
      "image/png": "[encoded data removed]",
      "text/plain": [
       "<Figure size 360x360 with 1 Axes>"
      ]
     },
     "metadata": {
      "needs_background": "light"
     },
     "output_type": "display_data"
    }
   ],
   "source": [
    "\n",
    "plt.figure(figsize=(100, 8))\n",
    "sns.displot (rides['duration'], kde= True )\n",
    "plt.title(\"распределение продолжительности катания\")\n",
    "plt.xlabel(\"продолжительность катания\")\n",
    "plt.ylabel(\"количество\")\n",
    "plt.show()"
   ]
  },
  {
   "cell_type": "markdown",
   "id": "9f0625a2",
   "metadata": {},
   "source": [
    "Есть выброс в самом начале, он не значительный , удалим эти данные из сета"
   ]
  },
  {
   "cell_type": "code",
   "execution_count": 18,
   "id": "c3e3a330",
   "metadata": {},
   "outputs": [],
   "source": [
    "rides=rides.loc[rides['duration']>1]"
   ]
  },
  {
   "cell_type": "markdown",
   "id": "877d0d68",
   "metadata": {},
   "source": [
    "Не согласен, т.к. в дальнейшем мы изчаем зависимость продолжительности катания и эти данные могут внести ошибку в расчет среднего значения. А т.к. они не многочисленные, то их отсутствие в расчете не сильно скажется в расчете рентабельности."
   ]
  },
  {
   "cell_type": "markdown",
   "id": "6e775586",
   "metadata": {},
   "source": [
    "Выводы по разделу:\n",
    "Выбросов в данных не много, дубликатов тоже не много, всё провернео и удалено. По типу данных дата приведена к типу datetime, остальные изначально правильные."
   ]
  },
  {
   "cell_type": "markdown",
   "id": "086a62af",
   "metadata": {},
   "source": [
    "---------------------------------------------------------------------------------------------------------------------------"
   ]
  },
  {
   "cell_type": "markdown",
   "id": "b6984995",
   "metadata": {},
   "source": [
    "# Исследовательский анализ данных"
   ]
  },
  {
   "cell_type": "markdown",
   "id": "b67c175f",
   "metadata": {},
   "source": [
    "# Частота встречаемости городов"
   ]
  },
  {
   "cell_type": "code",
   "execution_count": 19,
   "id": "f8b19e2a",
   "metadata": {},
   "outputs": [
    {
     "data": {
      "image/png": "[encoded data removed]",
      "text/plain": [
       "<Figure size 1440x576 with 1 Axes>"
      ]
     },
     "metadata": {
      "needs_background": "light"
     },
     "output_type": "display_data"
    },
    {
     "data": {
      "text/html": [
       "<div>\n",
       "<style scoped>\n",
       "    .dataframe tbody tr th:only-of-type {\n",
       "        vertical-align: middle;\n",
       "    }\n",
       "\n",
       "    .dataframe tbody tr th {\n",
       "        vertical-align: top;\n",
       "    }\n",
       "\n",
       "    .dataframe thead th {\n",
       "        text-align: right;\n",
       "    }\n",
       "</style>\n",
       "<table border=\"1\" class=\"dataframe\">\n",
       "  <thead>\n",
       "    <tr style=\"text-align: right;\">\n",
       "      <th></th>\n",
       "      <th>user_id</th>\n",
       "    </tr>\n",
       "    <tr>\n",
       "      <th>city</th>\n",
       "      <th></th>\n",
       "    </tr>\n",
       "  </thead>\n",
       "  <tbody>\n",
       "    <tr>\n",
       "      <th>Пятигорск</th>\n",
       "      <td>219</td>\n",
       "    </tr>\n",
       "    <tr>\n",
       "      <th>Екатеринбург</th>\n",
       "      <td>204</td>\n",
       "    </tr>\n",
       "    <tr>\n",
       "      <th>Ростов-на-Дону</th>\n",
       "      <td>198</td>\n",
       "    </tr>\n",
       "    <tr>\n",
       "      <th>Краснодар</th>\n",
       "      <td>193</td>\n",
       "    </tr>\n",
       "    <tr>\n",
       "      <th>Сочи</th>\n",
       "      <td>189</td>\n",
       "    </tr>\n",
       "  </tbody>\n",
       "</table>\n",
       "</div>"
      ],
      "text/plain": [
       "                user_id\n",
       "city                   \n",
       "Пятигорск           219\n",
       "Екатеринбург        204\n",
       "Ростов-на-Дону      198\n",
       "Краснодар           193\n",
       "Сочи                189"
      ]
     },
     "execution_count": 19,
     "metadata": {},
     "output_type": "execute_result"
    }
   ],
   "source": [
    "pivot = users.pivot_table(index=['city'], values=['user_id'], aggfunc='count').sort_values(by=['user_id'], ascending=False)\n",
    "pivot.plot(y = 'user_id', kind='bar', figsize=(20, 8))\n",
    "plt.xticks(rotation=90)\n",
    "plt.title(\"частота встречаемости городов\")\n",
    "plt.xlabel(\"город\")\n",
    "plt.ylabel(\"количество использований\")\n",
    "plt.show()\n",
    "pivot.head()"
   ]
  },
  {
   "cell_type": "markdown",
   "id": "d387b73e",
   "metadata": {},
   "source": [
    "Очень интерессная картина, тройку городов состоит из Пятигорска, Екатеринбурга и Ростова-на-дону."
   ]
  },
  {
   "cell_type": "markdown",
   "id": "3cbfbcbc",
   "metadata": {},
   "source": [
    "# Cоотношение пользователей с подпиской и без подписки"
   ]
  },
  {
   "cell_type": "code",
   "execution_count": 20,
   "id": "4c0a71ed",
   "metadata": {},
   "outputs": [
    {
     "data": {
      "image/png": "[encoded data removed]",
      "text/plain": [
       "<Figure size 1440x576 with 1 Axes>"
      ]
     },
     "metadata": {
      "needs_background": "light"
     },
     "output_type": "display_data"
    }
   ],
   "source": [
    "pivot = users.pivot_table(index=['subscription_type'], values=['user_id'], aggfunc='count').sort_values(by=['user_id'], ascending=False)\n",
    "pivot.plot(y = 'user_id', kind='bar', figsize=(20, 8))\n",
    "plt.xticks(rotation=90)\n",
    "plt.title(\"соотношение пользователей\")\n",
    "plt.xlabel(\"тип полписки\")\n",
    "plt.ylabel(\"количество пользователей\")\n",
    "plt.show()"
   ]
  },
  {
   "cell_type": "markdown",
   "id": "da11316a",
   "metadata": {},
   "source": [
    "Больше всего \"бесплатных\" пользователей."
   ]
  },
  {
   "cell_type": "code",
   "execution_count": 21,
   "id": "73f57731",
   "metadata": {},
   "outputs": [
    {
     "data": {
      "text/html": [
       "<div>\n",
       "<style scoped>\n",
       "    .dataframe tbody tr th:only-of-type {\n",
       "        vertical-align: middle;\n",
       "    }\n",
       "\n",
       "    .dataframe tbody tr th {\n",
       "        vertical-align: top;\n",
       "    }\n",
       "\n",
       "    .dataframe thead th {\n",
       "        text-align: right;\n",
       "    }\n",
       "</style>\n",
       "<table border=\"1\" class=\"dataframe\">\n",
       "  <thead>\n",
       "    <tr style=\"text-align: right;\">\n",
       "      <th></th>\n",
       "      <th>user_id</th>\n",
       "    </tr>\n",
       "    <tr>\n",
       "      <th>subscription_type</th>\n",
       "      <th></th>\n",
       "    </tr>\n",
       "  </thead>\n",
       "  <tbody>\n",
       "    <tr>\n",
       "      <th>free</th>\n",
       "      <td>835</td>\n",
       "    </tr>\n",
       "    <tr>\n",
       "      <th>ultra</th>\n",
       "      <td>699</td>\n",
       "    </tr>\n",
       "  </tbody>\n",
       "</table>\n",
       "</div>"
      ],
      "text/plain": [
       "                   user_id\n",
       "subscription_type         \n",
       "free                   835\n",
       "ultra                  699"
      ]
     },
     "execution_count": 21,
     "metadata": {},
     "output_type": "execute_result"
    }
   ],
   "source": [
    "pivot"
   ]
  },
  {
   "cell_type": "code",
   "execution_count": 22,
   "id": "f48d4bb9",
   "metadata": {},
   "outputs": [
    {
     "data": {
      "text/html": [
       "<div>\n",
       "<style scoped>\n",
       "    .dataframe tbody tr th:only-of-type {\n",
       "        vertical-align: middle;\n",
       "    }\n",
       "\n",
       "    .dataframe tbody tr th {\n",
       "        vertical-align: top;\n",
       "    }\n",
       "\n",
       "    .dataframe thead th {\n",
       "        text-align: right;\n",
       "    }\n",
       "</style>\n",
       "<table border=\"1\" class=\"dataframe\">\n",
       "  <thead>\n",
       "    <tr style=\"text-align: right;\">\n",
       "      <th></th>\n",
       "      <th>user_id</th>\n",
       "      <th>share</th>\n",
       "    </tr>\n",
       "    <tr>\n",
       "      <th>subscription_type</th>\n",
       "      <th></th>\n",
       "      <th></th>\n",
       "    </tr>\n",
       "  </thead>\n",
       "  <tbody>\n",
       "    <tr>\n",
       "      <th>free</th>\n",
       "      <td>835</td>\n",
       "      <td>54.432855</td>\n",
       "    </tr>\n",
       "    <tr>\n",
       "      <th>ultra</th>\n",
       "      <td>699</td>\n",
       "      <td>45.567145</td>\n",
       "    </tr>\n",
       "  </tbody>\n",
       "</table>\n",
       "</div>"
      ],
      "text/plain": [
       "                   user_id      share\n",
       "subscription_type                    \n",
       "free                   835  54.432855\n",
       "ultra                  699  45.567145"
      ]
     },
     "execution_count": 22,
     "metadata": {},
     "output_type": "execute_result"
    }
   ],
   "source": [
    "#Рассчитаем долю каждой группы\n",
    "pivot['share']=(pivot['user_id']/pivot['user_id'].sum())*100\n",
    "pivot"
   ]
  },
  {
   "cell_type": "code",
   "execution_count": 23,
   "id": "a1dbb011",
   "metadata": {},
   "outputs": [
    {
     "data": {
      "image/png": "[encoded data removed]",
      "text/plain": [
       "<Figure size 1440x576 with 1 Axes>"
      ]
     },
     "metadata": {},
     "output_type": "display_data"
    }
   ],
   "source": [
    "\n",
    "pivot.plot(y = 'share', kind='pie', figsize=(20, 8), autopct='%1.1f%%')\n",
    "plt.xticks(rotation=90)\n",
    "plt.title(\"соотношение пользователей\")\n",
    "plt.xlabel(\"тип полписки\")\n",
    "plt.ylabel(\"количество пользователей\")\n",
    "plt.show()"
   ]
  },
  {
   "cell_type": "markdown",
   "id": "33b3d6e9",
   "metadata": {},
   "source": [
    "Больше всего free пользователей (54,4%), пользователей ultra меньше (46%)"
   ]
  },
  {
   "cell_type": "markdown",
   "id": "ba422d84",
   "metadata": {},
   "source": [
    "# возраст пользователей"
   ]
  },
  {
   "cell_type": "code",
   "execution_count": 24,
   "id": "ec2626c5",
   "metadata": {},
   "outputs": [],
   "source": [
    "#разобьем пользователей на группы\n",
    "def age_group(age):\n",
    "    if age <= 7:\n",
    "        return 'ребенок до 7 лет'\n",
    "    elif 7 < age <= 18:\n",
    "        return 'подросток 7-18 лет'\n",
    "    elif 18 < age <= 45:\n",
    "        return 'средний 18-45 лет'\n",
    "    elif 45 < age <= 60:\n",
    "        return 'предпенсионный 45-60 лет'\n",
    "    elif age > 60:\n",
    "        return 'пенсионер 60 и более'\n",
    "\n",
    "users['age_group'] = users['age'].apply(lambda x: age_group(x))\n",
    "grouped_data = users.groupby('age_group')['user_id'].count()"
   ]
  },
  {
   "cell_type": "code",
   "execution_count": 25,
   "id": "701bdeed",
   "metadata": {},
   "outputs": [
    {
     "data": {
      "image/png": "[encoded data removed]",
      "text/plain": [
       "<Figure size 1440x576 with 1 Axes>"
      ]
     },
     "metadata": {
      "needs_background": "light"
     },
     "output_type": "display_data"
    }
   ],
   "source": [
    "grouped_data.plot(y = 'user_id', kind='bar', figsize=(20, 8))\n",
    "plt.xticks(rotation=90)\n",
    "plt.title(\"соотношение пользователей повозрастным группам\")\n",
    "plt.xlabel(\"возрастная группа\")\n",
    "plt.ylabel(\"количество использований\")\n",
    "plt.show()"
   ]
  },
  {
   "cell_type": "markdown",
   "id": "d43ca2ce",
   "metadata": {},
   "source": [
    "Больше всего катаются люди среднего возраста 18-45 лет."
   ]
  },
  {
   "cell_type": "code",
   "execution_count": 26,
   "id": "2d39bf4f",
   "metadata": {},
   "outputs": [
    {
     "data": {
      "text/plain": [
       "<Figure size 7200x576 with 0 Axes>"
      ]
     },
     "metadata": {},
     "output_type": "display_data"
    },
    {
     "data": {
      "image/png": "[encoded data removed]",
      "text/plain": [
       "<Figure size 360x360 with 1 Axes>"
      ]
     },
     "metadata": {
      "needs_background": "light"
     },
     "output_type": "display_data"
    }
   ],
   "source": [
    "grouped_data1 = users[users['age_group'] == 'средний 18-45 лет']\n",
    "\n",
    "plt.figure(figsize=(100, 8))\n",
    "sns.displot (grouped_data1['age'], kde= True )\n",
    "plt.xticks(rotation=90)\n",
    "plt.title(\"соотношение пользователей в категории 'средний 18-45 лет'\")\n",
    "plt.xlabel(\"тип полписки\")\n",
    "plt.ylabel(\"количество пользователей\")\n",
    "plt.show()\n"
   ]
  },
  {
   "cell_type": "markdown",
   "id": "34a217f0",
   "metadata": {},
   "source": [
    "Больше всего катающихся в возрасте 24-26 лет"
   ]
  },
  {
   "cell_type": "markdown",
   "id": "8d66d7ad",
   "metadata": {},
   "source": [
    "<div class=\"alert alert-warning\">\n",
    "<b>⚠️ Комментарий ревьюера v1:</b> \n",
    "<br>В данном случае после графика ещё можно использовать метод describe() для этого столбца. Так мы сможем увидеть расчет описательных статистик\n",
    "</div>"
   ]
  },
  {
   "cell_type": "markdown",
   "id": "579ff954",
   "metadata": {},
   "source": [
    "# расстояние и длительность одной поездки"
   ]
  },
  {
   "cell_type": "code",
   "execution_count": 27,
   "id": "d8293096",
   "metadata": {},
   "outputs": [
    {
     "data": {
      "text/plain": [
       "count    17973.000000\n",
       "mean        18.394981\n",
       "std          5.979419\n",
       "min          3.000000\n",
       "25%         14.000000\n",
       "50%         18.000000\n",
       "75%         22.000000\n",
       "max         41.000000\n",
       "Name: duration, dtype: float64"
      ]
     },
     "execution_count": 27,
     "metadata": {},
     "output_type": "execute_result"
    }
   ],
   "source": [
    "# каждое значение из столбца duration округляется с помощью «потолка»: \n",
    "rides['duration'] = np.ceil(rides['duration'])\n",
    "rides['duration'].describe()"
   ]
  },
  {
   "cell_type": "code",
   "execution_count": 28,
   "id": "a54e6d53",
   "metadata": {},
   "outputs": [
    {
     "data": {
      "text/plain": [
       "<Figure size 7200x576 with 0 Axes>"
      ]
     },
     "metadata": {},
     "output_type": "display_data"
    },
    {
     "data": {
      "image/png": "[encoded data removed]",
      "text/plain": [
       "<Figure size 360x360 with 1 Axes>"
      ]
     },
     "metadata": {
      "needs_background": "light"
     },
     "output_type": "display_data"
    }
   ],
   "source": [
    "plt.figure(figsize=(100, 8))\n",
    "sns.displot (rides['duration'], kde= True )\n",
    "plt.title(\"продолжительность одной поездки\")\n",
    "plt.xlabel(\"время одной поездки в мин.\")\n",
    "plt.ylabel(\"количество\")\n",
    "plt.show()"
   ]
  },
  {
   "cell_type": "markdown",
   "id": "364c1ab0",
   "metadata": {},
   "source": [
    "В среднем пользователи катаются 18-19 мин"
   ]
  },
  {
   "cell_type": "code",
   "execution_count": 29,
   "id": "befdb8f8",
   "metadata": {},
   "outputs": [
    {
     "data": {
      "text/plain": [
       "<Figure size 7200x576 with 0 Axes>"
      ]
     },
     "metadata": {},
     "output_type": "display_data"
    },
    {
     "data": {
      "image/png": "[encoded data removed]",
      "text/plain": [
       "<Figure size 360x360 with 1 Axes>"
      ]
     },
     "metadata": {
      "needs_background": "light"
     },
     "output_type": "display_data"
    }
   ],
   "source": [
    "plt.figure(figsize=(100, 8))\n",
    "sns.displot (rides['distance'], kde= True )\n",
    "plt.title(\"дистанция одной поездки\")\n",
    "plt.xlabel(\"расстояние одной поездки\")\n",
    "plt.ylabel(\"количество\")\n",
    "plt.show()"
   ]
  },
  {
   "cell_type": "code",
   "execution_count": 30,
   "id": "8d346d8b",
   "metadata": {},
   "outputs": [
    {
     "data": {
      "text/plain": [
       "count    17973.000000\n",
       "mean      3059.863833\n",
       "std       1108.814612\n",
       "min          0.855683\n",
       "25%       2538.839628\n",
       "50%       3129.029255\n",
       "75%       3762.636244\n",
       "max       7066.003772\n",
       "Name: distance, dtype: float64"
      ]
     },
     "execution_count": 30,
     "metadata": {},
     "output_type": "execute_result"
    }
   ],
   "source": [
    "rides['distance'].describe()"
   ]
  },
  {
   "cell_type": "markdown",
   "id": "f1362527",
   "metadata": {},
   "source": [
    "В среднем преодолевают 3060 метров за одну поездку"
   ]
  },
  {
   "cell_type": "markdown",
   "id": "48874e92",
   "metadata": {},
   "source": [
    "---------------------------------------------------------------------------------------------------------------------------"
   ]
  },
  {
   "cell_type": "markdown",
   "id": "0cbf751e",
   "metadata": {},
   "source": [
    "# Объединение данных"
   ]
  },
  {
   "cell_type": "markdown",
   "id": "a2165fb4",
   "metadata": {},
   "source": [
    "Для проведения дальнейшего анализа объединим данные."
   ]
  },
  {
   "cell_type": "code",
   "execution_count": 31,
   "id": "9a785fd5",
   "metadata": {},
   "outputs": [
    {
     "data": {
      "text/html": [
       "<div>\n",
       "<style scoped>\n",
       "    .dataframe tbody tr th:only-of-type {\n",
       "        vertical-align: middle;\n",
       "    }\n",
       "\n",
       "    .dataframe tbody tr th {\n",
       "        vertical-align: top;\n",
       "    }\n",
       "\n",
       "    .dataframe thead th {\n",
       "        text-align: right;\n",
       "    }\n",
       "</style>\n",
       "<table border=\"1\" class=\"dataframe\">\n",
       "  <thead>\n",
       "    <tr style=\"text-align: right;\">\n",
       "      <th></th>\n",
       "      <th>user_id</th>\n",
       "      <th>name</th>\n",
       "      <th>age</th>\n",
       "      <th>city</th>\n",
       "      <th>subscription_type</th>\n",
       "      <th>age_group</th>\n",
       "      <th>distance</th>\n",
       "      <th>duration</th>\n",
       "      <th>date</th>\n",
       "      <th>month</th>\n",
       "      <th>minute_price</th>\n",
       "      <th>start_ride_price</th>\n",
       "      <th>subscription_fee</th>\n",
       "    </tr>\n",
       "  </thead>\n",
       "  <tbody>\n",
       "    <tr>\n",
       "      <th>0</th>\n",
       "      <td>1</td>\n",
       "      <td>Кира</td>\n",
       "      <td>22</td>\n",
       "      <td>Тюмень</td>\n",
       "      <td>ultra</td>\n",
       "      <td>средний 18-45 лет</td>\n",
       "      <td>4409.919140</td>\n",
       "      <td>26.0</td>\n",
       "      <td>2021-01-01</td>\n",
       "      <td>1</td>\n",
       "      <td>6</td>\n",
       "      <td>0</td>\n",
       "      <td>199</td>\n",
       "    </tr>\n",
       "    <tr>\n",
       "      <th>1</th>\n",
       "      <td>1</td>\n",
       "      <td>Кира</td>\n",
       "      <td>22</td>\n",
       "      <td>Тюмень</td>\n",
       "      <td>ultra</td>\n",
       "      <td>средний 18-45 лет</td>\n",
       "      <td>2617.592153</td>\n",
       "      <td>16.0</td>\n",
       "      <td>2021-01-18</td>\n",
       "      <td>1</td>\n",
       "      <td>6</td>\n",
       "      <td>0</td>\n",
       "      <td>199</td>\n",
       "    </tr>\n",
       "    <tr>\n",
       "      <th>2</th>\n",
       "      <td>1</td>\n",
       "      <td>Кира</td>\n",
       "      <td>22</td>\n",
       "      <td>Тюмень</td>\n",
       "      <td>ultra</td>\n",
       "      <td>средний 18-45 лет</td>\n",
       "      <td>754.159807</td>\n",
       "      <td>7.0</td>\n",
       "      <td>2021-04-20</td>\n",
       "      <td>4</td>\n",
       "      <td>6</td>\n",
       "      <td>0</td>\n",
       "      <td>199</td>\n",
       "    </tr>\n",
       "    <tr>\n",
       "      <th>3</th>\n",
       "      <td>1</td>\n",
       "      <td>Кира</td>\n",
       "      <td>22</td>\n",
       "      <td>Тюмень</td>\n",
       "      <td>ultra</td>\n",
       "      <td>средний 18-45 лет</td>\n",
       "      <td>2694.783254</td>\n",
       "      <td>19.0</td>\n",
       "      <td>2021-08-11</td>\n",
       "      <td>8</td>\n",
       "      <td>6</td>\n",
       "      <td>0</td>\n",
       "      <td>199</td>\n",
       "    </tr>\n",
       "    <tr>\n",
       "      <th>4</th>\n",
       "      <td>1</td>\n",
       "      <td>Кира</td>\n",
       "      <td>22</td>\n",
       "      <td>Тюмень</td>\n",
       "      <td>ultra</td>\n",
       "      <td>средний 18-45 лет</td>\n",
       "      <td>4028.687306</td>\n",
       "      <td>27.0</td>\n",
       "      <td>2021-08-28</td>\n",
       "      <td>8</td>\n",
       "      <td>6</td>\n",
       "      <td>0</td>\n",
       "      <td>199</td>\n",
       "    </tr>\n",
       "  </tbody>\n",
       "</table>\n",
       "</div>"
      ],
      "text/plain": [
       "   user_id  name  age    city subscription_type          age_group  \\\n",
       "0        1  Кира   22  Тюмень             ultra  средний 18-45 лет   \n",
       "1        1  Кира   22  Тюмень             ultra  средний 18-45 лет   \n",
       "2        1  Кира   22  Тюмень             ultra  средний 18-45 лет   \n",
       "3        1  Кира   22  Тюмень             ultra  средний 18-45 лет   \n",
       "4        1  Кира   22  Тюмень             ultra  средний 18-45 лет   \n",
       "\n",
       "      distance  duration       date  month  minute_price  start_ride_price  \\\n",
       "0  4409.919140      26.0 2021-01-01      1             6                 0   \n",
       "1  2617.592153      16.0 2021-01-18      1             6                 0   \n",
       "2   754.159807       7.0 2021-04-20      4             6                 0   \n",
       "3  2694.783254      19.0 2021-08-11      8             6                 0   \n",
       "4  4028.687306      27.0 2021-08-28      8             6                 0   \n",
       "\n",
       "   subscription_fee  \n",
       "0               199  \n",
       "1               199  \n",
       "2               199  \n",
       "3               199  \n",
       "4               199  "
      ]
     },
     "execution_count": 31,
     "metadata": {},
     "output_type": "execute_result"
    }
   ],
   "source": [
    "df=users.merge(rides)\n",
    "df=df.merge(subscriptions)\n",
    "df.head()"
   ]
  },
  {
   "cell_type": "markdown",
   "id": "41371eb1",
   "metadata": {},
   "source": [
    "<div class=\"alert alert-warning\">\n",
    "<b>⚠️ Комментарий ревьюера v1:</b> \n",
    "<br>Не забывай проверять размерность таблиц после любых операций с ними (создание, срезы, объединение). Это позволить понять, ничего ли не потерялось при объединении\n",
    "</div>"
   ]
  },
  {
   "cell_type": "code",
   "execution_count": 32,
   "id": "06d0a534",
   "metadata": {},
   "outputs": [
    {
     "data": {
      "text/html": [
       "<div>\n",
       "<style scoped>\n",
       "    .dataframe tbody tr th:only-of-type {\n",
       "        vertical-align: middle;\n",
       "    }\n",
       "\n",
       "    .dataframe tbody tr th {\n",
       "        vertical-align: top;\n",
       "    }\n",
       "\n",
       "    .dataframe thead th {\n",
       "        text-align: right;\n",
       "    }\n",
       "</style>\n",
       "<table border=\"1\" class=\"dataframe\">\n",
       "  <thead>\n",
       "    <tr style=\"text-align: right;\">\n",
       "      <th></th>\n",
       "      <th>user_id</th>\n",
       "      <th>name</th>\n",
       "      <th>age</th>\n",
       "      <th>city</th>\n",
       "      <th>subscription_type</th>\n",
       "      <th>age_group</th>\n",
       "      <th>distance</th>\n",
       "      <th>duration</th>\n",
       "      <th>date</th>\n",
       "      <th>month</th>\n",
       "      <th>minute_price</th>\n",
       "      <th>start_ride_price</th>\n",
       "      <th>subscription_fee</th>\n",
       "    </tr>\n",
       "  </thead>\n",
       "  <tbody>\n",
       "    <tr>\n",
       "      <th>6500</th>\n",
       "      <td>700</td>\n",
       "      <td>Айдар</td>\n",
       "      <td>22</td>\n",
       "      <td>Омск</td>\n",
       "      <td>free</td>\n",
       "      <td>средний 18-45 лет</td>\n",
       "      <td>2515.690719</td>\n",
       "      <td>15.0</td>\n",
       "      <td>2021-01-02</td>\n",
       "      <td>1</td>\n",
       "      <td>8</td>\n",
       "      <td>50</td>\n",
       "      <td>0</td>\n",
       "    </tr>\n",
       "    <tr>\n",
       "      <th>6501</th>\n",
       "      <td>700</td>\n",
       "      <td>Айдар</td>\n",
       "      <td>22</td>\n",
       "      <td>Омск</td>\n",
       "      <td>free</td>\n",
       "      <td>средний 18-45 лет</td>\n",
       "      <td>846.932642</td>\n",
       "      <td>17.0</td>\n",
       "      <td>2021-02-01</td>\n",
       "      <td>2</td>\n",
       "      <td>8</td>\n",
       "      <td>50</td>\n",
       "      <td>0</td>\n",
       "    </tr>\n",
       "    <tr>\n",
       "      <th>6502</th>\n",
       "      <td>700</td>\n",
       "      <td>Айдар</td>\n",
       "      <td>22</td>\n",
       "      <td>Омск</td>\n",
       "      <td>free</td>\n",
       "      <td>средний 18-45 лет</td>\n",
       "      <td>4004.434142</td>\n",
       "      <td>21.0</td>\n",
       "      <td>2021-02-04</td>\n",
       "      <td>2</td>\n",
       "      <td>8</td>\n",
       "      <td>50</td>\n",
       "      <td>0</td>\n",
       "    </tr>\n",
       "    <tr>\n",
       "      <th>6503</th>\n",
       "      <td>700</td>\n",
       "      <td>Айдар</td>\n",
       "      <td>22</td>\n",
       "      <td>Омск</td>\n",
       "      <td>free</td>\n",
       "      <td>средний 18-45 лет</td>\n",
       "      <td>1205.911290</td>\n",
       "      <td>10.0</td>\n",
       "      <td>2021-02-10</td>\n",
       "      <td>2</td>\n",
       "      <td>8</td>\n",
       "      <td>50</td>\n",
       "      <td>0</td>\n",
       "    </tr>\n",
       "    <tr>\n",
       "      <th>6504</th>\n",
       "      <td>700</td>\n",
       "      <td>Айдар</td>\n",
       "      <td>22</td>\n",
       "      <td>Омск</td>\n",
       "      <td>free</td>\n",
       "      <td>средний 18-45 лет</td>\n",
       "      <td>3047.379435</td>\n",
       "      <td>18.0</td>\n",
       "      <td>2021-02-14</td>\n",
       "      <td>2</td>\n",
       "      <td>8</td>\n",
       "      <td>50</td>\n",
       "      <td>0</td>\n",
       "    </tr>\n",
       "  </tbody>\n",
       "</table>\n",
       "</div>"
      ],
      "text/plain": [
       "      user_id   name  age  city subscription_type          age_group  \\\n",
       "6500      700  Айдар   22  Омск              free  средний 18-45 лет   \n",
       "6501      700  Айдар   22  Омск              free  средний 18-45 лет   \n",
       "6502      700  Айдар   22  Омск              free  средний 18-45 лет   \n",
       "6503      700  Айдар   22  Омск              free  средний 18-45 лет   \n",
       "6504      700  Айдар   22  Омск              free  средний 18-45 лет   \n",
       "\n",
       "         distance  duration       date  month  minute_price  start_ride_price  \\\n",
       "6500  2515.690719      15.0 2021-01-02      1             8                50   \n",
       "6501   846.932642      17.0 2021-02-01      2             8                50   \n",
       "6502  4004.434142      21.0 2021-02-04      2             8                50   \n",
       "6503  1205.911290      10.0 2021-02-10      2             8                50   \n",
       "6504  3047.379435      18.0 2021-02-14      2             8                50   \n",
       "\n",
       "      subscription_fee  \n",
       "6500                 0  \n",
       "6501                 0  \n",
       "6502                 0  \n",
       "6503                 0  \n",
       "6504                 0  "
      ]
     },
     "execution_count": 32,
     "metadata": {},
     "output_type": "execute_result"
    }
   ],
   "source": [
    "free = df[df['subscription_type'] == 'free']\n",
    "free.head()"
   ]
  },
  {
   "cell_type": "code",
   "execution_count": 33,
   "id": "9fe93218",
   "metadata": {},
   "outputs": [
    {
     "data": {
      "text/plain": [
       "count    11473.000000\n",
       "mean      3028.374239\n",
       "std       1235.541051\n",
       "min          0.855683\n",
       "25%       2360.878149\n",
       "50%       3102.083025\n",
       "75%       3883.979311\n",
       "max       7066.003772\n",
       "Name: distance, dtype: float64"
      ]
     },
     "execution_count": 33,
     "metadata": {},
     "output_type": "execute_result"
    }
   ],
   "source": [
    "free['distance'].describe()"
   ]
  },
  {
   "cell_type": "code",
   "execution_count": 34,
   "id": "959ccfc4",
   "metadata": {},
   "outputs": [
    {
     "data": {
      "text/plain": [
       "<Figure size 7200x576 with 0 Axes>"
      ]
     },
     "metadata": {},
     "output_type": "display_data"
    },
    {
     "data": {
      "image/png": "[encoded data removed]",
      "text/plain": [
       "<Figure size 360x360 with 1 Axes>"
      ]
     },
     "metadata": {
      "needs_background": "light"
     },
     "output_type": "display_data"
    }
   ],
   "source": [
    "plt.figure(figsize=(100, 8))\n",
    "sns.displot (df['distance'], kde= True )\n",
    "plt.title(\"длительность одной поездки пользователей категории Free\")\n",
    "plt.xlabel(\"расстояние одной поездки\")\n",
    "plt.ylabel(\"количество\")\n",
    "plt.show()"
   ]
  },
  {
   "cell_type": "markdown",
   "id": "a5b55992",
   "metadata": {},
   "source": [
    "Средний пробег пользователей в категории free составляет 3028 км"
   ]
  },
  {
   "cell_type": "code",
   "execution_count": 35,
   "id": "065f978a",
   "metadata": {},
   "outputs": [
    {
     "data": {
      "text/plain": [
       "<Figure size 7200x576 with 0 Axes>"
      ]
     },
     "metadata": {},
     "output_type": "display_data"
    },
    {
     "data": {
      "image/png": "[encoded data removed]",
      "text/plain": [
       "<Figure size 360x360 with 1 Axes>"
      ]
     },
     "metadata": {
      "needs_background": "light"
     },
     "output_type": "display_data"
    }
   ],
   "source": [
    "plt.figure(figsize=(100, 8))\n",
    "sns.displot (df['duration'], kde= True )\n",
    "plt.title(\"продолжительность одной поездки пользователей категории Free\")\n",
    "plt.xlabel(\"время одной поездки в мин.\")\n",
    "plt.ylabel(\"количество\")\n",
    "plt.show()"
   ]
  },
  {
   "cell_type": "code",
   "execution_count": 36,
   "id": "3f0d7ac1",
   "metadata": {},
   "outputs": [
    {
     "data": {
      "text/plain": [
       "count    11473.000000\n",
       "mean        18.030855\n",
       "std          6.166175\n",
       "min          3.000000\n",
       "25%         14.000000\n",
       "50%         18.000000\n",
       "75%         22.000000\n",
       "max         35.000000\n",
       "Name: duration, dtype: float64"
      ]
     },
     "execution_count": 36,
     "metadata": {},
     "output_type": "execute_result"
    }
   ],
   "source": [
    "free['duration'].describe()"
   ]
  },
  {
   "cell_type": "markdown",
   "id": "45935dee",
   "metadata": {},
   "source": [
    "Среднее время одной поездки в категории free 18 мин."
   ]
  },
  {
   "cell_type": "code",
   "execution_count": 37,
   "id": "a9922ecb",
   "metadata": {},
   "outputs": [
    {
     "data": {
      "text/html": [
       "<div>\n",
       "<style scoped>\n",
       "    .dataframe tbody tr th:only-of-type {\n",
       "        vertical-align: middle;\n",
       "    }\n",
       "\n",
       "    .dataframe tbody tr th {\n",
       "        vertical-align: top;\n",
       "    }\n",
       "\n",
       "    .dataframe thead th {\n",
       "        text-align: right;\n",
       "    }\n",
       "</style>\n",
       "<table border=\"1\" class=\"dataframe\">\n",
       "  <thead>\n",
       "    <tr style=\"text-align: right;\">\n",
       "      <th></th>\n",
       "      <th>user_id</th>\n",
       "      <th>name</th>\n",
       "      <th>age</th>\n",
       "      <th>city</th>\n",
       "      <th>subscription_type</th>\n",
       "      <th>age_group</th>\n",
       "      <th>distance</th>\n",
       "      <th>duration</th>\n",
       "      <th>date</th>\n",
       "      <th>month</th>\n",
       "      <th>minute_price</th>\n",
       "      <th>start_ride_price</th>\n",
       "      <th>subscription_fee</th>\n",
       "    </tr>\n",
       "  </thead>\n",
       "  <tbody>\n",
       "    <tr>\n",
       "      <th>0</th>\n",
       "      <td>1</td>\n",
       "      <td>Кира</td>\n",
       "      <td>22</td>\n",
       "      <td>Тюмень</td>\n",
       "      <td>ultra</td>\n",
       "      <td>средний 18-45 лет</td>\n",
       "      <td>4409.919140</td>\n",
       "      <td>26.0</td>\n",
       "      <td>2021-01-01</td>\n",
       "      <td>1</td>\n",
       "      <td>6</td>\n",
       "      <td>0</td>\n",
       "      <td>199</td>\n",
       "    </tr>\n",
       "    <tr>\n",
       "      <th>1</th>\n",
       "      <td>1</td>\n",
       "      <td>Кира</td>\n",
       "      <td>22</td>\n",
       "      <td>Тюмень</td>\n",
       "      <td>ultra</td>\n",
       "      <td>средний 18-45 лет</td>\n",
       "      <td>2617.592153</td>\n",
       "      <td>16.0</td>\n",
       "      <td>2021-01-18</td>\n",
       "      <td>1</td>\n",
       "      <td>6</td>\n",
       "      <td>0</td>\n",
       "      <td>199</td>\n",
       "    </tr>\n",
       "    <tr>\n",
       "      <th>2</th>\n",
       "      <td>1</td>\n",
       "      <td>Кира</td>\n",
       "      <td>22</td>\n",
       "      <td>Тюмень</td>\n",
       "      <td>ultra</td>\n",
       "      <td>средний 18-45 лет</td>\n",
       "      <td>754.159807</td>\n",
       "      <td>7.0</td>\n",
       "      <td>2021-04-20</td>\n",
       "      <td>4</td>\n",
       "      <td>6</td>\n",
       "      <td>0</td>\n",
       "      <td>199</td>\n",
       "    </tr>\n",
       "    <tr>\n",
       "      <th>3</th>\n",
       "      <td>1</td>\n",
       "      <td>Кира</td>\n",
       "      <td>22</td>\n",
       "      <td>Тюмень</td>\n",
       "      <td>ultra</td>\n",
       "      <td>средний 18-45 лет</td>\n",
       "      <td>2694.783254</td>\n",
       "      <td>19.0</td>\n",
       "      <td>2021-08-11</td>\n",
       "      <td>8</td>\n",
       "      <td>6</td>\n",
       "      <td>0</td>\n",
       "      <td>199</td>\n",
       "    </tr>\n",
       "    <tr>\n",
       "      <th>4</th>\n",
       "      <td>1</td>\n",
       "      <td>Кира</td>\n",
       "      <td>22</td>\n",
       "      <td>Тюмень</td>\n",
       "      <td>ultra</td>\n",
       "      <td>средний 18-45 лет</td>\n",
       "      <td>4028.687306</td>\n",
       "      <td>27.0</td>\n",
       "      <td>2021-08-28</td>\n",
       "      <td>8</td>\n",
       "      <td>6</td>\n",
       "      <td>0</td>\n",
       "      <td>199</td>\n",
       "    </tr>\n",
       "  </tbody>\n",
       "</table>\n",
       "</div>"
      ],
      "text/plain": [
       "   user_id  name  age    city subscription_type          age_group  \\\n",
       "0        1  Кира   22  Тюмень             ultra  средний 18-45 лет   \n",
       "1        1  Кира   22  Тюмень             ultra  средний 18-45 лет   \n",
       "2        1  Кира   22  Тюмень             ultra  средний 18-45 лет   \n",
       "3        1  Кира   22  Тюмень             ultra  средний 18-45 лет   \n",
       "4        1  Кира   22  Тюмень             ultra  средний 18-45 лет   \n",
       "\n",
       "      distance  duration       date  month  minute_price  start_ride_price  \\\n",
       "0  4409.919140      26.0 2021-01-01      1             6                 0   \n",
       "1  2617.592153      16.0 2021-01-18      1             6                 0   \n",
       "2   754.159807       7.0 2021-04-20      4             6                 0   \n",
       "3  2694.783254      19.0 2021-08-11      8             6                 0   \n",
       "4  4028.687306      27.0 2021-08-28      8             6                 0   \n",
       "\n",
       "   subscription_fee  \n",
       "0               199  \n",
       "1               199  \n",
       "2               199  \n",
       "3               199  \n",
       "4               199  "
      ]
     },
     "execution_count": 37,
     "metadata": {},
     "output_type": "execute_result"
    }
   ],
   "source": [
    "ultra = df[df['subscription_type'] == 'ultra']\n",
    "ultra.head()"
   ]
  },
  {
   "cell_type": "code",
   "execution_count": 38,
   "id": "925e49a0",
   "metadata": {},
   "outputs": [
    {
     "data": {
      "text/plain": [
       "count    6500.000000\n",
       "mean     3115.445388\n",
       "std       836.895330\n",
       "min       244.210438\n",
       "25%      2785.444017\n",
       "50%      3148.637229\n",
       "75%      3560.574425\n",
       "max      5699.769662\n",
       "Name: distance, dtype: float64"
      ]
     },
     "execution_count": 38,
     "metadata": {},
     "output_type": "execute_result"
    }
   ],
   "source": [
    "ultra['distance'].describe()"
   ]
  },
  {
   "cell_type": "code",
   "execution_count": 39,
   "id": "b6105d51",
   "metadata": {},
   "outputs": [
    {
     "data": {
      "text/plain": [
       "<Figure size 7200x576 with 0 Axes>"
      ]
     },
     "metadata": {},
     "output_type": "display_data"
    },
    {
     "data": {
      "image/png": "[encoded data removed]",
      "text/plain": [
       "<Figure size 360x360 with 1 Axes>"
      ]
     },
     "metadata": {
      "needs_background": "light"
     },
     "output_type": "display_data"
    }
   ],
   "source": [
    "plt.figure(figsize=(100, 8))\n",
    "sns.displot (df['distance'], kde= True )\n",
    "plt.title(\"длительность одной поездки пользователей категории Ultra\")\n",
    "plt.xlabel(\"расстояние одной поездки\")\n",
    "plt.ylabel(\"количество\")\n",
    "plt.show()"
   ]
  },
  {
   "cell_type": "markdown",
   "id": "be4fe097",
   "metadata": {},
   "source": [
    "средняя дистанция одной поездки в категории ultra составляет 3115 км."
   ]
  },
  {
   "cell_type": "code",
   "execution_count": 40,
   "id": "977381e7",
   "metadata": {},
   "outputs": [
    {
     "data": {
      "text/plain": [
       "count    6500.000000\n",
       "mean       19.037692\n",
       "std         5.577439\n",
       "min         4.000000\n",
       "25%        15.000000\n",
       "50%        19.000000\n",
       "75%        22.000000\n",
       "max        41.000000\n",
       "Name: duration, dtype: float64"
      ]
     },
     "execution_count": 40,
     "metadata": {},
     "output_type": "execute_result"
    }
   ],
   "source": [
    "ultra['duration'].describe()"
   ]
  },
  {
   "cell_type": "code",
   "execution_count": 41,
   "id": "23388711",
   "metadata": {},
   "outputs": [
    {
     "data": {
      "text/plain": [
       "<Figure size 7200x576 with 0 Axes>"
      ]
     },
     "metadata": {},
     "output_type": "display_data"
    },
    {
     "data": {
      "image/png": "[encoded data removed]",
      "text/plain": [
       "<Figure size 360x360 with 1 Axes>"
      ]
     },
     "metadata": {
      "needs_background": "light"
     },
     "output_type": "display_data"
    }
   ],
   "source": [
    "plt.figure(figsize=(100, 8))\n",
    "sns.displot (df['duration'], kde= True )\n",
    "plt.title(\"продолжительность одной поездки пользователей категории Ultra\")\n",
    "plt.xlabel(\"время одной поездки в мин.\")\n",
    "plt.ylabel(\"количество\")\n",
    "plt.show()"
   ]
  },
  {
   "cell_type": "markdown",
   "id": "51282fbc",
   "metadata": {},
   "source": [
    "средняя продолжительность одной поездки пользователей категории Ultra составляет 19 мин."
   ]
  },
  {
   "cell_type": "markdown",
   "id": "d3e72928",
   "metadata": {},
   "source": [
    "---------------------------------------------------------------------------------------------------------------------------"
   ]
  },
  {
   "cell_type": "markdown",
   "id": "3427e03e",
   "metadata": {},
   "source": [
    "# Подсчёт выручки"
   ]
  },
  {
   "cell_type": "code",
   "execution_count": 42,
   "id": "af6e89a7",
   "metadata": {},
   "outputs": [
    {
     "name": "stdout",
     "output_type": "stream",
     "text": [
      "       user_id  month  total_distance  total_duration  trip_count\n",
      "0            1      1     7027.511294            42.0           2\n",
      "1            1      4      754.159807             7.0           1\n",
      "2            1      8     6723.470560            46.0           2\n",
      "3            1     10     5809.911100            32.0           2\n",
      "4            1     11     7003.499363            56.0           3\n",
      "...        ...    ...             ...             ...         ...\n",
      "11295     1534      6     3409.468534            26.0           2\n",
      "11296     1534      8     7622.453034            48.0           2\n",
      "11297     1534      9     4928.173852            23.0           1\n",
      "11298     1534     11    13350.015305            78.0           4\n",
      "11299     1534     12     2371.711192            16.0           1\n",
      "\n",
      "[11300 rows x 5 columns]\n"
     ]
    }
   ],
   "source": [
    "df_new = df.groupby(['user_id', 'month']).agg({\n",
    "    'distance': 'sum',\n",
    "    'duration': 'sum',\n",
    "    'name': 'count'\n",
    "}).reset_index()\n",
    "\n",
    "# Переименование столбцов для ясности\n",
    "df_new.columns = ['user_id', 'month', 'total_distance', 'total_duration', 'trip_count']\n",
    "\n",
    "# Вывод агрегированного датафрейма\n",
    "print(df_new)"
   ]
  },
  {
   "cell_type": "code",
   "execution_count": 43,
   "id": "1633979d",
   "metadata": {},
   "outputs": [
    {
     "data": {
      "text/html": [
       "<div>\n",
       "<style scoped>\n",
       "    .dataframe tbody tr th:only-of-type {\n",
       "        vertical-align: middle;\n",
       "    }\n",
       "\n",
       "    .dataframe tbody tr th {\n",
       "        vertical-align: top;\n",
       "    }\n",
       "\n",
       "    .dataframe thead th {\n",
       "        text-align: right;\n",
       "    }\n",
       "</style>\n",
       "<table border=\"1\" class=\"dataframe\">\n",
       "  <thead>\n",
       "    <tr style=\"text-align: right;\">\n",
       "      <th></th>\n",
       "      <th>user_id</th>\n",
       "      <th>month</th>\n",
       "      <th>subscription_type</th>\n",
       "      <th>total_distance</th>\n",
       "      <th>total_duration</th>\n",
       "      <th>trip_count</th>\n",
       "      <th>revenue</th>\n",
       "    </tr>\n",
       "  </thead>\n",
       "  <tbody>\n",
       "    <tr>\n",
       "      <th>0</th>\n",
       "      <td>1</td>\n",
       "      <td>1</td>\n",
       "      <td>ultra</td>\n",
       "      <td>7027.511294</td>\n",
       "      <td>42.0</td>\n",
       "      <td>2</td>\n",
       "      <td>451.0</td>\n",
       "    </tr>\n",
       "    <tr>\n",
       "      <th>1</th>\n",
       "      <td>1</td>\n",
       "      <td>4</td>\n",
       "      <td>ultra</td>\n",
       "      <td>754.159807</td>\n",
       "      <td>7.0</td>\n",
       "      <td>1</td>\n",
       "      <td>241.0</td>\n",
       "    </tr>\n",
       "    <tr>\n",
       "      <th>2</th>\n",
       "      <td>1</td>\n",
       "      <td>8</td>\n",
       "      <td>ultra</td>\n",
       "      <td>6723.470560</td>\n",
       "      <td>46.0</td>\n",
       "      <td>2</td>\n",
       "      <td>475.0</td>\n",
       "    </tr>\n",
       "    <tr>\n",
       "      <th>3</th>\n",
       "      <td>1</td>\n",
       "      <td>10</td>\n",
       "      <td>ultra</td>\n",
       "      <td>5809.911100</td>\n",
       "      <td>32.0</td>\n",
       "      <td>2</td>\n",
       "      <td>391.0</td>\n",
       "    </tr>\n",
       "    <tr>\n",
       "      <th>4</th>\n",
       "      <td>1</td>\n",
       "      <td>11</td>\n",
       "      <td>ultra</td>\n",
       "      <td>7003.499363</td>\n",
       "      <td>56.0</td>\n",
       "      <td>3</td>\n",
       "      <td>535.0</td>\n",
       "    </tr>\n",
       "    <tr>\n",
       "      <th>...</th>\n",
       "      <td>...</td>\n",
       "      <td>...</td>\n",
       "      <td>...</td>\n",
       "      <td>...</td>\n",
       "      <td>...</td>\n",
       "      <td>...</td>\n",
       "      <td>...</td>\n",
       "    </tr>\n",
       "    <tr>\n",
       "      <th>11295</th>\n",
       "      <td>1534</td>\n",
       "      <td>6</td>\n",
       "      <td>free</td>\n",
       "      <td>3409.468534</td>\n",
       "      <td>26.0</td>\n",
       "      <td>2</td>\n",
       "      <td>308.0</td>\n",
       "    </tr>\n",
       "    <tr>\n",
       "      <th>11296</th>\n",
       "      <td>1534</td>\n",
       "      <td>8</td>\n",
       "      <td>free</td>\n",
       "      <td>7622.453034</td>\n",
       "      <td>48.0</td>\n",
       "      <td>2</td>\n",
       "      <td>484.0</td>\n",
       "    </tr>\n",
       "    <tr>\n",
       "      <th>11297</th>\n",
       "      <td>1534</td>\n",
       "      <td>9</td>\n",
       "      <td>free</td>\n",
       "      <td>4928.173852</td>\n",
       "      <td>23.0</td>\n",
       "      <td>1</td>\n",
       "      <td>234.0</td>\n",
       "    </tr>\n",
       "    <tr>\n",
       "      <th>11298</th>\n",
       "      <td>1534</td>\n",
       "      <td>11</td>\n",
       "      <td>free</td>\n",
       "      <td>13350.015305</td>\n",
       "      <td>78.0</td>\n",
       "      <td>4</td>\n",
       "      <td>824.0</td>\n",
       "    </tr>\n",
       "    <tr>\n",
       "      <th>11299</th>\n",
       "      <td>1534</td>\n",
       "      <td>12</td>\n",
       "      <td>free</td>\n",
       "      <td>2371.711192</td>\n",
       "      <td>16.0</td>\n",
       "      <td>1</td>\n",
       "      <td>178.0</td>\n",
       "    </tr>\n",
       "  </tbody>\n",
       "</table>\n",
       "<p>11300 rows × 7 columns</p>\n",
       "</div>"
      ],
      "text/plain": [
       "       user_id  month subscription_type  total_distance  total_duration  \\\n",
       "0            1      1             ultra     7027.511294            42.0   \n",
       "1            1      4             ultra      754.159807             7.0   \n",
       "2            1      8             ultra     6723.470560            46.0   \n",
       "3            1     10             ultra     5809.911100            32.0   \n",
       "4            1     11             ultra     7003.499363            56.0   \n",
       "...        ...    ...               ...             ...             ...   \n",
       "11295     1534      6              free     3409.468534            26.0   \n",
       "11296     1534      8              free     7622.453034            48.0   \n",
       "11297     1534      9              free     4928.173852            23.0   \n",
       "11298     1534     11              free    13350.015305            78.0   \n",
       "11299     1534     12              free     2371.711192            16.0   \n",
       "\n",
       "       trip_count  revenue  \n",
       "0               2    451.0  \n",
       "1               1    241.0  \n",
       "2               2    475.0  \n",
       "3               2    391.0  \n",
       "4               3    535.0  \n",
       "...           ...      ...  \n",
       "11295           2    308.0  \n",
       "11296           2    484.0  \n",
       "11297           1    234.0  \n",
       "11298           4    824.0  \n",
       "11299           1    178.0  \n",
       "\n",
       "[11300 rows x 7 columns]"
      ]
     },
     "execution_count": 43,
     "metadata": {},
     "output_type": "execute_result"
    }
   ],
   "source": [
    "rides['duration'] = np.ceil(rides['duration']) \n",
    "df_new = df.groupby(['user_id', 'month', 'subscription_type', 'start_ride_price', 'minute_price', 'subscription_fee']).agg({\n",
    "    'distance': 'sum',\n",
    "    'duration': 'sum',\n",
    "    'name': 'count'\n",
    "}).reset_index()\n",
    "\n",
    "# Переименование столбцов для ясности\n",
    "df_new.columns = ['user_id', 'month', 'subscription_type', 'start_ride_price','minute_price', 'subscription_fee', 'total_distance', 'total_duration', 'trip_count']\n",
    "\n",
    "df_new['revenue']=df_new['start_ride_price']*df_new['trip_count']+df_new['minute_price']*df_new['total_duration']+df_new['subscription_fee']\n",
    "df_new = df_new[['user_id', 'month', 'subscription_type', 'total_distance', 'total_duration', 'trip_count', 'revenue']]\n",
    "\n",
    "df_new\n"
   ]
  },
  {
   "cell_type": "markdown",
   "id": "f6c5a3a7",
   "metadata": {},
   "source": [
    "---------------------------------------------------------------------------------------------------------------------------"
   ]
  },
  {
   "cell_type": "markdown",
   "id": "9eee3539",
   "metadata": {},
   "source": [
    "# Проверка гипотиз"
   ]
  },
  {
   "cell_type": "markdown",
   "id": "7ab61bef",
   "metadata": {},
   "source": [
    "Важно понять, тратят ли пользователи с подпиской больше времени на поездки? Если да, то пользователи с подпиской могут быть «выгоднее» для компании. "
   ]
  },
  {
   "cell_type": "markdown",
   "id": "c289228f",
   "metadata": {},
   "source": [
    "Нулевая гипотеза: Среднее время на поездку пользователей с подпиской равно среднему времени на поездку пользователей без подписки. Альтернативная: Среднее время на поездку пользователей с подпиской не равно среднему времени на поездку пользователей без подписки."
   ]
  },
  {
   "cell_type": "code",
   "execution_count": 44,
   "id": "dcc604db",
   "metadata": {},
   "outputs": [
    {
     "name": "stdout",
     "output_type": "stream",
     "text": [
      "T-статистика: 11.18719386710581\n",
      "P-значение: 3.086332092684639e-29\n",
      "Отвергаем нулевую гипотезу: существует статистически значимая разница в продолжительности поездок.\n"
     ]
    }
   ],
   "source": [
    "subscribed_users = df[df['subscription_type'] == 'ultra']['duration']\n",
    "non_subscribed_users = df[df['subscription_type'] == 'free']['duration']\n",
    "\n",
    "# Проведение t-теста\n",
    "t_statistic, p_value = ttest_ind(subscribed_users, non_subscribed_users, equal_var=False, alternative='greater')\n",
    "\n",
    "# Печать результатов\n",
    "print(f\"T-статистика: {t_statistic}\")\n",
    "print(f\"P-значение: {p_value}\")\n",
    "\n",
    "# Проверка статистической значимости\n",
    "alpha = 0.05\n",
    "if p_value < alpha:\n",
    "    print(\"Отвергаем нулевую гипотезу: существует статистически значимая разница в продолжительности поездок.\")\n",
    "else:\n",
    "    print(\"Нет достаточных доказательств для отвержения нулевой гипотезы.\")"
   ]
  },
  {
   "cell_type": "markdown",
   "id": "0f1f1a99",
   "metadata": {},
   "source": [
    "Гипотеза о том что пользователи с подпиской тратят больше времени на поездки не подтвердилась. Также можно сказать, что пользователи с подпиской не выгодны компании. Пользователи с подпиской - точка роста для данной компании."
   ]
  },
  {
   "cell_type": "markdown",
   "id": "83d5df4b",
   "metadata": {},
   "source": [
    "Расстояние одной поездки в 3130 метров — оптимальное с точки зрения износа самоката. Можно ли сказать, что среднее расстояние, которое проезжают пользователи с подпиской за одну поездку, не превышает 3130 метров? "
   ]
  },
  {
   "cell_type": "markdown",
   "id": "29d758a3",
   "metadata": {},
   "source": [
    "Нулевая гипотеза - среднее расстояние, которое проезжают пользователи с подпиской за одну поездку, равно 3130 метров. Альтернативная - среднее расстояние, которое проезжают пользователи с подпиской за одну поездку, не равно 3130 метров."
   ]
  },
  {
   "cell_type": "code",
   "execution_count": 45,
   "id": "2f7f7ecd",
   "metadata": {},
   "outputs": [
    {
     "name": "stdout",
     "output_type": "stream",
     "text": [
      "T-статистика: -1.402123166869486\n",
      "P-значение: 0.9195368847849785\n",
      "Нет достаточных доказательств для отвержения нулевой гипотезы.\n"
     ]
    }
   ],
   "source": [
    "# Выборка расстояний для пользователей с подпиской\n",
    "subscribed_distances = df[df['subscription_type'] == 'ultra']['distance']\n",
    "\n",
    "\n",
    "# Проведение одновыборочного t-теста\n",
    "t_statistic, p_value = ttest_1samp(subscribed_distances, 3130, alternative = 'greater')\n",
    "\n",
    "# Печать результатов\n",
    "print(f\"T-статистика: {t_statistic}\")\n",
    "print(f\"P-значение: {p_value}\")\n",
    "\n",
    "# Проверка статистической значимости\n",
    "alpha = 0.05\n",
    "if p_value < alpha:\n",
    "    print(\"Отвергаем нулевую гипотезу: среднее расстояние для пользователей с подпиской за одну поездку менее 3130 метров.\")\n",
    "else:\n",
    "    print(\"Нет достаточных доказательств для отвержения нулевой гипотезы.\")"
   ]
  },
  {
   "cell_type": "markdown",
   "id": "eb4d2ce3",
   "metadata": {},
   "source": [
    "Гипотеза о том, что среднее расстояние для пользователей с подпиской за одну поездку не превышает 3130 метров подтвердилась."
   ]
  },
  {
   "cell_type": "markdown",
   "id": "7d15a3ac",
   "metadata": {},
   "source": [
    "Проверьте гипотезу о том, будет ли помесячная выручка от пользователей с подпиской по месяцам выше, чем выручка от пользователей без подписки. "
   ]
  },
  {
   "cell_type": "markdown",
   "id": "91f4753b",
   "metadata": {},
   "source": [
    "Нулевая Гипотеза - помесячная выручка от пользователей с подпиской по месяцам равна выручке от пользователей без подписки. Альтернативная - помесячная выручка от пользователей с подпиской по месяцам не равна выручке от пользователей без подписки"
   ]
  },
  {
   "cell_type": "code",
   "execution_count": 46,
   "id": "8222e16b",
   "metadata": {},
   "outputs": [
    {
     "name": "stdout",
     "output_type": "stream",
     "text": [
      "T-статистика: 12.943973883454\n",
      "P-значение: 2.4970242872858465e-38\n",
      "Отвергаем нулевую гипотезу. Статистически значимое различие в выручке от пользователей с подпиской и без подписки.\n"
     ]
    }
   ],
   "source": [
    "subscribed_users = df_new[df_new['subscription_type'] == 'ultra']['revenue']\n",
    "non_subscribed_users = df_new[df_new['subscription_type'] == 'free']['revenue']\n",
    "\n",
    "# Проведение t-теста\n",
    "t_statistic, p_value = ttest_ind(subscribed_users, non_subscribed_users, equal_var=False, alternative='greater')\n",
    "\n",
    "# Печать результатов\n",
    "print(f\"T-статистика: {t_statistic}\")\n",
    "print(f\"P-значение: {p_value}\")\n",
    "\n",
    "# Проверка статистической значимости\n",
    "alpha = 0.05\n",
    "if p_value < alpha:\n",
    "    print(\"Отвергаем нулевую гипотезу. Статистически значимое различие в выручке от пользователей с подпиской и без подписки.\")\n",
    "else:\n",
    "    print(\"Нет достаточных доказательств для отвержения нулевой гипотезы.\")"
   ]
  },
  {
   "cell_type": "markdown",
   "id": "11d1dfa5",
   "metadata": {},
   "source": [
    "Гипотеза не подтвердилась, пользователи с подпиской приносят меньше выручки чем пользователи без подписки."
   ]
  },
  {
   "cell_type": "markdown",
   "id": "75fb6e3f",
   "metadata": {},
   "source": [
    "Техническая команда сервиса обновила сервера, с которыми взаимодействует мобильное приложение. Она надеется, что из-за этого количество обращений в техподдержку значимо снизилось. Некоторый файл содержит для каждого пользователя данные о количестве обращений до обновления и после него. Какой тест вам понадобился бы для проверки этой гипотезы?"
   ]
  },
  {
   "cell_type": "markdown",
   "id": "f63de16e",
   "metadata": {},
   "source": [
    "Мы имеем одну генеральную совокупность, с которой произошли некоторые изменения. В этом случае мы будем проверять, равны ли средние совокупности до и после этого изменения. Выборки в этом случае будут зависимыми, иначе — парными.\n",
    "Чтобы проверить гипотезу о равенстве среднего генеральной совокупности для зависимых (парных) выборок в Python, применим метод scipy.stats.ttest_rel()."
   ]
  },
  {
   "cell_type": "markdown",
   "id": "2c616ed1",
   "metadata": {},
   "source": [
    "________________________________________________________________________________________________________________________"
   ]
  },
  {
   "cell_type": "markdown",
   "id": "53cac68f",
   "metadata": {},
   "source": [
    "# Распределения"
   ]
  },
  {
   "cell_type": "markdown",
   "id": "01ccc70a",
   "metadata": {},
   "source": [
    "Отделу маркетинга GoFast поставили задачу: нужно провести акцию с раздачей промокодов на один бесплатный месяц подписки, в рамках которой как минимум 100 существующих клиентов должны продлить эту подписку. То есть по завершении периода действия подписки пользователь может либо отказаться от неё, либо продлить, совершив соответствующий платёж. \n",
    "Эта акция уже проводилась ранее и по итогу выяснилось, что после бесплатного пробного периода подписку продлевают 10 % пользователей. Выясните, какое минимальное количество промокодов нужно разослать, чтобы вероятность не выполнить план была примерно 5 %. Подберите параметры распределения, описывающего эту ситуацию, постройте график распределения и сформулируйте ответ на вопрос о количестве промокодов."
   ]
  },
  {
   "cell_type": "code",
   "execution_count": 47,
   "id": "aab717b1",
   "metadata": {},
   "outputs": [
    {
     "name": "stdout",
     "output_type": "stream",
     "text": [
      "Минимальное количество промокодов: 1172\n"
     ]
    }
   ],
   "source": [
    "# Заданные параметры\n",
    "p_success = 0.1  # Вероятность успеха (продления подписки)\n",
    "target_clients = 100  # Минимальное количество клиентов для продления подписки\n",
    "target_probability = 0.05  # Целевая вероятность P(X < target_clients)\n",
    "\n",
    "# Функция для поиска минимального количества промокодов\n",
    "def find_min_promo_codes(p_success, target_clients, target_probability):\n",
    "    n = 1  # Начинаем с одного промокода\n",
    "\n",
    "    # Итеративно увеличиваем количество промокодов и проверяем вероятность P(X < target_clients)\n",
    "    while stats.binom.cdf(target_clients, n, p_success) > target_probability:\n",
    "        n += 1\n",
    "\n",
    "    return n\n",
    "\n",
    "# Находим минимальное количество промокодов\n",
    "min_promo_codes = find_min_promo_codes(p_success, target_clients, target_probability)\n",
    "\n",
    "# Выводим результат\n",
    "print(f\"Минимальное количество промокодов: {min_promo_codes}\")"
   ]
  },
  {
   "cell_type": "code",
   "execution_count": 48,
   "id": "703c5c69",
   "metadata": {},
   "outputs": [
    {
     "data": {
      "image/png": "[encoded data removed]",
      "text/plain": [
       "<Figure size 432x288 with 1 Axes>"
      ]
     },
     "metadata": {
      "needs_background": "light"
     },
     "output_type": "display_data"
    }
   ],
   "source": [
    "from scipy.stats import binom\n",
    "\n",
    "# Задаем параметры биномиального распределения\n",
    "n = np.arange(100, 15000, 50)  # количество промокодов\n",
    "p = 0.1  # вероятность продления подписки\n",
    "\n",
    "# Считаем вероятность P(X < 100) для каждого значения n\n",
    "prob = binom.cdf(99, n, p)\n",
    "\n",
    "# Строим график\n",
    "plt.plot(n, prob, marker='o')\n",
    "plt.xlabel('Количество промокодов')\n",
    "plt.ylabel('Вероятность P(X < 100)')\n",
    "plt.title('Функция распределения биномиального распределения')\n",
    "plt.grid(True)\n",
    "plt.show()"
   ]
  },
  {
   "cell_type": "markdown",
   "id": "c83cc2ca",
   "metadata": {},
   "source": [
    "Отдел маркетинга рассылает клиентам push-уведомления в мобильном приложении. Клиенты могут открыть его или не открывать. Известно, что уведомления открывают около 40% получивших клиентов. Отдел планирует разослать 1 млн уведомлений. С помощью аппроксимации постройте примерный график распределения и оцените вероятность того, что уведомление откроют не более 399,5 тыс. пользователей."
   ]
  },
  {
   "cell_type": "code",
   "execution_count": 49,
   "id": "f1a06b67",
   "metadata": {},
   "outputs": [
    {
     "name": "stderr",
     "output_type": "stream",
     "text": [
      "/opt/conda/lib/python3.9/site-packages/scipy/stats/_discrete_distns.py:82: RuntimeWarning: divide by zero encountered in _binom_cdf\n",
      "  return _boost._binom_cdf(k, n, p)\n"
     ]
    },
    {
     "data": {
      "image/png": "[encoded data removed]",
      "text/plain": [
       "<Figure size 432x288 with 1 Axes>"
      ]
     },
     "metadata": {
      "needs_background": "light"
     },
     "output_type": "display_data"
    },
    {
     "name": "stdout",
     "output_type": "stream",
     "text": [
      "Вероятность того, что уведомление откроют не более 399.5 тыс. пользователей составляет примерно 15.40%\n"
     ]
    }
   ],
   "source": [
    "# Задаем параметры распределения\n",
    "p = 0.4  # Вероятность открытия уведомления\n",
    "n = 1000000  # Количество уведомлений\n",
    "x = np.arange(0, n+1)\n",
    "prob = binom.cdf(x, n, p)\n",
    "\n",
    "\n",
    "# Строим график функции распределения биномиального распределения\n",
    "plt.plot(x, prob)\n",
    "plt.xlabel('Количество открывших уведомление')\n",
    "plt.ylabel('Вероятность')\n",
    "plt.title('Биномиальное распределение')\n",
    "plt.show()\n",
    "\n",
    "# Оценим вероятность открытия уведомления не более 399.5 тыс. пользователей\n",
    "prob = binom.cdf(399500, n, p)\n",
    "print(f\"Вероятность того, что уведомление откроют не более 399.5 тыс. пользователей составляет примерно {prob:.2%}\")"
   ]
  },
  {
   "cell_type": "markdown",
   "id": "0e6eb4de",
   "metadata": {},
   "source": [
    "Выводы по работе:\n",
    "    Тройка городов состоит из Пятигорска, Екатеринбурга и Ростова-на-дону.\n",
    "    Больше всего \"бесплатных\" пользователей.\n",
    "    Больше всего катаются люди среднего возраста 18-45 лет. Группа 24-26 лет преобладает.\n",
    "    В среднем пользователи катаются 18-19 мин (в категории free 18 мин, в категории Ultra составляет 19 мин.).  Разница в категориях не большая, порядка 1 мин.\n",
    "    В среднем преодолевают 3060 метров за одну поездку (в категории free составляет 3028 км, в категории ultra составляет 3115 км.). По категориям разница не большая, порядка 13 км,  причем пользователи с подпиской проезжают меньшее расстояние.\n",
    "    Гипотеза о том что пользователи с подпиской тратят больше времени на поездки не подтвердилась. Пользователи с подпиской не выгодны компании\n",
    "    Гипотеза о том, что среднее расстояние для пользователей с подпиской за одну поездку не превышает 3130 метров подтвердилась.\n",
    "    Гипотеза о том, что пользователи с подпиской приносят больше выручки не подтвердилась, пользователи с подпиской приносят меньше выручки чем пользователи без подписки.\n",
    "    \n",
    "    Точка роста для компании - пользователи с подпиской, нужно каким-то образом увеличить время пользования самокатом, например сделать функцию ожидания, или придумать иное.\n"
   ]
  }
 ],
 "metadata": {
  "ExecuteTimeLog": [
   {
    "duration": 1393,
    "start_time": "2023-12-06T21:00:49.268Z"
   },
   {
    "duration": 200,
    "start_time": "2023-12-06T21:00:50.663Z"
   },
   {
    "duration": 11,
    "start_time": "2023-12-06T21:00:50.865Z"
   },
   {
    "duration": 10,
    "start_time": "2023-12-06T21:00:50.878Z"
   },
   {
    "duration": 12,
    "start_time": "2023-12-06T21:00:50.890Z"
   },
   {
    "duration": 8,
    "start_time": "2023-12-06T21:00:50.903Z"
   },
   {
    "duration": 27,
    "start_time": "2023-12-06T21:00:50.912Z"
   },
   {
    "duration": 6,
    "start_time": "2023-12-06T21:00:50.941Z"
   },
   {
    "duration": 21,
    "start_time": "2023-12-06T21:00:50.949Z"
   },
   {
    "duration": 25,
    "start_time": "2023-12-06T21:00:50.974Z"
   },
   {
    "duration": 20,
    "start_time": "2023-12-06T21:00:51.000Z"
   },
   {
    "duration": 15,
    "start_time": "2023-12-06T21:00:51.022Z"
   },
   {
    "duration": 10,
    "start_time": "2023-12-06T21:00:51.038Z"
   },
   {
    "duration": 21,
    "start_time": "2023-12-06T21:00:51.049Z"
   },
   {
    "duration": 354,
    "start_time": "2023-12-06T21:00:51.072Z"
   },
   {
    "duration": 581,
    "start_time": "2023-12-06T21:00:51.427Z"
   },
   {
    "duration": 617,
    "start_time": "2023-12-06T21:00:52.010Z"
   },
   {
    "duration": 5,
    "start_time": "2023-12-06T21:00:52.628Z"
   },
   {
    "duration": 253,
    "start_time": "2023-12-06T21:00:52.635Z"
   },
   {
    "duration": 181,
    "start_time": "2023-12-06T21:00:52.890Z"
   },
   {
    "duration": 7,
    "start_time": "2023-12-06T21:00:53.072Z"
   },
   {
    "duration": 240,
    "start_time": "2023-12-06T21:00:53.080Z"
   },
   {
    "duration": 325,
    "start_time": "2023-12-06T21:00:53.321Z"
   },
   {
    "duration": 8,
    "start_time": "2023-12-06T21:00:53.647Z"
   },
   {
    "duration": 288,
    "start_time": "2023-12-06T21:00:53.657Z"
   },
   {
    "duration": 7,
    "start_time": "2023-12-06T21:00:53.946Z"
   },
   {
    "duration": 259,
    "start_time": "2023-12-06T21:00:53.955Z"
   },
   {
    "duration": 8,
    "start_time": "2023-12-06T21:00:54.218Z"
   },
   {
    "duration": 31,
    "start_time": "2023-12-06T21:00:54.227Z"
   },
   {
    "duration": 22,
    "start_time": "2023-12-06T21:00:54.260Z"
   },
   {
    "duration": 6,
    "start_time": "2023-12-06T21:00:54.284Z"
   },
   {
    "duration": 268,
    "start_time": "2023-12-06T21:00:54.292Z"
   },
   {
    "duration": 270,
    "start_time": "2023-12-06T21:00:54.562Z"
   },
   {
    "duration": 9,
    "start_time": "2023-12-06T21:00:54.834Z"
   },
   {
    "duration": 40,
    "start_time": "2023-12-06T21:00:54.845Z"
   },
   {
    "duration": 19,
    "start_time": "2023-12-06T21:00:54.886Z"
   },
   {
    "duration": 293,
    "start_time": "2023-12-06T21:00:54.906Z"
   },
   {
    "duration": 10,
    "start_time": "2023-12-06T21:00:55.201Z"
   },
   {
    "duration": 283,
    "start_time": "2023-12-06T21:00:55.213Z"
   },
   {
    "duration": 15,
    "start_time": "2023-12-06T21:00:55.497Z"
   },
   {
    "duration": 31,
    "start_time": "2023-12-06T21:00:55.513Z"
   },
   {
    "duration": 28,
    "start_time": "2023-12-06T21:00:55.545Z"
   },
   {
    "duration": 21,
    "start_time": "2023-12-06T21:00:55.575Z"
   },
   {
    "duration": 20,
    "start_time": "2023-12-06T21:00:55.598Z"
   },
   {
    "duration": 158,
    "start_time": "2023-12-06T21:00:55.620Z"
   },
   {
    "duration": 129,
    "start_time": "2023-12-06T21:00:55.780Z"
   },
   {
    "duration": 353,
    "start_time": "2023-12-06T21:00:55.910Z"
   },
   {
    "duration": 1101,
    "start_time": "2023-12-07T15:58:39.940Z"
   },
   {
    "duration": 65,
    "start_time": "2023-12-07T15:58:41.043Z"
   },
   {
    "duration": 12,
    "start_time": "2023-12-07T15:58:41.110Z"
   },
   {
    "duration": 8,
    "start_time": "2023-12-07T15:58:41.124Z"
   },
   {
    "duration": 8,
    "start_time": "2023-12-07T15:58:41.134Z"
   },
   {
    "duration": 8,
    "start_time": "2023-12-07T15:58:41.143Z"
   },
   {
    "duration": 10,
    "start_time": "2023-12-07T15:58:41.153Z"
   },
   {
    "duration": 6,
    "start_time": "2023-12-07T15:58:41.182Z"
   },
   {
    "duration": 9,
    "start_time": "2023-12-07T15:58:41.189Z"
   },
   {
    "duration": 11,
    "start_time": "2023-12-07T15:58:41.200Z"
   },
   {
    "duration": 3,
    "start_time": "2023-12-07T15:58:41.212Z"
   },
   {
    "duration": 15,
    "start_time": "2023-12-07T15:58:41.216Z"
   },
   {
    "duration": 8,
    "start_time": "2023-12-07T15:58:41.233Z"
   },
   {
    "duration": 51,
    "start_time": "2023-12-07T15:58:41.243Z"
   },
   {
    "duration": 317,
    "start_time": "2023-12-07T15:58:41.295Z"
   },
   {
    "duration": 531,
    "start_time": "2023-12-07T15:58:41.613Z"
   },
   {
    "duration": 514,
    "start_time": "2023-12-07T15:58:42.145Z"
   },
   {
    "duration": 2,
    "start_time": "2023-12-07T15:58:42.660Z"
   },
   {
    "duration": 208,
    "start_time": "2023-12-07T15:58:42.663Z"
   },
   {
    "duration": 177,
    "start_time": "2023-12-07T15:58:42.872Z"
   },
   {
    "duration": 6,
    "start_time": "2023-12-07T15:58:43.051Z"
   },
   {
    "duration": 251,
    "start_time": "2023-12-07T15:58:43.058Z"
   },
   {
    "duration": 315,
    "start_time": "2023-12-07T15:58:43.310Z"
   },
   {
    "duration": 8,
    "start_time": "2023-12-07T15:58:43.627Z"
   },
   {
    "duration": 287,
    "start_time": "2023-12-07T15:58:43.637Z"
   },
   {
    "duration": 8,
    "start_time": "2023-12-07T15:58:43.925Z"
   },
   {
    "duration": 252,
    "start_time": "2023-12-07T15:58:43.934Z"
   },
   {
    "duration": 8,
    "start_time": "2023-12-07T15:58:44.189Z"
   },
   {
    "duration": 34,
    "start_time": "2023-12-07T15:58:44.198Z"
   },
   {
    "duration": 14,
    "start_time": "2023-12-07T15:58:44.234Z"
   },
   {
    "duration": 7,
    "start_time": "2023-12-07T15:58:44.249Z"
   },
   {
    "duration": 272,
    "start_time": "2023-12-07T15:58:44.258Z"
   },
   {
    "duration": 255,
    "start_time": "2023-12-07T15:58:44.531Z"
   },
   {
    "duration": 8,
    "start_time": "2023-12-07T15:58:44.787Z"
   },
   {
    "duration": 14,
    "start_time": "2023-12-07T15:58:44.796Z"
   },
   {
    "duration": 7,
    "start_time": "2023-12-07T15:58:44.811Z"
   },
   {
    "duration": 303,
    "start_time": "2023-12-07T15:58:44.819Z"
   },
   {
    "duration": 7,
    "start_time": "2023-12-07T15:58:45.123Z"
   },
   {
    "duration": 267,
    "start_time": "2023-12-07T15:58:45.132Z"
   },
   {
    "duration": 16,
    "start_time": "2023-12-07T15:58:45.400Z"
   },
   {
    "duration": 32,
    "start_time": "2023-12-07T15:58:45.417Z"
   },
   {
    "duration": 32,
    "start_time": "2023-12-07T15:58:45.450Z"
   },
   {
    "duration": 8,
    "start_time": "2023-12-07T15:58:45.483Z"
   },
   {
    "duration": 12,
    "start_time": "2023-12-07T15:58:45.493Z"
   },
   {
    "duration": 145,
    "start_time": "2023-12-07T15:58:45.506Z"
   },
   {
    "duration": 138,
    "start_time": "2023-12-07T15:58:45.653Z"
   },
   {
    "duration": 380,
    "start_time": "2023-12-07T15:58:45.792Z"
   },
   {
    "duration": 9,
    "start_time": "2023-12-07T16:00:38.283Z"
   },
   {
    "duration": 10,
    "start_time": "2023-12-07T16:01:24.588Z"
   },
   {
    "duration": 8,
    "start_time": "2023-12-07T16:02:32.910Z"
   },
   {
    "duration": 10,
    "start_time": "2023-12-07T16:02:50.040Z"
   },
   {
    "duration": 72,
    "start_time": "2023-12-08T07:18:55.920Z"
   },
   {
    "duration": 42,
    "start_time": "2023-12-08T07:20:28.454Z"
   },
   {
    "duration": 1383,
    "start_time": "2023-12-08T07:20:40.758Z"
   },
   {
    "duration": 194,
    "start_time": "2023-12-08T07:20:43.901Z"
   },
   {
    "duration": 2,
    "start_time": "2023-12-08T07:21:07.134Z"
   },
   {
    "duration": 11,
    "start_time": "2023-12-08T07:21:09.509Z"
   },
   {
    "duration": 3,
    "start_time": "2023-12-08T07:21:13.353Z"
   },
   {
    "duration": 88,
    "start_time": "2023-12-08T07:21:13.360Z"
   },
   {
    "duration": 13,
    "start_time": "2023-12-08T07:21:13.449Z"
   },
   {
    "duration": 52,
    "start_time": "2023-12-08T07:21:13.464Z"
   },
   {
    "duration": 19,
    "start_time": "2023-12-08T07:21:13.518Z"
   },
   {
    "duration": 28,
    "start_time": "2023-12-08T07:21:13.539Z"
   },
   {
    "duration": 20,
    "start_time": "2023-12-08T07:21:13.569Z"
   },
   {
    "duration": 20,
    "start_time": "2023-12-08T07:21:13.590Z"
   },
   {
    "duration": 87,
    "start_time": "2023-12-08T07:21:13.612Z"
   },
   {
    "duration": 52,
    "start_time": "2023-12-08T07:21:13.701Z"
   },
   {
    "duration": 15,
    "start_time": "2023-12-08T07:21:13.755Z"
   },
   {
    "duration": 40,
    "start_time": "2023-12-08T07:21:13.772Z"
   },
   {
    "duration": 10,
    "start_time": "2023-12-08T07:21:13.814Z"
   },
   {
    "duration": 41,
    "start_time": "2023-12-08T07:21:13.826Z"
   },
   {
    "duration": 447,
    "start_time": "2023-12-08T07:21:13.870Z"
   },
   {
    "duration": 615,
    "start_time": "2023-12-08T07:21:14.319Z"
   },
   {
    "duration": 610,
    "start_time": "2023-12-08T07:21:14.936Z"
   },
   {
    "duration": 5,
    "start_time": "2023-12-08T07:21:15.548Z"
   },
   {
    "duration": 563,
    "start_time": "2023-12-08T07:21:15.554Z"
   },
   {
    "duration": 198,
    "start_time": "2023-12-08T07:21:16.119Z"
   },
   {
    "duration": 7,
    "start_time": "2023-12-08T07:21:16.318Z"
   },
   {
    "duration": 253,
    "start_time": "2023-12-08T07:21:16.327Z"
   },
   {
    "duration": 340,
    "start_time": "2023-12-08T07:21:16.582Z"
   },
   {
    "duration": 9,
    "start_time": "2023-12-08T07:21:16.925Z"
   },
   {
    "duration": 329,
    "start_time": "2023-12-08T07:21:16.936Z"
   },
   {
    "duration": 8,
    "start_time": "2023-12-08T07:21:17.266Z"
   },
   {
    "duration": 334,
    "start_time": "2023-12-08T07:21:17.275Z"
   },
   {
    "duration": 9,
    "start_time": "2023-12-08T07:21:17.610Z"
   },
   {
    "duration": 32,
    "start_time": "2023-12-08T07:21:17.621Z"
   },
   {
    "duration": 31,
    "start_time": "2023-12-08T07:21:17.654Z"
   },
   {
    "duration": 7,
    "start_time": "2023-12-08T07:21:17.686Z"
   },
   {
    "duration": 337,
    "start_time": "2023-12-08T07:21:17.695Z"
   },
   {
    "duration": 293,
    "start_time": "2023-12-08T07:21:18.034Z"
   },
   {
    "duration": 10,
    "start_time": "2023-12-08T07:21:18.329Z"
   },
   {
    "duration": 293,
    "start_time": "2023-12-08T07:21:18.341Z"
   },
   {
    "duration": 19,
    "start_time": "2023-12-08T07:21:18.635Z"
   },
   {
    "duration": 363,
    "start_time": "2023-12-08T07:21:18.655Z"
   },
   {
    "duration": 9,
    "start_time": "2023-12-08T07:21:19.020Z"
   },
   {
    "duration": 332,
    "start_time": "2023-12-08T07:21:19.031Z"
   },
   {
    "duration": 18,
    "start_time": "2023-12-08T07:21:19.370Z"
   },
   {
    "duration": 51,
    "start_time": "2023-12-08T07:21:19.390Z"
   },
   {
    "duration": 30,
    "start_time": "2023-12-08T07:21:19.447Z"
   },
   {
    "duration": 25,
    "start_time": "2023-12-08T07:21:19.478Z"
   },
   {
    "duration": 37,
    "start_time": "2023-12-08T07:21:19.505Z"
   },
   {
    "duration": 188,
    "start_time": "2023-12-08T07:21:19.543Z"
   },
   {
    "duration": 153,
    "start_time": "2023-12-08T07:21:19.733Z"
   },
   {
    "duration": 366,
    "start_time": "2023-12-08T07:21:19.888Z"
   },
   {
    "duration": 6,
    "start_time": "2023-12-08T07:44:21.855Z"
   },
   {
    "duration": 3,
    "start_time": "2023-12-08T07:44:31.514Z"
   },
   {
    "duration": 101,
    "start_time": "2023-12-08T07:44:31.521Z"
   },
   {
    "duration": 7,
    "start_time": "2023-12-08T07:44:31.624Z"
   },
   {
    "duration": 65,
    "start_time": "2023-12-08T07:44:31.633Z"
   },
   {
    "duration": 36,
    "start_time": "2023-12-08T07:44:31.699Z"
   },
   {
    "duration": 23,
    "start_time": "2023-12-08T07:44:31.737Z"
   },
   {
    "duration": 42,
    "start_time": "2023-12-08T07:44:31.762Z"
   },
   {
    "duration": 22,
    "start_time": "2023-12-08T07:44:31.806Z"
   },
   {
    "duration": 36,
    "start_time": "2023-12-08T07:44:31.829Z"
   },
   {
    "duration": 32,
    "start_time": "2023-12-08T07:44:31.866Z"
   },
   {
    "duration": 24,
    "start_time": "2023-12-08T07:44:31.900Z"
   },
   {
    "duration": 44,
    "start_time": "2023-12-08T07:44:31.925Z"
   },
   {
    "duration": 42,
    "start_time": "2023-12-08T07:44:31.970Z"
   },
   {
    "duration": 39,
    "start_time": "2023-12-08T07:44:32.015Z"
   },
   {
    "duration": 344,
    "start_time": "2023-12-08T07:44:32.056Z"
   },
   {
    "duration": 726,
    "start_time": "2023-12-08T07:44:32.401Z"
   },
   {
    "duration": 598,
    "start_time": "2023-12-08T07:44:33.128Z"
   },
   {
    "duration": 4,
    "start_time": "2023-12-08T07:44:33.728Z"
   },
   {
    "duration": 258,
    "start_time": "2023-12-08T07:44:33.733Z"
   },
   {
    "duration": 6,
    "start_time": "2023-12-08T07:44:33.992Z"
   },
   {
    "duration": 238,
    "start_time": "2023-12-08T07:44:34.000Z"
   },
   {
    "duration": 7,
    "start_time": "2023-12-08T07:44:34.240Z"
   },
   {
    "duration": 213,
    "start_time": "2023-12-08T07:44:34.248Z"
   },
   {
    "duration": 343,
    "start_time": "2023-12-08T07:44:34.462Z"
   },
   {
    "duration": 9,
    "start_time": "2023-12-08T07:44:34.806Z"
   },
   {
    "duration": 301,
    "start_time": "2023-12-08T07:44:34.816Z"
   },
   {
    "duration": 8,
    "start_time": "2023-12-08T07:44:35.118Z"
   },
   {
    "duration": 306,
    "start_time": "2023-12-08T07:44:35.128Z"
   },
   {
    "duration": 7,
    "start_time": "2023-12-08T07:44:35.436Z"
   },
   {
    "duration": 48,
    "start_time": "2023-12-08T07:44:35.445Z"
   },
   {
    "duration": 58,
    "start_time": "2023-12-08T07:44:35.495Z"
   },
   {
    "duration": 79,
    "start_time": "2023-12-08T07:44:35.554Z"
   },
   {
    "duration": 452,
    "start_time": "2023-12-08T07:44:35.634Z"
   },
   {
    "duration": 426,
    "start_time": "2023-12-08T07:44:36.088Z"
   },
   {
    "duration": 8,
    "start_time": "2023-12-08T07:44:36.515Z"
   },
   {
    "duration": 69,
    "start_time": "2023-12-08T07:44:36.524Z"
   },
   {
    "duration": 52,
    "start_time": "2023-12-08T07:44:36.594Z"
   },
   {
    "duration": 338,
    "start_time": "2023-12-08T07:44:36.647Z"
   },
   {
    "duration": 8,
    "start_time": "2023-12-08T07:44:36.987Z"
   },
   {
    "duration": 311,
    "start_time": "2023-12-08T07:44:36.997Z"
   },
   {
    "duration": 15,
    "start_time": "2023-12-08T07:44:37.310Z"
   },
   {
    "duration": 66,
    "start_time": "2023-12-08T07:44:37.329Z"
   },
   {
    "duration": 11,
    "start_time": "2023-12-08T07:44:37.397Z"
   },
   {
    "duration": 28,
    "start_time": "2023-12-08T07:44:37.409Z"
   },
   {
    "duration": 16,
    "start_time": "2023-12-08T07:44:37.439Z"
   },
   {
    "duration": 159,
    "start_time": "2023-12-08T07:44:37.457Z"
   },
   {
    "duration": 179,
    "start_time": "2023-12-08T07:44:37.618Z"
   },
   {
    "duration": 357,
    "start_time": "2023-12-08T07:44:37.799Z"
   },
   {
    "duration": 209,
    "start_time": "2023-12-08T08:38:02.710Z"
   },
   {
    "duration": 6,
    "start_time": "2023-12-08T12:18:20.333Z"
   },
   {
    "duration": 190,
    "start_time": "2023-12-08T12:18:31.727Z"
   },
   {
    "duration": 5,
    "start_time": "2023-12-08T12:18:34.656Z"
   },
   {
    "duration": 4,
    "start_time": "2023-12-08T12:19:38.281Z"
   },
   {
    "duration": 8,
    "start_time": "2023-12-08T12:19:45.785Z"
   },
   {
    "duration": 7,
    "start_time": "2023-12-08T12:20:02.888Z"
   },
   {
    "duration": 85,
    "start_time": "2023-12-08T12:20:43.752Z"
   },
   {
    "duration": 181,
    "start_time": "2023-12-08T12:21:28.440Z"
   },
   {
    "duration": 6,
    "start_time": "2023-12-08T12:21:30.840Z"
   },
   {
    "duration": 8,
    "start_time": "2023-12-08T12:21:31.415Z"
   },
   {
    "duration": 135,
    "start_time": "2023-12-08T12:21:40.129Z"
   },
   {
    "duration": 129,
    "start_time": "2023-12-08T12:23:09.120Z"
   },
   {
    "duration": 558,
    "start_time": "2023-12-08T12:49:11.324Z"
   },
   {
    "duration": 10,
    "start_time": "2023-12-08T12:50:36.019Z"
   },
   {
    "duration": 534,
    "start_time": "2023-12-08T12:51:36.812Z"
   },
   {
    "duration": 482,
    "start_time": "2023-12-08T13:03:04.831Z"
   },
   {
    "duration": 479,
    "start_time": "2023-12-08T13:03:57.208Z"
   },
   {
    "duration": 475,
    "start_time": "2023-12-08T13:04:26.936Z"
   },
   {
    "duration": 457,
    "start_time": "2023-12-08T13:04:58.943Z"
   },
   {
    "duration": 10,
    "start_time": "2023-12-08T13:26:34.460Z"
   },
   {
    "duration": 8,
    "start_time": "2023-12-08T13:31:14.724Z"
   },
   {
    "duration": 8,
    "start_time": "2023-12-08T13:32:12.638Z"
   },
   {
    "duration": 1464,
    "start_time": "2023-12-08T15:10:54.089Z"
   },
   {
    "duration": 77,
    "start_time": "2023-12-08T15:10:55.555Z"
   },
   {
    "duration": 14,
    "start_time": "2023-12-08T15:10:55.634Z"
   },
   {
    "duration": 27,
    "start_time": "2023-12-08T15:10:55.651Z"
   },
   {
    "duration": 40,
    "start_time": "2023-12-08T15:10:55.680Z"
   },
   {
    "duration": 4,
    "start_time": "2023-12-08T15:10:55.722Z"
   },
   {
    "duration": 13,
    "start_time": "2023-12-08T15:10:55.728Z"
   },
   {
    "duration": 10,
    "start_time": "2023-12-08T15:10:55.744Z"
   },
   {
    "duration": 11,
    "start_time": "2023-12-08T15:10:55.756Z"
   },
   {
    "duration": 13,
    "start_time": "2023-12-08T15:10:55.770Z"
   },
   {
    "duration": 18,
    "start_time": "2023-12-08T15:10:55.785Z"
   },
   {
    "duration": 23,
    "start_time": "2023-12-08T15:10:55.823Z"
   },
   {
    "duration": 12,
    "start_time": "2023-12-08T15:10:55.848Z"
   },
   {
    "duration": 33,
    "start_time": "2023-12-08T15:10:55.861Z"
   },
   {
    "duration": 401,
    "start_time": "2023-12-08T15:10:55.896Z"
   },
   {
    "duration": 646,
    "start_time": "2023-12-08T15:10:56.298Z"
   },
   {
    "duration": 670,
    "start_time": "2023-12-08T15:10:56.946Z"
   },
   {
    "duration": 8,
    "start_time": "2023-12-08T15:10:57.618Z"
   },
   {
    "duration": 292,
    "start_time": "2023-12-08T15:10:57.627Z"
   },
   {
    "duration": 226,
    "start_time": "2023-12-08T15:10:57.920Z"
   },
   {
    "duration": 7,
    "start_time": "2023-12-08T15:10:58.147Z"
   },
   {
    "duration": 36,
    "start_time": "2023-12-08T15:10:58.156Z"
   },
   {
    "duration": 265,
    "start_time": "2023-12-08T15:10:58.194Z"
   },
   {
    "duration": 78,
    "start_time": "2023-12-08T15:10:58.461Z"
   },
   {
    "duration": 0,
    "start_time": "2023-12-08T15:10:58.541Z"
   },
   {
    "duration": 0,
    "start_time": "2023-12-08T15:10:58.543Z"
   },
   {
    "duration": 0,
    "start_time": "2023-12-08T15:10:58.544Z"
   },
   {
    "duration": 0,
    "start_time": "2023-12-08T15:10:58.545Z"
   },
   {
    "duration": 0,
    "start_time": "2023-12-08T15:10:58.547Z"
   },
   {
    "duration": 0,
    "start_time": "2023-12-08T15:10:58.549Z"
   },
   {
    "duration": 0,
    "start_time": "2023-12-08T15:10:58.550Z"
   },
   {
    "duration": 1,
    "start_time": "2023-12-08T15:10:58.551Z"
   },
   {
    "duration": 0,
    "start_time": "2023-12-08T15:10:58.553Z"
   },
   {
    "duration": 0,
    "start_time": "2023-12-08T15:10:58.554Z"
   },
   {
    "duration": 0,
    "start_time": "2023-12-08T15:10:58.556Z"
   },
   {
    "duration": 0,
    "start_time": "2023-12-08T15:10:58.558Z"
   },
   {
    "duration": 0,
    "start_time": "2023-12-08T15:10:58.560Z"
   },
   {
    "duration": 0,
    "start_time": "2023-12-08T15:10:58.561Z"
   },
   {
    "duration": 0,
    "start_time": "2023-12-08T15:10:58.563Z"
   },
   {
    "duration": 0,
    "start_time": "2023-12-08T15:10:58.565Z"
   },
   {
    "duration": 0,
    "start_time": "2023-12-08T15:10:58.566Z"
   },
   {
    "duration": 0,
    "start_time": "2023-12-08T15:10:58.568Z"
   },
   {
    "duration": 0,
    "start_time": "2023-12-08T15:10:58.570Z"
   },
   {
    "duration": 0,
    "start_time": "2023-12-08T15:10:58.572Z"
   },
   {
    "duration": 1,
    "start_time": "2023-12-08T15:10:58.573Z"
   },
   {
    "duration": 0,
    "start_time": "2023-12-08T15:10:58.575Z"
   },
   {
    "duration": 0,
    "start_time": "2023-12-08T15:10:58.576Z"
   },
   {
    "duration": 0,
    "start_time": "2023-12-08T15:10:58.578Z"
   },
   {
    "duration": 0,
    "start_time": "2023-12-08T15:10:58.623Z"
   },
   {
    "duration": 0,
    "start_time": "2023-12-08T15:10:58.624Z"
   },
   {
    "duration": 8,
    "start_time": "2023-12-08T15:12:02.824Z"
   },
   {
    "duration": 191,
    "start_time": "2023-12-08T15:12:02.992Z"
   },
   {
    "duration": 370,
    "start_time": "2023-12-08T15:12:03.493Z"
   },
   {
    "duration": 10,
    "start_time": "2023-12-08T15:12:04.118Z"
   },
   {
    "duration": 518,
    "start_time": "2023-12-08T15:12:04.280Z"
   },
   {
    "duration": 640,
    "start_time": "2023-12-08T15:12:04.800Z"
   },
   {
    "duration": 10,
    "start_time": "2023-12-08T15:12:05.442Z"
   },
   {
    "duration": 29,
    "start_time": "2023-12-08T15:12:06.051Z"
   },
   {
    "duration": 18,
    "start_time": "2023-12-08T15:12:06.393Z"
   },
   {
    "duration": 9,
    "start_time": "2023-12-08T15:12:06.561Z"
   },
   {
    "duration": 610,
    "start_time": "2023-12-08T15:12:06.726Z"
   },
   {
    "duration": 674,
    "start_time": "2023-12-08T15:12:07.338Z"
   },
   {
    "duration": 11,
    "start_time": "2023-12-08T15:12:08.014Z"
   },
   {
    "duration": 17,
    "start_time": "2023-12-08T15:12:08.027Z"
   },
   {
    "duration": 9,
    "start_time": "2023-12-08T15:12:08.046Z"
   },
   {
    "duration": 775,
    "start_time": "2023-12-08T15:12:08.056Z"
   },
   {
    "duration": 9,
    "start_time": "2023-12-08T15:12:08.833Z"
   },
   {
    "duration": 560,
    "start_time": "2023-12-08T15:12:08.844Z"
   },
   {
    "duration": 28,
    "start_time": "2023-12-08T15:12:09.405Z"
   },
   {
    "duration": 40,
    "start_time": "2023-12-08T15:12:09.465Z"
   },
   {
    "duration": 15,
    "start_time": "2023-12-08T15:12:10.794Z"
   },
   {
    "duration": 8,
    "start_time": "2023-12-08T15:12:12.139Z"
   },
   {
    "duration": 10,
    "start_time": "2023-12-08T15:12:13.282Z"
   },
   {
    "duration": 140,
    "start_time": "2023-12-08T15:12:15.538Z"
   },
   {
    "duration": 155,
    "start_time": "2023-12-08T15:12:15.903Z"
   },
   {
    "duration": 420,
    "start_time": "2023-12-08T15:12:16.813Z"
   },
   {
    "duration": 1272,
    "start_time": "2023-12-08T17:05:51.566Z"
   },
   {
    "duration": 200,
    "start_time": "2023-12-08T17:05:52.841Z"
   },
   {
    "duration": 13,
    "start_time": "2023-12-08T17:05:53.043Z"
   },
   {
    "duration": 25,
    "start_time": "2023-12-08T17:05:53.057Z"
   },
   {
    "duration": 22,
    "start_time": "2023-12-08T17:05:53.085Z"
   },
   {
    "duration": 12,
    "start_time": "2023-12-08T17:05:53.109Z"
   },
   {
    "duration": 28,
    "start_time": "2023-12-08T17:05:53.122Z"
   },
   {
    "duration": 7,
    "start_time": "2023-12-08T17:05:53.151Z"
   },
   {
    "duration": 38,
    "start_time": "2023-12-08T17:05:53.160Z"
   },
   {
    "duration": 43,
    "start_time": "2023-12-08T17:05:53.200Z"
   },
   {
    "duration": 5,
    "start_time": "2023-12-08T17:05:53.244Z"
   },
   {
    "duration": 18,
    "start_time": "2023-12-08T17:05:53.251Z"
   },
   {
    "duration": 11,
    "start_time": "2023-12-08T17:05:53.270Z"
   },
   {
    "duration": 41,
    "start_time": "2023-12-08T17:05:53.284Z"
   },
   {
    "duration": 354,
    "start_time": "2023-12-08T17:05:53.327Z"
   },
   {
    "duration": 634,
    "start_time": "2023-12-08T17:05:53.682Z"
   },
   {
    "duration": 577,
    "start_time": "2023-12-08T17:05:54.318Z"
   },
   {
    "duration": 10,
    "start_time": "2023-12-08T17:05:54.897Z"
   },
   {
    "duration": 240,
    "start_time": "2023-12-08T17:05:54.909Z"
   },
   {
    "duration": 211,
    "start_time": "2023-12-08T17:05:55.151Z"
   },
   {
    "duration": 6,
    "start_time": "2023-12-08T17:05:55.365Z"
   },
   {
    "duration": 29,
    "start_time": "2023-12-08T17:05:55.373Z"
   },
   {
    "duration": 270,
    "start_time": "2023-12-08T17:05:55.403Z"
   },
   {
    "duration": 7,
    "start_time": "2023-12-08T17:05:55.675Z"
   },
   {
    "duration": 233,
    "start_time": "2023-12-08T17:05:55.684Z"
   },
   {
    "duration": 350,
    "start_time": "2023-12-08T17:05:55.919Z"
   },
   {
    "duration": 11,
    "start_time": "2023-12-08T17:05:56.270Z"
   },
   {
    "duration": 597,
    "start_time": "2023-12-08T17:05:56.283Z"
   },
   {
    "duration": 628,
    "start_time": "2023-12-08T17:05:56.881Z"
   },
   {
    "duration": 8,
    "start_time": "2023-12-08T17:05:57.511Z"
   },
   {
    "duration": 30,
    "start_time": "2023-12-08T17:05:57.520Z"
   },
   {
    "duration": 16,
    "start_time": "2023-12-08T17:05:57.551Z"
   },
   {
    "duration": 9,
    "start_time": "2023-12-08T17:05:57.568Z"
   },
   {
    "duration": 632,
    "start_time": "2023-12-08T17:05:57.579Z"
   },
   {
    "duration": 598,
    "start_time": "2023-12-08T17:05:58.212Z"
   },
   {
    "duration": 8,
    "start_time": "2023-12-08T17:05:58.811Z"
   },
   {
    "duration": 32,
    "start_time": "2023-12-08T17:05:58.821Z"
   },
   {
    "duration": 8,
    "start_time": "2023-12-08T17:05:58.855Z"
   },
   {
    "duration": 644,
    "start_time": "2023-12-08T17:05:58.864Z"
   },
   {
    "duration": 9,
    "start_time": "2023-12-08T17:05:59.510Z"
   },
   {
    "duration": 564,
    "start_time": "2023-12-08T17:05:59.522Z"
   },
   {
    "duration": 32,
    "start_time": "2023-12-08T17:06:00.087Z"
   },
   {
    "duration": 137,
    "start_time": "2023-12-08T17:06:00.121Z"
   },
   {
    "duration": 33,
    "start_time": "2023-12-08T17:06:00.260Z"
   },
   {
    "duration": 152,
    "start_time": "2023-12-08T17:06:00.295Z"
   },
   {
    "duration": 114,
    "start_time": "2023-12-08T17:06:00.449Z"
   },
   {
    "duration": 248,
    "start_time": "2023-12-08T17:06:00.565Z"
   },
   {
    "duration": 158,
    "start_time": "2023-12-08T17:06:00.815Z"
   },
   {
    "duration": 451,
    "start_time": "2023-12-08T17:06:00.975Z"
   },
   {
    "duration": 3,
    "start_time": "2023-12-08T17:06:01.427Z"
   },
   {
    "duration": 1216,
    "start_time": "2023-12-09T20:10:30.524Z"
   },
   {
    "duration": 68,
    "start_time": "2023-12-09T20:10:31.742Z"
   },
   {
    "duration": 12,
    "start_time": "2023-12-09T20:10:31.812Z"
   },
   {
    "duration": 73,
    "start_time": "2023-12-09T20:10:31.826Z"
   },
   {
    "duration": 52,
    "start_time": "2023-12-09T20:10:31.901Z"
   },
   {
    "duration": 32,
    "start_time": "2023-12-09T20:10:31.955Z"
   },
   {
    "duration": 105,
    "start_time": "2023-12-09T20:10:31.988Z"
   },
   {
    "duration": 59,
    "start_time": "2023-12-09T20:10:32.095Z"
   },
   {
    "duration": 70,
    "start_time": "2023-12-09T20:10:32.155Z"
   },
   {
    "duration": 74,
    "start_time": "2023-12-09T20:10:32.227Z"
   },
   {
    "duration": 79,
    "start_time": "2023-12-09T20:10:32.303Z"
   },
   {
    "duration": 40,
    "start_time": "2023-12-09T20:10:32.383Z"
   },
   {
    "duration": 22,
    "start_time": "2023-12-09T20:10:32.425Z"
   },
   {
    "duration": 96,
    "start_time": "2023-12-09T20:10:32.450Z"
   },
   {
    "duration": 366,
    "start_time": "2023-12-09T20:10:32.548Z"
   },
   {
    "duration": 546,
    "start_time": "2023-12-09T20:10:32.915Z"
   },
   {
    "duration": 596,
    "start_time": "2023-12-09T20:10:33.463Z"
   },
   {
    "duration": 5,
    "start_time": "2023-12-09T20:10:34.060Z"
   },
   {
    "duration": 231,
    "start_time": "2023-12-09T20:10:34.074Z"
   },
   {
    "duration": 200,
    "start_time": "2023-12-09T20:10:34.307Z"
   },
   {
    "duration": 6,
    "start_time": "2023-12-09T20:10:34.508Z"
   },
   {
    "duration": 22,
    "start_time": "2023-12-09T20:10:34.515Z"
   },
   {
    "duration": 221,
    "start_time": "2023-12-09T20:10:34.539Z"
   },
   {
    "duration": 7,
    "start_time": "2023-12-09T20:10:34.761Z"
   },
   {
    "duration": 182,
    "start_time": "2023-12-09T20:10:34.774Z"
   },
   {
    "duration": 355,
    "start_time": "2023-12-09T20:10:34.958Z"
   },
   {
    "duration": 9,
    "start_time": "2023-12-09T20:10:35.315Z"
   },
   {
    "duration": 507,
    "start_time": "2023-12-09T20:10:35.325Z"
   },
   {
    "duration": 531,
    "start_time": "2023-12-09T20:10:35.833Z"
   },
   {
    "duration": 13,
    "start_time": "2023-12-09T20:10:36.366Z"
   },
   {
    "duration": 65,
    "start_time": "2023-12-09T20:10:36.381Z"
   },
   {
    "duration": 30,
    "start_time": "2023-12-09T20:10:36.448Z"
   },
   {
    "duration": 22,
    "start_time": "2023-12-09T20:10:36.479Z"
   },
   {
    "duration": 558,
    "start_time": "2023-12-09T20:10:36.503Z"
   },
   {
    "duration": 577,
    "start_time": "2023-12-09T20:10:37.063Z"
   },
   {
    "duration": 9,
    "start_time": "2023-12-09T20:10:37.641Z"
   },
   {
    "duration": 39,
    "start_time": "2023-12-09T20:10:37.651Z"
   },
   {
    "duration": 7,
    "start_time": "2023-12-09T20:10:37.691Z"
   },
   {
    "duration": 660,
    "start_time": "2023-12-09T20:10:37.700Z"
   },
   {
    "duration": 13,
    "start_time": "2023-12-09T20:10:38.362Z"
   },
   {
    "duration": 556,
    "start_time": "2023-12-09T20:10:38.378Z"
   },
   {
    "duration": 18,
    "start_time": "2023-12-09T20:10:38.935Z"
   },
   {
    "duration": 49,
    "start_time": "2023-12-09T20:10:38.955Z"
   },
   {
    "duration": 12,
    "start_time": "2023-12-09T20:10:39.006Z"
   },
   {
    "duration": 8,
    "start_time": "2023-12-09T20:10:39.020Z"
   },
   {
    "duration": 9,
    "start_time": "2023-12-09T20:10:39.030Z"
   },
   {
    "duration": 166,
    "start_time": "2023-12-09T20:10:39.041Z"
   },
   {
    "duration": 145,
    "start_time": "2023-12-09T20:10:39.208Z"
   },
   {
    "duration": 402,
    "start_time": "2023-12-09T20:10:39.354Z"
   },
   {
    "duration": 2,
    "start_time": "2023-12-09T20:10:39.757Z"
   }
  ],
  "kernelspec": {
   "display_name": "Python 3 (ipykernel)",
   "language": "python",
   "name": "python3"
  },
  "language_info": {
   "codemirror_mode": {
    "name": "ipython",
    "version": 3
   },
   "file_extension": ".py",
   "mimetype": "text/x-python",
   "name": "python",
   "nbconvert_exporter": "python",
   "pygments_lexer": "ipython3",
   "version": "3.9.5"
  },
  "toc": {
   "base_numbering": 1,
   "nav_menu": {},
   "number_sections": true,
   "sideBar": true,
   "skip_h1_title": true,
   "title_cell": "Table of Contents",
   "title_sidebar": "Contents",
   "toc_cell": false,
   "toc_position": {},
   "toc_section_display": true,
   "toc_window_display": false
  }
 },
 "nbformat": 4,
 "nbformat_minor": 5
}
