{
 "cells": [
  {
   "cell_type": "markdown",
   "id": "1d90a8d5",
   "metadata": {},
   "source": [
    "# Принятие решения в бизнесе"
   ]
  },
  {
   "cell_type": "markdown",
   "id": "5e6eb2ad",
   "metadata": {},
   "source": [
    "Провести обработку данных. Проверить гипотезы различий в средних чеках и среднем количестве заказов в группах А и Б. Проверить различие между отфильтрованными данными и сырыми."
   ]
  },
  {
   "cell_type": "code",
   "execution_count": 124,
   "id": "66167c6f",
   "metadata": {},
   "outputs": [],
   "source": [
    "# Импорт библиотек\n",
    "import numpy as np\n",
    "import pandas as pd\n",
    "import matplotlib.pyplot as plt\n",
    "import seaborn as sns\n",
    "import plotly.express as px\n",
    "from plotly import graph_objects as go\n",
    "import json\n",
    "import re\n",
    "from scipy.stats import ttest_ind\n",
    "import scipy.stats as stats\n",
    "from scipy.stats import ttest_1samp\n",
    "from math import factorial\n"
   ]
  },
  {
   "cell_type": "code",
   "execution_count": 125,
   "id": "95092971",
   "metadata": {},
   "outputs": [],
   "source": [
    "pd.options.display.max_colwidth = 200"
   ]
  },
  {
   "cell_type": "code",
   "execution_count": 126,
   "id": "5a1432cb-39d7-4428-bfee-ffb4a6d17fbf",
   "metadata": {},
   "outputs": [],
   "source": [
    "# Загрузка датафрейма\n",
    "\n",
    "visitors = pd.read_csv(\"/datasets/visitors.csv\")\n",
    "\n",
    "orders = pd.read_csv(\"/datasets/orders.csv\")\n",
    "\n",
    "hypothesis = pd.read_csv(\"/datasets/hypothesis.csv\")"
   ]
  },
  {
   "cell_type": "markdown",
   "id": "78b1cd69",
   "metadata": {},
   "source": [
    "Файл hypothesis.csv.\n",
    "Hypothesis — краткое описание гипотезы;\n",
    "Reach — охват пользователей по 10-балльной шкале;\n",
    "Impact — влияние на пользователей по 10-балльной шкале;\n",
    "Confidence — уверенность в гипотезе по 10-балльной шкале;\n",
    "Efforts — затраты ресурсов на проверку гипотезы по 10-балльной шкале. Чем больше значение Efforts, тем дороже проверка гипотезы.\n",
    "______________________________________________________________________________________________________________________\n",
    "\n",
    "Файл orders.csv.\n",
    "transactionId — идентификатор заказа;\n",
    "visitorId — идентификатор пользователя, совершившего заказ;\n",
    "date — дата, когда был совершён заказ;\n",
    "revenue — выручка заказа;\n",
    "group — группа A/B-теста, в которую попал заказ.\n",
    "______________________________________________________________________________________________________________________\n",
    "\n",
    "Файл visitors.csv. Скачать датасет\n",
    "date — дата;\n",
    "group — группа A/B-теста;\n",
    "visitors — количество пользователей в указанную дату в указанной группе A/B-теста"
   ]
  },
  {
   "cell_type": "code",
   "execution_count": 127,
   "id": "736bb6ee-a194-4552-b45f-0b6532c76b63",
   "metadata": {},
   "outputs": [
    {
     "name": "stdout",
     "output_type": "stream",
     "text": [
      "<class 'pandas.core.frame.DataFrame'>\n",
      "RangeIndex: 62 entries, 0 to 61\n",
      "Data columns (total 3 columns):\n",
      " #   Column    Non-Null Count  Dtype \n",
      "---  ------    --------------  ----- \n",
      " 0   date      62 non-null     object\n",
      " 1   group     62 non-null     object\n",
      " 2   visitors  62 non-null     int64 \n",
      "dtypes: int64(1), object(2)\n",
      "memory usage: 1.6+ KB\n"
     ]
    }
   ],
   "source": [
    "visitors.head()\n",
    "visitors.info()"
   ]
  },
  {
   "cell_type": "code",
   "execution_count": 128,
   "id": "fda65a27",
   "metadata": {},
   "outputs": [
    {
     "data": {
      "text/html": [
       "<div>\n",
       "<style scoped>\n",
       "    .dataframe tbody tr th:only-of-type {\n",
       "        vertical-align: middle;\n",
       "    }\n",
       "\n",
       "    .dataframe tbody tr th {\n",
       "        vertical-align: top;\n",
       "    }\n",
       "\n",
       "    .dataframe thead th {\n",
       "        text-align: right;\n",
       "    }\n",
       "</style>\n",
       "<table border=\"1\" class=\"dataframe\">\n",
       "  <thead>\n",
       "    <tr style=\"text-align: right;\">\n",
       "      <th></th>\n",
       "      <th>date</th>\n",
       "      <th>group</th>\n",
       "      <th>visitors</th>\n",
       "    </tr>\n",
       "  </thead>\n",
       "  <tbody>\n",
       "    <tr>\n",
       "      <th>0</th>\n",
       "      <td>2019-08-01</td>\n",
       "      <td>A</td>\n",
       "      <td>719</td>\n",
       "    </tr>\n",
       "    <tr>\n",
       "      <th>1</th>\n",
       "      <td>2019-08-02</td>\n",
       "      <td>A</td>\n",
       "      <td>619</td>\n",
       "    </tr>\n",
       "    <tr>\n",
       "      <th>2</th>\n",
       "      <td>2019-08-03</td>\n",
       "      <td>A</td>\n",
       "      <td>507</td>\n",
       "    </tr>\n",
       "    <tr>\n",
       "      <th>3</th>\n",
       "      <td>2019-08-04</td>\n",
       "      <td>A</td>\n",
       "      <td>717</td>\n",
       "    </tr>\n",
       "    <tr>\n",
       "      <th>4</th>\n",
       "      <td>2019-08-05</td>\n",
       "      <td>A</td>\n",
       "      <td>756</td>\n",
       "    </tr>\n",
       "  </tbody>\n",
       "</table>\n",
       "</div>"
      ],
      "text/plain": [
       "        date group  visitors\n",
       "0 2019-08-01     A       719\n",
       "1 2019-08-02     A       619\n",
       "2 2019-08-03     A       507\n",
       "3 2019-08-04     A       717\n",
       "4 2019-08-05     A       756"
      ]
     },
     "execution_count": 128,
     "metadata": {},
     "output_type": "execute_result"
    }
   ],
   "source": [
    "#Приведем дату к Datetime\n",
    "visitors['date'] = pd.to_datetime(visitors['date'], format='%Y-%m-%d')\n",
    "visitors.head()"
   ]
  },
  {
   "cell_type": "code",
   "execution_count": 129,
   "id": "11ebf34c-3127-45b5-a0f3-2fb8a25b592c",
   "metadata": {},
   "outputs": [
    {
     "name": "stdout",
     "output_type": "stream",
     "text": [
      "<class 'pandas.core.frame.DataFrame'>\n",
      "RangeIndex: 1197 entries, 0 to 1196\n",
      "Data columns (total 5 columns):\n",
      " #   Column         Non-Null Count  Dtype \n",
      "---  ------         --------------  ----- \n",
      " 0   transactionId  1197 non-null   int64 \n",
      " 1   visitorId      1197 non-null   int64 \n",
      " 2   date           1197 non-null   object\n",
      " 3   revenue        1197 non-null   int64 \n",
      " 4   group          1197 non-null   object\n",
      "dtypes: int64(3), object(2)\n",
      "memory usage: 46.9+ KB\n"
     ]
    }
   ],
   "source": [
    "orders.head()\n",
    "orders.info()"
   ]
  },
  {
   "cell_type": "code",
   "execution_count": 130,
   "id": "c858c2eb",
   "metadata": {},
   "outputs": [
    {
     "data": {
      "text/html": [
       "<div>\n",
       "<style scoped>\n",
       "    .dataframe tbody tr th:only-of-type {\n",
       "        vertical-align: middle;\n",
       "    }\n",
       "\n",
       "    .dataframe tbody tr th {\n",
       "        vertical-align: top;\n",
       "    }\n",
       "\n",
       "    .dataframe thead th {\n",
       "        text-align: right;\n",
       "    }\n",
       "</style>\n",
       "<table border=\"1\" class=\"dataframe\">\n",
       "  <thead>\n",
       "    <tr style=\"text-align: right;\">\n",
       "      <th></th>\n",
       "      <th>transactionId</th>\n",
       "      <th>visitorId</th>\n",
       "      <th>date</th>\n",
       "      <th>revenue</th>\n",
       "      <th>group</th>\n",
       "    </tr>\n",
       "  </thead>\n",
       "  <tbody>\n",
       "    <tr>\n",
       "      <th>0</th>\n",
       "      <td>3667963787</td>\n",
       "      <td>3312258926</td>\n",
       "      <td>2019-08-15</td>\n",
       "      <td>1650</td>\n",
       "      <td>B</td>\n",
       "    </tr>\n",
       "    <tr>\n",
       "      <th>1</th>\n",
       "      <td>2804400009</td>\n",
       "      <td>3642806036</td>\n",
       "      <td>2019-08-15</td>\n",
       "      <td>730</td>\n",
       "      <td>B</td>\n",
       "    </tr>\n",
       "    <tr>\n",
       "      <th>2</th>\n",
       "      <td>2961555356</td>\n",
       "      <td>4069496402</td>\n",
       "      <td>2019-08-15</td>\n",
       "      <td>400</td>\n",
       "      <td>A</td>\n",
       "    </tr>\n",
       "    <tr>\n",
       "      <th>3</th>\n",
       "      <td>3797467345</td>\n",
       "      <td>1196621759</td>\n",
       "      <td>2019-08-15</td>\n",
       "      <td>9759</td>\n",
       "      <td>B</td>\n",
       "    </tr>\n",
       "    <tr>\n",
       "      <th>4</th>\n",
       "      <td>2282983706</td>\n",
       "      <td>2322279887</td>\n",
       "      <td>2019-08-15</td>\n",
       "      <td>2308</td>\n",
       "      <td>B</td>\n",
       "    </tr>\n",
       "  </tbody>\n",
       "</table>\n",
       "</div>"
      ],
      "text/plain": [
       "   transactionId   visitorId       date  revenue group\n",
       "0     3667963787  3312258926 2019-08-15     1650     B\n",
       "1     2804400009  3642806036 2019-08-15      730     B\n",
       "2     2961555356  4069496402 2019-08-15      400     A\n",
       "3     3797467345  1196621759 2019-08-15     9759     B\n",
       "4     2282983706  2322279887 2019-08-15     2308     B"
      ]
     },
     "execution_count": 130,
     "metadata": {},
     "output_type": "execute_result"
    }
   ],
   "source": [
    "orders['date'] = pd.to_datetime(orders['date'], format='%Y-%m-%d')\n",
    "orders.head()"
   ]
  },
  {
   "cell_type": "code",
   "execution_count": 131,
   "id": "2998040f-c9aa-4d9b-9b12-762831e78686",
   "metadata": {},
   "outputs": [
    {
     "name": "stdout",
     "output_type": "stream",
     "text": [
      "<class 'pandas.core.frame.DataFrame'>\n",
      "RangeIndex: 9 entries, 0 to 8\n",
      "Data columns (total 5 columns):\n",
      " #   Column      Non-Null Count  Dtype \n",
      "---  ------      --------------  ----- \n",
      " 0   Hypothesis  9 non-null      object\n",
      " 1   Reach       9 non-null      int64 \n",
      " 2   Impact      9 non-null      int64 \n",
      " 3   Confidence  9 non-null      int64 \n",
      " 4   Efforts     9 non-null      int64 \n",
      "dtypes: int64(4), object(1)\n",
      "memory usage: 488.0+ bytes\n"
     ]
    }
   ],
   "source": [
    "hypothesis.head()\n",
    "hypothesis.info()"
   ]
  },
  {
   "cell_type": "code",
   "execution_count": 132,
   "id": "2ac13140",
   "metadata": {},
   "outputs": [
    {
     "name": "stdout",
     "output_type": "stream",
     "text": [
      "62\n",
      "0\n",
      "Empty DataFrame\n",
      "Columns: [date, group, visitors]\n",
      "Index: []\n"
     ]
    },
    {
     "data": {
      "text/plain": [
       "62"
      ]
     },
     "metadata": {},
     "output_type": "display_data"
    }
   ],
   "source": [
    "# поищем дубли\n",
    "print(visitors.shape[0])\n",
    "print(visitors.duplicated(subset=['date', 'group', 'visitors']).sum())\n",
    "\n",
    "print(visitors[visitors.duplicated(subset=['date', 'group', 'visitors'], keep=False)]\n",
    "      [['date', 'group', 'visitors']])\n",
    "visitors = visitors.drop_duplicates(subset=['date', 'group', 'visitors'], keep='first')\n",
    "display(visitors.shape[0])"
   ]
  },
  {
   "cell_type": "code",
   "execution_count": 133,
   "id": "50fd95ee",
   "metadata": {},
   "outputs": [
    {
     "name": "stdout",
     "output_type": "stream",
     "text": [
      "1197\n",
      "0\n",
      "Empty DataFrame\n",
      "Columns: [transactionId, visitorId, group]\n",
      "Index: []\n"
     ]
    },
    {
     "data": {
      "text/plain": [
       "1197"
      ]
     },
     "metadata": {},
     "output_type": "display_data"
    }
   ],
   "source": [
    "print(orders.shape[0])\n",
    "print(orders.duplicated(subset=['transactionId', 'visitorId', 'group']).sum())\n",
    "\n",
    "print(orders[orders.duplicated(subset=['transactionId', 'visitorId', 'group'], keep=False)]\n",
    "      [['transactionId', 'visitorId', 'group']])\n",
    "orders = orders.drop_duplicates(subset=['transactionId', 'visitorId', 'group'], keep='first')\n",
    "display(orders.shape[0])"
   ]
  },
  {
   "cell_type": "code",
   "execution_count": 134,
   "id": "c2faad21",
   "metadata": {},
   "outputs": [
    {
     "name": "stdout",
     "output_type": "stream",
     "text": [
      "     visitorId   group\n",
      "0      8300375  [B, A]\n",
      "1    199603092  [A, B]\n",
      "2    232979603  [B, A]\n",
      "3    237748145  [B, A]\n",
      "5    276558944  [B, A]\n",
      "6    351125977  [B, A]\n",
      "8    393266494  [A, B]\n",
      "10   457167155  [B, A]\n",
      "11   471551937  [A, B]\n",
      "12   477780734  [A, B]\n",
      "17   818047933  [A, B]\n",
      "18   963407295  [B, A]\n",
      "19  1230306981  [A, B]\n",
      "20  1294878855  [B, A]\n",
      "21  1316129916  [A, B]\n",
      "22  1333886533  [A, B]\n",
      "24  1404934699  [B, A]\n",
      "25  1602967004  [B, A]\n",
      "26  1614305549  [B, A]\n",
      "29  1648269707  [B, A]\n",
      "30  1668030113  [B, A]\n",
      "31  1738359350  [A, B]\n",
      "33  1801183820  [B, A]\n",
      "34  1959144690  [A, B]\n",
      "37  2038680547  [B, A]\n",
      "38  2044997962  [A, B]\n",
      "44  2378935119  [A, B]\n",
      "46  2458001652  [A, B]\n",
      "47  2579882178  [A, B]\n",
      "48  2587333274  [B, A]\n",
      "49  2600415354  [B, A]\n",
      "50  2654030115  [B, A]\n",
      "51  2686716486  [A, B]\n",
      "53  2712142231  [B, A]\n",
      "54  2716752286  [B, A]\n",
      "58  2780786433  [A, B]\n",
      "60  2927087541  [A, B]\n",
      "61  2949041841  [A, B]\n",
      "62  2954449915  [A, B]\n",
      "64  3062433592  [B, A]\n",
      "66  3202540741  [A, B]\n",
      "67  3234906277  [B, A]\n",
      "72  3656415546  [A, B]\n",
      "73  3717692402  [B, A]\n",
      "74  3766097110  [A, B]\n",
      "75  3803269165  [A, B]\n",
      "76  3891541246  [A, B]\n",
      "80  3941795274  [A, B]\n",
      "81  3951559397  [B, A]\n",
      "82  3957174400  [A, B]\n",
      "83  3963646447  [A, B]\n",
      "85  3972127743  [B, A]\n",
      "86  3984495233  [B, A]\n",
      "87  4069496402  [A, B]\n",
      "89  4120364173  [A, B]\n",
      "91  4186807279  [B, A]\n",
      "92  4256040402  [B, A]\n",
      "93  4266935830  [A, B]\n"
     ]
    }
   ],
   "source": [
    "duplicates = orders[orders.duplicated(subset=['visitorId'], keep=False)]\n",
    "grouped_duplicates = duplicates.groupby('visitorId')['group'].unique().reset_index()\n",
    "users_in_both_groups = grouped_duplicates[grouped_duplicates['group'].apply(lambda x: len(x) > 1)]\n",
    "print(users_in_both_groups)\n",
    "users_to_remove = users_in_both_groups['visitorId']\n",
    "orders = orders[~orders['visitorId'].isin(users_to_remove)]"
   ]
  },
  {
   "cell_type": "code",
   "execution_count": 135,
   "id": "b9a6ea3e",
   "metadata": {},
   "outputs": [
    {
     "name": "stdout",
     "output_type": "stream",
     "text": [
      "<class 'pandas.core.frame.DataFrame'>\n",
      "Int64Index: 1016 entries, 0 to 1196\n",
      "Data columns (total 5 columns):\n",
      " #   Column         Non-Null Count  Dtype         \n",
      "---  ------         --------------  -----         \n",
      " 0   transactionId  1016 non-null   int64         \n",
      " 1   visitorId      1016 non-null   int64         \n",
      " 2   date           1016 non-null   datetime64[ns]\n",
      " 3   revenue        1016 non-null   int64         \n",
      " 4   group          1016 non-null   object        \n",
      "dtypes: datetime64[ns](1), int64(3), object(1)\n",
      "memory usage: 47.6+ KB\n"
     ]
    }
   ],
   "source": [
    "orders.info()"
   ]
  },
  {
   "cell_type": "markdown",
   "id": "d13e51dd",
   "metadata": {},
   "source": [
    "Дубликатов невидно, проникновение пользователей одной группы в другую имеется, такие пользователи исключены из датафрема."
   ]
  },
  {
   "cell_type": "markdown",
   "id": "f101feae",
   "metadata": {},
   "source": [
    "Выводы:\n",
    "    Качество данных хорошее, дубликатов нет. Дату привел к правильному типу. "
   ]
  },
  {
   "cell_type": "markdown",
   "id": "8f485c49",
   "metadata": {},
   "source": [
    "# Часть 1. Приоритизация гипотез."
   ]
  },
  {
   "cell_type": "code",
   "execution_count": 136,
   "id": "ac9d3669",
   "metadata": {},
   "outputs": [
    {
     "data": {
      "text/html": [
       "<div>\n",
       "<style scoped>\n",
       "    .dataframe tbody tr th:only-of-type {\n",
       "        vertical-align: middle;\n",
       "    }\n",
       "\n",
       "    .dataframe tbody tr th {\n",
       "        vertical-align: top;\n",
       "    }\n",
       "\n",
       "    .dataframe thead th {\n",
       "        text-align: right;\n",
       "    }\n",
       "</style>\n",
       "<table border=\"1\" class=\"dataframe\">\n",
       "  <thead>\n",
       "    <tr style=\"text-align: right;\">\n",
       "      <th></th>\n",
       "      <th>Hypothesis</th>\n",
       "      <th>Reach</th>\n",
       "      <th>Impact</th>\n",
       "      <th>Confidence</th>\n",
       "      <th>Efforts</th>\n",
       "      <th>ice</th>\n",
       "    </tr>\n",
       "  </thead>\n",
       "  <tbody>\n",
       "    <tr>\n",
       "      <th>0</th>\n",
       "      <td>Добавить два новых канала привлечения трафика, что позволит привлекать на 30% больше пользователей</td>\n",
       "      <td>3</td>\n",
       "      <td>10</td>\n",
       "      <td>8</td>\n",
       "      <td>6</td>\n",
       "      <td>13.33</td>\n",
       "    </tr>\n",
       "    <tr>\n",
       "      <th>1</th>\n",
       "      <td>Запустить собственную службу доставки, что сократит срок доставки заказов</td>\n",
       "      <td>2</td>\n",
       "      <td>5</td>\n",
       "      <td>4</td>\n",
       "      <td>10</td>\n",
       "      <td>2.00</td>\n",
       "    </tr>\n",
       "    <tr>\n",
       "      <th>2</th>\n",
       "      <td>Добавить блоки рекомендаций товаров на сайт интернет магазина, чтобы повысить конверсию и средний чек заказа</td>\n",
       "      <td>8</td>\n",
       "      <td>3</td>\n",
       "      <td>7</td>\n",
       "      <td>3</td>\n",
       "      <td>7.00</td>\n",
       "    </tr>\n",
       "    <tr>\n",
       "      <th>3</th>\n",
       "      <td>Изменить структура категорий, что увеличит конверсию, т.к. пользователи быстрее найдут нужный товар</td>\n",
       "      <td>8</td>\n",
       "      <td>3</td>\n",
       "      <td>3</td>\n",
       "      <td>8</td>\n",
       "      <td>1.12</td>\n",
       "    </tr>\n",
       "    <tr>\n",
       "      <th>4</th>\n",
       "      <td>Изменить цвет фона главной страницы, чтобы увеличить вовлеченность пользователей</td>\n",
       "      <td>3</td>\n",
       "      <td>1</td>\n",
       "      <td>1</td>\n",
       "      <td>1</td>\n",
       "      <td>1.00</td>\n",
       "    </tr>\n",
       "    <tr>\n",
       "      <th>5</th>\n",
       "      <td>Добавить страницу отзывов клиентов о магазине, что позволит увеличить количество заказов</td>\n",
       "      <td>3</td>\n",
       "      <td>2</td>\n",
       "      <td>2</td>\n",
       "      <td>3</td>\n",
       "      <td>1.33</td>\n",
       "    </tr>\n",
       "    <tr>\n",
       "      <th>6</th>\n",
       "      <td>Показать на главной странице баннеры с актуальными акциями и распродажами, чтобы увеличить конверсию</td>\n",
       "      <td>5</td>\n",
       "      <td>3</td>\n",
       "      <td>8</td>\n",
       "      <td>3</td>\n",
       "      <td>8.00</td>\n",
       "    </tr>\n",
       "    <tr>\n",
       "      <th>7</th>\n",
       "      <td>Добавить форму подписки на все основные страницы, чтобы собрать базу клиентов для email-рассылок</td>\n",
       "      <td>10</td>\n",
       "      <td>7</td>\n",
       "      <td>8</td>\n",
       "      <td>5</td>\n",
       "      <td>11.20</td>\n",
       "    </tr>\n",
       "    <tr>\n",
       "      <th>8</th>\n",
       "      <td>Запустить акцию, дающую скидку на товар в день рождения</td>\n",
       "      <td>1</td>\n",
       "      <td>9</td>\n",
       "      <td>9</td>\n",
       "      <td>5</td>\n",
       "      <td>16.20</td>\n",
       "    </tr>\n",
       "  </tbody>\n",
       "</table>\n",
       "</div>"
      ],
      "text/plain": [
       "                                                                                                     Hypothesis  \\\n",
       "0            Добавить два новых канала привлечения трафика, что позволит привлекать на 30% больше пользователей   \n",
       "1                                     Запустить собственную службу доставки, что сократит срок доставки заказов   \n",
       "2  Добавить блоки рекомендаций товаров на сайт интернет магазина, чтобы повысить конверсию и средний чек заказа   \n",
       "3           Изменить структура категорий, что увеличит конверсию, т.к. пользователи быстрее найдут нужный товар   \n",
       "4                              Изменить цвет фона главной страницы, чтобы увеличить вовлеченность пользователей   \n",
       "5                      Добавить страницу отзывов клиентов о магазине, что позволит увеличить количество заказов   \n",
       "6          Показать на главной странице баннеры с актуальными акциями и распродажами, чтобы увеличить конверсию   \n",
       "7              Добавить форму подписки на все основные страницы, чтобы собрать базу клиентов для email-рассылок   \n",
       "8                                                       Запустить акцию, дающую скидку на товар в день рождения   \n",
       "\n",
       "   Reach  Impact  Confidence  Efforts    ice  \n",
       "0      3      10           8        6  13.33  \n",
       "1      2       5           4       10   2.00  \n",
       "2      8       3           7        3   7.00  \n",
       "3      8       3           3        8   1.12  \n",
       "4      3       1           1        1   1.00  \n",
       "5      3       2           2        3   1.33  \n",
       "6      5       3           8        3   8.00  \n",
       "7     10       7           8        5  11.20  \n",
       "8      1       9           9        5  16.20  "
      ]
     },
     "execution_count": 136,
     "metadata": {},
     "output_type": "execute_result"
    }
   ],
   "source": [
    "# Посчитаем ICE\n",
    "hypothesis['ice']= (hypothesis['Impact']*hypothesis['Confidence'])/hypothesis['Efforts']\n",
    "hypothesis['ice']=round(hypothesis['ice'], 2)\n",
    "hypothesis"
   ]
  },
  {
   "cell_type": "code",
   "execution_count": 137,
   "id": "e4143c1a",
   "metadata": {},
   "outputs": [],
   "source": [
    "# Посчитаем RICE\n",
    "hypothesis['rice']= (hypothesis['Reach']*hypothesis['Impact']*hypothesis['Confidence'])/hypothesis['Efforts']"
   ]
  },
  {
   "cell_type": "code",
   "execution_count": 138,
   "id": "9a33e57c",
   "metadata": {},
   "outputs": [],
   "source": [
    "hypothesis_sort_ice = hypothesis.sort_values(by='ice', ascending=False)"
   ]
  },
  {
   "cell_type": "code",
   "execution_count": 139,
   "id": "c489a24c",
   "metadata": {},
   "outputs": [
    {
     "data": {
      "text/html": [
       "<div>\n",
       "<style scoped>\n",
       "    .dataframe tbody tr th:only-of-type {\n",
       "        vertical-align: middle;\n",
       "    }\n",
       "\n",
       "    .dataframe tbody tr th {\n",
       "        vertical-align: top;\n",
       "    }\n",
       "\n",
       "    .dataframe thead th {\n",
       "        text-align: right;\n",
       "    }\n",
       "</style>\n",
       "<table border=\"1\" class=\"dataframe\">\n",
       "  <thead>\n",
       "    <tr style=\"text-align: right;\">\n",
       "      <th></th>\n",
       "      <th>Hypothesis</th>\n",
       "      <th>Reach</th>\n",
       "      <th>Impact</th>\n",
       "      <th>Confidence</th>\n",
       "      <th>Efforts</th>\n",
       "      <th>ice</th>\n",
       "      <th>rice</th>\n",
       "    </tr>\n",
       "  </thead>\n",
       "  <tbody>\n",
       "    <tr>\n",
       "      <th>8</th>\n",
       "      <td>Запустить акцию, дающую скидку на товар в день рождения</td>\n",
       "      <td>1</td>\n",
       "      <td>9</td>\n",
       "      <td>9</td>\n",
       "      <td>5</td>\n",
       "      <td>16.20</td>\n",
       "      <td>16.2</td>\n",
       "    </tr>\n",
       "    <tr>\n",
       "      <th>0</th>\n",
       "      <td>Добавить два новых канала привлечения трафика, что позволит привлекать на 30% больше пользователей</td>\n",
       "      <td>3</td>\n",
       "      <td>10</td>\n",
       "      <td>8</td>\n",
       "      <td>6</td>\n",
       "      <td>13.33</td>\n",
       "      <td>40.0</td>\n",
       "    </tr>\n",
       "    <tr>\n",
       "      <th>7</th>\n",
       "      <td>Добавить форму подписки на все основные страницы, чтобы собрать базу клиентов для email-рассылок</td>\n",
       "      <td>10</td>\n",
       "      <td>7</td>\n",
       "      <td>8</td>\n",
       "      <td>5</td>\n",
       "      <td>11.20</td>\n",
       "      <td>112.0</td>\n",
       "    </tr>\n",
       "    <tr>\n",
       "      <th>6</th>\n",
       "      <td>Показать на главной странице баннеры с актуальными акциями и распродажами, чтобы увеличить конверсию</td>\n",
       "      <td>5</td>\n",
       "      <td>3</td>\n",
       "      <td>8</td>\n",
       "      <td>3</td>\n",
       "      <td>8.00</td>\n",
       "      <td>40.0</td>\n",
       "    </tr>\n",
       "    <tr>\n",
       "      <th>2</th>\n",
       "      <td>Добавить блоки рекомендаций товаров на сайт интернет магазина, чтобы повысить конверсию и средний чек заказа</td>\n",
       "      <td>8</td>\n",
       "      <td>3</td>\n",
       "      <td>7</td>\n",
       "      <td>3</td>\n",
       "      <td>7.00</td>\n",
       "      <td>56.0</td>\n",
       "    </tr>\n",
       "  </tbody>\n",
       "</table>\n",
       "</div>"
      ],
      "text/plain": [
       "                                                                                                     Hypothesis  \\\n",
       "8                                                       Запустить акцию, дающую скидку на товар в день рождения   \n",
       "0            Добавить два новых канала привлечения трафика, что позволит привлекать на 30% больше пользователей   \n",
       "7              Добавить форму подписки на все основные страницы, чтобы собрать базу клиентов для email-рассылок   \n",
       "6          Показать на главной странице баннеры с актуальными акциями и распродажами, чтобы увеличить конверсию   \n",
       "2  Добавить блоки рекомендаций товаров на сайт интернет магазина, чтобы повысить конверсию и средний чек заказа   \n",
       "\n",
       "   Reach  Impact  Confidence  Efforts    ice   rice  \n",
       "8      1       9           9        5  16.20   16.2  \n",
       "0      3      10           8        6  13.33   40.0  \n",
       "7     10       7           8        5  11.20  112.0  \n",
       "6      5       3           8        3   8.00   40.0  \n",
       "2      8       3           7        3   7.00   56.0  "
      ]
     },
     "execution_count": 139,
     "metadata": {},
     "output_type": "execute_result"
    }
   ],
   "source": [
    "hypothesis_sort_ice.head()"
   ]
  },
  {
   "cell_type": "markdown",
   "id": "cfc86e01",
   "metadata": {},
   "source": [
    "По параметру ICE топ-3 гипотезы ПОД НОМЕРАМИ 8, 0 И 7"
   ]
  },
  {
   "cell_type": "code",
   "execution_count": 140,
   "id": "7a4f9501",
   "metadata": {},
   "outputs": [
    {
     "data": {
      "text/html": [
       "<div>\n",
       "<style scoped>\n",
       "    .dataframe tbody tr th:only-of-type {\n",
       "        vertical-align: middle;\n",
       "    }\n",
       "\n",
       "    .dataframe tbody tr th {\n",
       "        vertical-align: top;\n",
       "    }\n",
       "\n",
       "    .dataframe thead th {\n",
       "        text-align: right;\n",
       "    }\n",
       "</style>\n",
       "<table border=\"1\" class=\"dataframe\">\n",
       "  <thead>\n",
       "    <tr style=\"text-align: right;\">\n",
       "      <th></th>\n",
       "      <th>Hypothesis</th>\n",
       "      <th>Reach</th>\n",
       "      <th>Impact</th>\n",
       "      <th>Confidence</th>\n",
       "      <th>Efforts</th>\n",
       "      <th>ice</th>\n",
       "      <th>rice</th>\n",
       "    </tr>\n",
       "  </thead>\n",
       "  <tbody>\n",
       "    <tr>\n",
       "      <th>7</th>\n",
       "      <td>Добавить форму подписки на все основные страницы, чтобы собрать базу клиентов для email-рассылок</td>\n",
       "      <td>10</td>\n",
       "      <td>7</td>\n",
       "      <td>8</td>\n",
       "      <td>5</td>\n",
       "      <td>11.20</td>\n",
       "      <td>112.0</td>\n",
       "    </tr>\n",
       "    <tr>\n",
       "      <th>2</th>\n",
       "      <td>Добавить блоки рекомендаций товаров на сайт интернет магазина, чтобы повысить конверсию и средний чек заказа</td>\n",
       "      <td>8</td>\n",
       "      <td>3</td>\n",
       "      <td>7</td>\n",
       "      <td>3</td>\n",
       "      <td>7.00</td>\n",
       "      <td>56.0</td>\n",
       "    </tr>\n",
       "    <tr>\n",
       "      <th>0</th>\n",
       "      <td>Добавить два новых канала привлечения трафика, что позволит привлекать на 30% больше пользователей</td>\n",
       "      <td>3</td>\n",
       "      <td>10</td>\n",
       "      <td>8</td>\n",
       "      <td>6</td>\n",
       "      <td>13.33</td>\n",
       "      <td>40.0</td>\n",
       "    </tr>\n",
       "    <tr>\n",
       "      <th>6</th>\n",
       "      <td>Показать на главной странице баннеры с актуальными акциями и распродажами, чтобы увеличить конверсию</td>\n",
       "      <td>5</td>\n",
       "      <td>3</td>\n",
       "      <td>8</td>\n",
       "      <td>3</td>\n",
       "      <td>8.00</td>\n",
       "      <td>40.0</td>\n",
       "    </tr>\n",
       "    <tr>\n",
       "      <th>8</th>\n",
       "      <td>Запустить акцию, дающую скидку на товар в день рождения</td>\n",
       "      <td>1</td>\n",
       "      <td>9</td>\n",
       "      <td>9</td>\n",
       "      <td>5</td>\n",
       "      <td>16.20</td>\n",
       "      <td>16.2</td>\n",
       "    </tr>\n",
       "  </tbody>\n",
       "</table>\n",
       "</div>"
      ],
      "text/plain": [
       "                                                                                                     Hypothesis  \\\n",
       "7              Добавить форму подписки на все основные страницы, чтобы собрать базу клиентов для email-рассылок   \n",
       "2  Добавить блоки рекомендаций товаров на сайт интернет магазина, чтобы повысить конверсию и средний чек заказа   \n",
       "0            Добавить два новых канала привлечения трафика, что позволит привлекать на 30% больше пользователей   \n",
       "6          Показать на главной странице баннеры с актуальными акциями и распродажами, чтобы увеличить конверсию   \n",
       "8                                                       Запустить акцию, дающую скидку на товар в день рождения   \n",
       "\n",
       "   Reach  Impact  Confidence  Efforts    ice   rice  \n",
       "7     10       7           8        5  11.20  112.0  \n",
       "2      8       3           7        3   7.00   56.0  \n",
       "0      3      10           8        6  13.33   40.0  \n",
       "6      5       3           8        3   8.00   40.0  \n",
       "8      1       9           9        5  16.20   16.2  "
      ]
     },
     "execution_count": 140,
     "metadata": {},
     "output_type": "execute_result"
    }
   ],
   "source": [
    "hypothesis_sort_rice = hypothesis.sort_values(by='rice', ascending=False)\n",
    "hypothesis_sort_rice.head()"
   ]
  },
  {
   "cell_type": "markdown",
   "id": "1dfb809c",
   "metadata": {},
   "source": [
    "<div class=\"alert alert-warning\">\n",
    "    \n",
    "**Комментарий ревьюера**\n",
    "\n",
    "**#можно лучше**\n",
    "\n",
    "Расчеты верны, но ice стоило отформатировать, сделать округление. Так лучше бы считывался результат\n",
    "</div>"
   ]
  },
  {
   "cell_type": "markdown",
   "id": "236a90aa",
   "metadata": {},
   "source": [
    "По параметру RICE топ-3 гипотезы ПОД НОМЕРАМИ 7, 2 и 0. Разница по отношению к ICE заключается в том, что RICE учитывает охват пользователей. Т.к. мы имеем дело с интернет магазином, гипотезы связаны с увеличением трафика интернет-магазина. Параметр RICH учитывает охват пользователей, поэтому на его стоит ориентироваться."
   ]
  },
  {
   "cell_type": "markdown",
   "id": "d76107e3",
   "metadata": {},
   "source": [
    "<div class=\"alert alert-danger\">\n",
    "    \n",
    "**Комментарий ревьюера**\n",
    "\n",
    "**#ошибка**\n",
    "\n",
    "Давай в выводах поточнее напишем, на какой фреймворк стоит ориентироваться в нашем случае: интернет-магазин и гипотезы, которые предствлены. Как ты считаешь насколько важен показатель \"охват\", насколько он точно может быть оценен?\n",
    "</div>"
   ]
  },
  {
   "cell_type": "markdown",
   "id": "d5071615",
   "metadata": {},
   "source": [
    "<div class=\"alert alert-success\">\n",
    "    \n",
    "**Комментарий ревьюера - 2**\n",
    "\n",
    "**#ок**\n",
    "\n",
    "Хорошо. Действительно в реалиях интернет-магазина действительно охват можно достаточно достоверно оценить\n",
    "</div>"
   ]
  },
  {
   "cell_type": "markdown",
   "id": "addb4e26",
   "metadata": {},
   "source": [
    "# Часть 2. Анализ A/B-теста"
   ]
  },
  {
   "cell_type": "code",
   "execution_count": 141,
   "id": "9a09924a",
   "metadata": {},
   "outputs": [
    {
     "name": "stdout",
     "output_type": "stream",
     "text": [
      "\n",
      "Полученная таблица с кумулятивными (накопленными) значениями по дате и группам:\n",
      "- кол-во покупок \n",
      "- кол-во покупателей \n",
      "- выручка \n",
      "- кол-во посетителей\n"
     ]
    },
    {
     "data": {
      "text/html": [
       "<div>\n",
       "<style scoped>\n",
       "    .dataframe tbody tr th:only-of-type {\n",
       "        vertical-align: middle;\n",
       "    }\n",
       "\n",
       "    .dataframe tbody tr th {\n",
       "        vertical-align: top;\n",
       "    }\n",
       "\n",
       "    .dataframe thead th {\n",
       "        text-align: right;\n",
       "    }\n",
       "</style>\n",
       "<table border=\"1\" class=\"dataframe\">\n",
       "  <thead>\n",
       "    <tr style=\"text-align: right;\">\n",
       "      <th></th>\n",
       "      <th>date</th>\n",
       "      <th>group</th>\n",
       "      <th>orders</th>\n",
       "      <th>buyers</th>\n",
       "      <th>revenue</th>\n",
       "      <th>visitors</th>\n",
       "    </tr>\n",
       "  </thead>\n",
       "  <tbody>\n",
       "    <tr>\n",
       "      <th>0</th>\n",
       "      <td>2019-08-01</td>\n",
       "      <td>A</td>\n",
       "      <td>23</td>\n",
       "      <td>19</td>\n",
       "      <td>142779</td>\n",
       "      <td>719</td>\n",
       "    </tr>\n",
       "    <tr>\n",
       "      <th>1</th>\n",
       "      <td>2019-08-01</td>\n",
       "      <td>B</td>\n",
       "      <td>17</td>\n",
       "      <td>17</td>\n",
       "      <td>59758</td>\n",
       "      <td>713</td>\n",
       "    </tr>\n",
       "    <tr>\n",
       "      <th>2</th>\n",
       "      <td>2019-08-02</td>\n",
       "      <td>A</td>\n",
       "      <td>42</td>\n",
       "      <td>36</td>\n",
       "      <td>234381</td>\n",
       "      <td>1338</td>\n",
       "    </tr>\n",
       "    <tr>\n",
       "      <th>3</th>\n",
       "      <td>2019-08-02</td>\n",
       "      <td>B</td>\n",
       "      <td>40</td>\n",
       "      <td>39</td>\n",
       "      <td>221801</td>\n",
       "      <td>1294</td>\n",
       "    </tr>\n",
       "    <tr>\n",
       "      <th>4</th>\n",
       "      <td>2019-08-03</td>\n",
       "      <td>A</td>\n",
       "      <td>66</td>\n",
       "      <td>60</td>\n",
       "      <td>346854</td>\n",
       "      <td>1845</td>\n",
       "    </tr>\n",
       "  </tbody>\n",
       "</table>\n",
       "</div>"
      ],
      "text/plain": [
       "        date group  orders  buyers  revenue  visitors\n",
       "0 2019-08-01     A      23      19   142779       719\n",
       "1 2019-08-01     B      17      17    59758       713\n",
       "2 2019-08-02     A      42      36   234381      1338\n",
       "3 2019-08-02     B      40      39   221801      1294\n",
       "4 2019-08-03     A      66      60   346854      1845"
      ]
     },
     "execution_count": 141,
     "metadata": {},
     "output_type": "execute_result"
    }
   ],
   "source": [
    "#достаем уникальные значения дат и групп\n",
    "datesGroups = orders[['date','group']].drop_duplicates().sort_values(by=['date', 'group'])\n",
    "\n",
    "#выводим кумулятивные показатели из orders\n",
    "ordersAggregated = datesGroups.apply(lambda x: orders[np.logical_and(x['date'] >= orders['date'], x['group']==orders['group'])]\\\n",
    ".agg({'date':'max', 'group':'max', 'transactionId':'nunique', 'visitorId':'nunique', 'revenue':'sum'}), axis = 1)\n",
    "ordersAggregated.columns = ['date', 'group', 'orders', 'buyers', 'revenue']\n",
    "#выводим кумулятивные показатели из visitors\n",
    "visitorsAggregated = datesGroups.apply(lambda x: visitors[np.logical_and(x['date'] >= visitors['date'],\n",
    "                                                                         x['group']==visitors['group'])]\\\n",
    ".agg({'date':'max', 'group':'max', 'visitors':'sum'}), axis = 1)\n",
    "#сводим все накопительные данные в одну таблицу\n",
    "cumulativeData = ordersAggregated.merge(visitorsAggregated, left_on=['date', 'group'], right_on=['date', 'group'])\n",
    "print('\\nПолученная таблица с кумулятивными (накопленными) значениями по дате и группам:'\n",
    "'\\n- кол-во покупок \\n- кол-во покупателей \\n- выручка \\n- кол-во посетителей')\n",
    "cumulativeData.head(5)"
   ]
  },
  {
   "cell_type": "code",
   "execution_count": 142,
   "id": "5bcbdf67",
   "metadata": {},
   "outputs": [],
   "source": [
    "cumulativeDataA = cumulativeData[cumulativeData['group'] == 'A']\n",
    "cumulativeDataB = cumulativeData[cumulativeData['group'] == 'B']"
   ]
  },
  {
   "cell_type": "markdown",
   "id": "9c1307dd",
   "metadata": {},
   "source": [
    "# Графики кумулятивной выручки по группам A/B"
   ]
  },
  {
   "cell_type": "code",
   "execution_count": 143,
   "id": "a4afd185",
   "metadata": {},
   "outputs": [
    {
     "data": {
      "image/png": "[encoded data removed]",
      "text/plain": [
       "<Figure size 720x288 with 1 Axes>"
      ]
     },
     "metadata": {
      "needs_background": "light"
     },
     "output_type": "display_data"
    },
    {
     "name": "stdout",
     "output_type": "stream",
     "text": [
      "Выводы:\n",
      "Как мы видим, группа B стабильно показывает большую выручку чем группа A. На графике группы В есть резкий всплеск.  Причиной всплеска является неоправданно высокая выручка.\n"
     ]
    }
   ],
   "source": [
    "plt.figure(figsize=(10,4))\n",
    "plt.plot(cumulativeDataA['date'], cumulativeDataA['revenue'], label = 'A')\n",
    "plt.plot(cumulativeDataB['date'], cumulativeDataB['revenue'], label = 'B')\n",
    "plt.ylabel('Выручка')\n",
    "plt.xlabel('Дата')\n",
    "plt.xticks(rotation=90)\n",
    "plt.title('Графики кумулятивной выручки по группам A/B')\n",
    "plt.legend()\n",
    "plt.show()\n",
    "print('Выводы:')\n",
    "print('Как мы видим, группа B стабильно показывает большую выручку чем группа A. На графике группы В есть резкий всплеск.  Причиной всплеска является неоправданно высокая выручка.')"
   ]
  },
  {
   "cell_type": "markdown",
   "id": "cac8837a",
   "metadata": {},
   "source": [
    "# График кумулятивного среднего чека по группам."
   ]
  },
  {
   "cell_type": "code",
   "execution_count": 144,
   "id": "0674e926",
   "metadata": {},
   "outputs": [
    {
     "data": {
      "image/png": "[encoded data removed]",
      "text/plain": [
       "<Figure size 720x288 with 1 Axes>"
      ]
     },
     "metadata": {
      "needs_background": "light"
     },
     "output_type": "display_data"
    },
    {
     "name": "stdout",
     "output_type": "stream",
     "text": [
      "Выводы:\n",
      "Как мы видим, группа B стабильно показывает больший средний чек чем группа A. На графике группы В есть резкий всплеск. Причиной всплеска является высокая выручка (крупный заказ). Иначе говоря - аномалия.\n"
     ]
    }
   ],
   "source": [
    "plt.figure(figsize=(10,4))\n",
    "plt.plot(cumulativeDataA['date'], cumulativeDataA['revenue']/cumulativeDataA['orders'], label = 'A')\n",
    "plt.plot(cumulativeDataB['date'], cumulativeDataB['revenue']/cumulativeDataB['orders'], label = 'B')\n",
    "plt.ylabel('Выручка')\n",
    "plt.xlabel('Дата')\n",
    "plt.xticks(rotation=90)\n",
    "plt.title('График кумулятивного среднего чека по группам A/B')\n",
    "plt.legend()\n",
    "plt.show()\n",
    "print('Выводы:')\n",
    "print('Как мы видим, группа B стабильно показывает больший средний чек чем группа A. На графике группы В есть резкий всплеск. Причиной всплеска является высокая выручка (крупный заказ) или ошибка в значении (поставлен лишняя цифра в столбце выручка). Иначе говоря - аномалия.')"
   ]
  },
  {
   "cell_type": "markdown",
   "id": "c2bb477c",
   "metadata": {},
   "source": [
    "# график относительного изменения кумулятивного среднего количества заказов на посетителя группы B к группе A"
   ]
  },
  {
   "cell_type": "code",
   "execution_count": 145,
   "id": "83318720",
   "metadata": {},
   "outputs": [
    {
     "data": {
      "text/html": [
       "<div>\n",
       "<style scoped>\n",
       "    .dataframe tbody tr th:only-of-type {\n",
       "        vertical-align: middle;\n",
       "    }\n",
       "\n",
       "    .dataframe tbody tr th {\n",
       "        vertical-align: top;\n",
       "    }\n",
       "\n",
       "    .dataframe thead th {\n",
       "        text-align: right;\n",
       "    }\n",
       "</style>\n",
       "<table border=\"1\" class=\"dataframe\">\n",
       "  <thead>\n",
       "    <tr style=\"text-align: right;\">\n",
       "      <th></th>\n",
       "      <th>date</th>\n",
       "      <th>groupA</th>\n",
       "      <th>ordersA</th>\n",
       "      <th>buyersA</th>\n",
       "      <th>revenueA</th>\n",
       "      <th>visitorsA</th>\n",
       "      <th>groupB</th>\n",
       "      <th>ordersB</th>\n",
       "      <th>buyersB</th>\n",
       "      <th>revenueB</th>\n",
       "      <th>visitorsB</th>\n",
       "    </tr>\n",
       "  </thead>\n",
       "  <tbody>\n",
       "    <tr>\n",
       "      <th>0</th>\n",
       "      <td>2019-08-01</td>\n",
       "      <td>A</td>\n",
       "      <td>23</td>\n",
       "      <td>19</td>\n",
       "      <td>142779</td>\n",
       "      <td>719</td>\n",
       "      <td>B</td>\n",
       "      <td>17</td>\n",
       "      <td>17</td>\n",
       "      <td>59758</td>\n",
       "      <td>713</td>\n",
       "    </tr>\n",
       "    <tr>\n",
       "      <th>1</th>\n",
       "      <td>2019-08-02</td>\n",
       "      <td>A</td>\n",
       "      <td>42</td>\n",
       "      <td>36</td>\n",
       "      <td>234381</td>\n",
       "      <td>1338</td>\n",
       "      <td>B</td>\n",
       "      <td>40</td>\n",
       "      <td>39</td>\n",
       "      <td>221801</td>\n",
       "      <td>1294</td>\n",
       "    </tr>\n",
       "    <tr>\n",
       "      <th>2</th>\n",
       "      <td>2019-08-03</td>\n",
       "      <td>A</td>\n",
       "      <td>66</td>\n",
       "      <td>60</td>\n",
       "      <td>346854</td>\n",
       "      <td>1845</td>\n",
       "      <td>B</td>\n",
       "      <td>54</td>\n",
       "      <td>53</td>\n",
       "      <td>288850</td>\n",
       "      <td>1803</td>\n",
       "    </tr>\n",
       "    <tr>\n",
       "      <th>3</th>\n",
       "      <td>2019-08-04</td>\n",
       "      <td>A</td>\n",
       "      <td>77</td>\n",
       "      <td>71</td>\n",
       "      <td>388030</td>\n",
       "      <td>2562</td>\n",
       "      <td>B</td>\n",
       "      <td>68</td>\n",
       "      <td>66</td>\n",
       "      <td>385740</td>\n",
       "      <td>2573</td>\n",
       "    </tr>\n",
       "    <tr>\n",
       "      <th>4</th>\n",
       "      <td>2019-08-05</td>\n",
       "      <td>A</td>\n",
       "      <td>99</td>\n",
       "      <td>92</td>\n",
       "      <td>474413</td>\n",
       "      <td>3318</td>\n",
       "      <td>B</td>\n",
       "      <td>89</td>\n",
       "      <td>87</td>\n",
       "      <td>475648</td>\n",
       "      <td>3280</td>\n",
       "    </tr>\n",
       "  </tbody>\n",
       "</table>\n",
       "</div>"
      ],
      "text/plain": [
       "        date groupA  ordersA  buyersA  revenueA  visitorsA groupB  ordersB  \\\n",
       "0 2019-08-01      A       23       19    142779        719      B       17   \n",
       "1 2019-08-02      A       42       36    234381       1338      B       40   \n",
       "2 2019-08-03      A       66       60    346854       1845      B       54   \n",
       "3 2019-08-04      A       77       71    388030       2562      B       68   \n",
       "4 2019-08-05      A       99       92    474413       3318      B       89   \n",
       "\n",
       "   buyersB  revenueB  visitorsB  \n",
       "0       17     59758        713  \n",
       "1       39    221801       1294  \n",
       "2       53    288850       1803  \n",
       "3       66    385740       2573  \n",
       "4       87    475648       3280  "
      ]
     },
     "execution_count": 145,
     "metadata": {},
     "output_type": "execute_result"
    }
   ],
   "source": [
    "#Объединим две полученные таблицы\n",
    "mergedCumulativeConversion = cumulativeDataA.merge(cumulativeDataB, left_on='date', right_on='date', how='left', suffixes=['A', 'B'])\n",
    "mergedCumulativeConversion.head()"
   ]
  },
  {
   "cell_type": "code",
   "execution_count": 146,
   "id": "03386061",
   "metadata": {},
   "outputs": [
    {
     "data": {
      "image/png": "[encoded data removed]",
      "text/plain": [
       "<Figure size 720x288 with 1 Axes>"
      ]
     },
     "metadata": {
      "needs_background": "light"
     },
     "output_type": "display_data"
    },
    {
     "name": "stdout",
     "output_type": "stream",
     "text": [
      "Опять после 17.08 имеется всплеск, что подтверждает теорию дорогой покупки.\n"
     ]
    }
   ],
   "source": [
    "plt.figure(figsize=(10,4))\n",
    "plt.plot(mergedCumulativeConversion['date'], ((mergedCumulativeConversion['revenueB']/mergedCumulativeConversion['ordersB'])/\n",
    "                                       (mergedCumulativeConversion['revenueA']/mergedCumulativeConversion['ordersA'])-1))\n",
    "plt.axhline(y=0, color='black', linestyle = '--')\n",
    "plt.title('график относительного изменения кумулятивного среднего количества заказов на посетителя группы B к группе A')\n",
    "plt.xlabel('Дата')\n",
    "plt.xticks(rotation=90)\n",
    "plt.show()\n",
    "print ('Опять после 17.08 имеется всплеск, что подтверждает теорию дорогой покупки.')"
   ]
  },
  {
   "cell_type": "code",
   "execution_count": 147,
   "id": "f0be1905",
   "metadata": {},
   "outputs": [
    {
     "data": {
      "image/png": "[encoded data removed]",
      "text/plain": [
       "<Figure size 720x288 with 1 Axes>"
      ]
     },
     "metadata": {
      "needs_background": "light"
     },
     "output_type": "display_data"
    },
    {
     "name": "stdout",
     "output_type": "stream",
     "text": [
      "Средний чек группы В стабильно выше чем группы А\n"
     ]
    }
   ],
   "source": [
    "plt.figure(figsize=(10,4))\n",
    "plt.plot(cumulativeDataA['date'], cumulativeDataA['orders']/cumulativeDataA['visitors'], label = 'A')\n",
    "plt.plot(cumulativeDataB['date'], cumulativeDataB['orders']/cumulativeDataB['visitors'], label = 'B')\n",
    "plt.xticks(rotation=90)\n",
    "plt.xlabel('Дата')\n",
    "plt.title('график кумулятивного среднего количества заказов на посетителя по группам')\n",
    "plt.legend()\n",
    "plt.show()\n",
    "print('Средний чек группы В стабильно выше чем группы А')"
   ]
  },
  {
   "cell_type": "code",
   "execution_count": 148,
   "id": "83ed4a17",
   "metadata": {},
   "outputs": [
    {
     "data": {
      "image/png": "[encoded data removed]",
      "text/plain": [
       "<Figure size 720x288 with 1 Axes>"
      ]
     },
     "metadata": {
      "needs_background": "light"
     },
     "output_type": "display_data"
    },
    {
     "name": "stdout",
     "output_type": "stream",
     "text": [
      "Спустя неделю от старта теста пользователи группы В конвертируются лучше пользователей группы А.\n"
     ]
    }
   ],
   "source": [
    "plt.figure(figsize=(10,4))\n",
    "plt.plot(mergedCumulativeConversion['date'], ((mergedCumulativeConversion['ordersB']/mergedCumulativeConversion['visitorsB'])/\n",
    "                                       (mergedCumulativeConversion['ordersA']/mergedCumulativeConversion['visitorsA'])-1))\n",
    "plt.axhline(y=0, color='black', linestyle = '--')\n",
    "plt.title('график относительного изменения кумулятивного среднего количества заказов на посетителя группы B к группе A')\n",
    "plt.xlabel('Дата')\n",
    "plt.xticks(rotation=90)\n",
    "plt.show()\n",
    "print('Спустя неделю от старта теста пользователи группы В конвертируются лучше пользователей группы А.')"
   ]
  },
  {
   "cell_type": "code",
   "execution_count": 149,
   "id": "282ee9cb",
   "metadata": {},
   "outputs": [
    {
     "data": {
      "image/png": "[encoded data removed]",
      "text/plain": [
       "<Figure size 720x288 with 1 Axes>"
      ]
     },
     "metadata": {
      "needs_background": "light"
     },
     "output_type": "display_data"
    },
    {
     "data": {
      "image/png": "[encoded data removed]",
      "text/plain": [
       "<Figure size 720x288 with 1 Axes>"
      ]
     },
     "metadata": {
      "needs_background": "light"
     },
     "output_type": "display_data"
    },
    {
     "name": "stdout",
     "output_type": "stream",
     "text": [
      "Выводы:\n",
      "Судя по граифкам, подавляющее большинство пользователей не совершает более 2 заказов\n"
     ]
    }
   ],
   "source": [
    "orders.head(5)\n",
    "ordersByUsers = orders.groupby('visitorId', as_index = False).agg({'transactionId':'nunique'}).sort_values(by='transactionId', ascending = False)\n",
    "ordersByUsers.columns = ['visitorId', 'orders']\n",
    "ordersByUsers.head(5)\n",
    "plt.figure(figsize=(10,4))\n",
    "plt.hist(ordersByUsers['orders'], bins = 10)\n",
    "plt.title('Гистрограмма распределения количества заказов на одного пользователя')\n",
    "plt.show()\n",
    "x_values = pd.Series(range(0, len(ordersByUsers)))\n",
    "plt.figure(figsize=(10,4))\n",
    "plt.scatter(x_values, ordersByUsers['orders'])\n",
    "plt.title('Точечная диаграмма числа заказов на одного пользователя')\n",
    "plt.show()\n",
    "print('Выводы:')\n",
    "print('Судя по граифкам, подавляющее большинство пользователей не совершает более 2 заказов')"
   ]
  },
  {
   "cell_type": "code",
   "execution_count": 150,
   "id": "96eae292",
   "metadata": {},
   "outputs": [
    {
     "name": "stdout",
     "output_type": "stream",
     "text": [
      "Перцентили:\n",
      "95: 1\n",
      "99: 2\n"
     ]
    },
    {
     "data": {
      "text/plain": [
       "array([1.])"
      ]
     },
     "execution_count": 150,
     "metadata": {},
     "output_type": "execute_result"
    }
   ],
   "source": [
    "percentiles = np.percentile(ordersByUsers['orders'], [95, 99])\n",
    "percentiles_orders = np.percentile(ordersByUsers['orders'], [95]).round(0)\n",
    "print('Перцентили:\\n95: {:.0f}\\n99: {:.0f}'.format(percentiles[0],percentiles[1]))\n",
    "percentiles_orders"
   ]
  },
  {
   "cell_type": "markdown",
   "id": "e47a2ff9",
   "metadata": {},
   "source": [
    "не более 5% потльзователей делают больше 2 заказов"
   ]
  },
  {
   "cell_type": "code",
   "execution_count": 151,
   "id": "25ce0db7",
   "metadata": {},
   "outputs": [
    {
     "data": {
      "image/png": "[encoded data removed]",
      "text/plain": [
       "<Figure size 720x288 with 1 Axes>"
      ]
     },
     "metadata": {
      "needs_background": "light"
     },
     "output_type": "display_data"
    }
   ],
   "source": [
    "x_values = pd.Series(range(0, len(orders)))\n",
    "plt.figure(figsize=(10,4))\n",
    "plt.scatter(x_values, orders['revenue'])\n",
    "plt.title('Точечная диаграмма сумм заказов на одного пользователя')\n",
    "plt.axis([0, 1200, 0, 200000])\n",
    "plt.show()"
   ]
  },
  {
   "cell_type": "markdown",
   "id": "ed390b53",
   "metadata": {},
   "source": [
    "Количество заказов стоимостью более 25000 очень мало."
   ]
  },
  {
   "cell_type": "code",
   "execution_count": 152,
   "id": "b635c9b9",
   "metadata": {},
   "outputs": [
    {
     "name": "stdout",
     "output_type": "stream",
     "text": [
      "Перцентили:\n",
      "95: 26785\n",
      "99: 53904\n"
     ]
    },
    {
     "data": {
      "text/plain": [
       "array([26785.])"
      ]
     },
     "execution_count": 152,
     "metadata": {},
     "output_type": "execute_result"
    }
   ],
   "source": [
    "percentiles = np.percentile(orders['revenue'], [95, 99])\n",
    "percentiles_revenue = np.percentile(orders['revenue'], [95]).round(0)\n",
    "print('Перцентили:\\n95: {:.0f}\\n99: {:.0f}'.format(percentiles[0],percentiles[1]))\n",
    "percentiles_revenue"
   ]
  },
  {
   "cell_type": "markdown",
   "id": "9e10fe58",
   "metadata": {},
   "source": [
    "Всего 5% заказов юольше 28 000"
   ]
  },
  {
   "cell_type": "markdown",
   "id": "88731454",
   "metadata": {},
   "source": [
    "Выводы:\n",
    "Всего 5% заказов больше 28 000 рублей\n",
    "Не более 5% потльзователей делают больше 2 заказов"
   ]
  },
  {
   "cell_type": "markdown",
   "id": "71449550",
   "metadata": {},
   "source": [
    "# Анализ А\\Б теста"
   ]
  },
  {
   "cell_type": "markdown",
   "id": "520ed96d",
   "metadata": {},
   "source": [
    "Нулевая гипотеза - различий нет, т.е. показатели группы А и В имеют статистически малое различие. Альтернативная - есть различия, т.е. показатели группы А и В имеют статистически большое различие."
   ]
  },
  {
   "cell_type": "markdown",
   "id": "0466af5e",
   "metadata": {},
   "source": [
    "# Не очиценные данные"
   ]
  },
  {
   "cell_type": "code",
   "execution_count": 153,
   "id": "5a9c1aba",
   "metadata": {},
   "outputs": [
    {
     "name": "stdout",
     "output_type": "stream",
     "text": [
      "Кол-во покупателей в группе A: 445\n",
      "Кол-во покупок в группе А: 468\n",
      "Кол-во посетителей в группе A: 18736\n",
      "\n",
      "Кол-во покупателей в группе B: 528\n",
      "Кол-во покупок в группе B: 548\n",
      "Кол-во посетителей в группе B: 18916\n",
      "\n",
      "Относительный прирост конверсии группы B по отношению к группе A: 0.160\n",
      "P-value: 0.011018084110014696\n",
      "По неочищенным данным в конверсии групп A и B РАЗНИЦА СТАТИСТИЧЕСКИ ЗНАЧИМА!\n"
     ]
    }
   ],
   "source": [
    "ordersByUsersA = orders[orders['group']=='A'].groupby('visitorId', as_index=False).agg({'transactionId':'nunique'})\n",
    "ordersByUsersA.columns = ['visitorId', 'orders']\n",
    "ordersByUsersB = orders[orders['group']=='B'].groupby('visitorId', as_index=False).agg({'transactionId':'nunique'})\n",
    "ordersByUsersB.columns = ['visitorId', 'orders']\n",
    "print('Кол-во покупателей в группе A: {}'.format(len(ordersByUsersA)))\n",
    "print('Кол-во покупок в группе А: {}'.format(ordersByUsersA['orders'].sum()))\n",
    "print('Кол-во посетителей в группе A: {}\\n'.format(visitors[visitors['group']=='A']['visitors'].sum()))\n",
    "print('Кол-во покупателей в группе B: {}'.format(len(ordersByUsersB)))\n",
    "print('Кол-во покупок в группе B: {}'.format(ordersByUsersB['orders'].sum()))\n",
    "print('Кол-во посетителей в группе B: {}'.format(visitors[visitors['group']=='B']['visitors'].sum()))\n",
    "\n",
    "\n",
    "#составим списки кол-ва заказов sampleA и sampleB со всеми пользователями (в том числе и не купившими) по группам \n",
    "list_orders_1 =[]\n",
    "for i in range(0,(visitors[visitors['group']=='A']['visitors'].sum()-len(ordersByUsersA))):\n",
    "    list_orders_1.append(0)\n",
    "orders_by_non_purchased_users_A = pd.Series(data = list_orders_1, name = 'orders')\n",
    "\n",
    "list_orders_2 =[]\n",
    "for i in range(0,(visitors[visitors['group']=='B']['visitors'].sum()-len(ordersByUsersB))):\n",
    "    list_orders_2.append(0)\n",
    "orders_by_non_purchased_users_B = pd.Series(data = list_orders_2, name = 'orders')\n",
    "\n",
    "sampleA = pd.concat([ordersByUsersA['orders'], orders_by_non_purchased_users_A], axis=0)\n",
    "sampleB = pd.concat([ordersByUsersB['orders'], orders_by_non_purchased_users_B], axis=0)\n",
    "print('\\nОтносительный прирост конверсии группы B по отношению к группе A: {:.3f}'.format(sampleB.mean()/sampleA.mean()-1))\n",
    "alpha = 0.05\n",
    "results = stats.mannwhitneyu(sampleA, sampleB)\n",
    "print('P-value: {}'.format(results.pvalue))\n",
    "if results.pvalue < alpha:\n",
    "    print('По неочищенным данным в конверсии групп A и B РАЗНИЦА СТАТИСТИЧЕСКИ ЗНАЧИМА!')\n",
    "else:\n",
    "    print('По неочищенным данным РАЗЛИЧИЙ в конверсии групп A и B НЕТ!')"
   ]
  },
  {
   "cell_type": "code",
   "execution_count": 154,
   "id": "ceb5c5c4",
   "metadata": {},
   "outputs": [
    {
     "name": "stdout",
     "output_type": "stream",
     "text": [
      "0.829\n",
      "0.287\n",
      "P-value: 0.011018084110014696\n",
      "По неочищенным данным РАЗНИЦА в средних чеках в группах A и B СТАТИСТИЧЕСКИ ЗНАЧИМА!\n"
     ]
    }
   ],
   "source": [
    "print('{0:.3f}'.format(stats.mannwhitneyu(orders[orders['group']=='A']['revenue'], orders[orders['group']=='B']['revenue'])[1]))\n",
    "print('{0:.3f}'.format(orders[orders['group']=='B']['revenue'].mean()/orders[orders['group']=='A']['revenue'].mean()-1))\n",
    "print('P-value: {}'.format(results.pvalue))\n",
    "if results.pvalue < alpha:\n",
    "    print('По неочищенным данным РАЗНИЦА в средних чеках в группах A и B СТАТИСТИЧЕСКИ ЗНАЧИМА!')\n",
    "else:\n",
    "    print('По неочищенным данным РАЗЛИЧИЙ в средних чеках в группах A и B НЕТ!')"
   ]
  },
  {
   "cell_type": "markdown",
   "id": "bf5e2ab5",
   "metadata": {},
   "source": [
    "# Очищенные данные"
   ]
  },
  {
   "cell_type": "markdown",
   "id": "4d73144a",
   "metadata": {},
   "source": [
    "Ранее было выяснено, что пользователи редко делают больше 2 заказов и сумма одного заказа редко когда больше 28 т.р. Учтем это"
   ]
  },
  {
   "cell_type": "code",
   "execution_count": 155,
   "id": "06098a77",
   "metadata": {},
   "outputs": [
    {
     "name": "stdout",
     "output_type": "stream",
     "text": [
      "Кол-во аномальных пользователей: 55\n"
     ]
    }
   ],
   "source": [
    "#Изучим аномалии\n",
    "percentiles_revenue = 28000\n",
    "percentiles_orders = 2\n",
    "usersWithManyOrders = pd.concat([ordersByUsersA[ordersByUsersA['orders']>percentiles_orders]['visitorId'], \n",
    "                                ordersByUsersB[ordersByUsersB['orders']>percentiles_orders]['visitorId']], axis = 0)\n",
    "usersWithExpensiveOrders = orders[orders['revenue']>percentiles_revenue]['visitorId']\n",
    "abnormalUsers = pd.concat([usersWithManyOrders, usersWithExpensiveOrders], axis = 0).drop_duplicates().sort_values()\n",
    "print('Кол-во аномальных пользователей: {}'.format(len(abnormalUsers)))"
   ]
  },
  {
   "cell_type": "code",
   "execution_count": 156,
   "id": "edb9858b",
   "metadata": {},
   "outputs": [
    {
     "name": "stdout",
     "output_type": "stream",
     "text": [
      "\n",
      "Относительный прирост конверсии группы B по отношению к группе A после очистки данных: 0.189\n",
      "P-value: 0.00945335018662552\n",
      "По очищенным данным в конверсии групп A и B РАЗНИЦА СТАТИСТИЧЕСКИ ЗНАЧИМА!\n"
     ]
    }
   ],
   "source": [
    "sampleAFiltered = pd.concat([\n",
    "    ordersByUsersA[np.logical_not(ordersByUsersA['visitorId'].isin(abnormalUsers))]['orders'],\n",
    "    orders_by_non_purchased_users_A\n",
    "], axis = 0)\n",
    "sampleBFiltered = pd.concat([\n",
    "    ordersByUsersB[np.logical_not(ordersByUsersB['visitorId'].isin(abnormalUsers))]['orders'],\n",
    "    orders_by_non_purchased_users_B\n",
    "], axis = 0)\n",
    "print('\\nОтносительный прирост конверсии группы B по отношению к группе A после очистки данных: {:.3f}'.format(sampleBFiltered.mean()/sampleAFiltered.mean()-1))\n",
    "results = stats.mannwhitneyu(sampleAFiltered, sampleBFiltered)\n",
    "print('P-value: {}'.format(results.pvalue))\n",
    "if results.pvalue < alpha:\n",
    "    print('По очищенным данным в конверсии групп A и B РАЗНИЦА СТАТИСТИЧЕСКИ ЗНАЧИМА!')\n",
    "else:\n",
    "    print('По очищенным данным РАЗЛИЧИЙ в конверсии групп A и B НЕТ!')"
   ]
  },
  {
   "cell_type": "code",
   "execution_count": 157,
   "id": "f0d7cc3e",
   "metadata": {},
   "outputs": [
    {
     "name": "stdout",
     "output_type": "stream",
     "text": [
      "0.762\n",
      "-0.022\n",
      "P-value: 0.7616880562749192\n",
      "По неочищенным данным РАЗЛИЧИЙ в средних чеках в группах A и B НЕТ!\n"
     ]
    }
   ],
   "source": [
    "print('{0:.3f}'.format(stats.mannwhitneyu(orders[np.logical_and(orders['group']=='A', np.logical_not(orders['visitorId'].isin(abnormalUsers)))]['revenue'],\n",
    "                             orders[np.logical_and(orders['group']=='B', np.logical_not(orders['visitorId'].isin(abnormalUsers)))]['revenue'])[1]))\n",
    "print('{0:.3f}'.format(\n",
    "orders[np.logical_and(orders['group']=='B', np.logical_not(orders['visitorId'].isin(abnormalUsers)))]['revenue'].mean()\\\n",
    "/orders[np.logical_and(orders['group']=='A', np.logical_not(orders['visitorId'].isin(abnormalUsers)))]['revenue'].mean()-1))\n",
    "results = stats.mannwhitneyu(orders[np.logical_and(orders['group']=='A', np.logical_not(orders['visitorId'].isin(abnormalUsers)))]['revenue'],\n",
    "                             orders[np.logical_and(orders['group']=='B', np.logical_not(orders['visitorId'].isin(abnormalUsers)))]['revenue'])\n",
    "print('P-value: {}'.format(results.pvalue))\n",
    "if results.pvalue < alpha:\n",
    "    print('По неочищенным данным РАЗНИЦА в средних чеках в группах A и B СТАТИСТИЧЕСКИ ЗНАЧИМА!')\n",
    "else:\n",
    "    print('По неочищенным данным РАЗЛИЧИЙ в средних чеках в группах A и B НЕТ!')"
   ]
  },
  {
   "cell_type": "markdown",
   "id": "2fea5acb",
   "metadata": {},
   "source": [
    "Выводы:\n",
    "    По кумулятивным метрикам среднего чека, выручки и конверсии лидирует группа В. \n",
    "    Большинство заказов делается в диапазоне до 28 000 руб. и не более 2 заказов.\n",
    "    Различий в среднем чеке между группами А и В нет.\n",
    "    Относительный прирост конверсии группы B по отношению к группе A до очистки примерно 14% , после очистки 17%. Что является статистически значимым. Тест можно остановить."
   ]
  },
  {
   "cell_type": "code",
   "execution_count": null,
   "id": "0c8845da",
   "metadata": {},
   "outputs": [],
   "source": []
  }
 ],
 "metadata": {
  "ExecuteTimeLog": [
   {
    "duration": 1360,
    "start_time": "2023-12-26T09:27:06.796Z"
   },
   {
    "duration": 8,
    "start_time": "2023-12-26T09:27:08.157Z"
   },
   {
    "duration": 186,
    "start_time": "2023-12-26T09:27:08.167Z"
   },
   {
    "duration": 10,
    "start_time": "2023-12-26T09:27:08.355Z"
   },
   {
    "duration": 25,
    "start_time": "2023-12-26T09:27:08.366Z"
   },
   {
    "duration": 16,
    "start_time": "2023-12-26T09:27:08.392Z"
   },
   {
    "duration": 30,
    "start_time": "2023-12-26T09:27:08.409Z"
   },
   {
    "duration": 38,
    "start_time": "2023-12-26T09:27:08.440Z"
   },
   {
    "duration": 20,
    "start_time": "2023-12-26T09:27:08.480Z"
   },
   {
    "duration": 18,
    "start_time": "2023-12-26T09:27:08.503Z"
   },
   {
    "duration": 41,
    "start_time": "2023-12-26T09:27:08.523Z"
   },
   {
    "duration": 262,
    "start_time": "2023-12-26T09:27:08.565Z"
   },
   {
    "duration": 4,
    "start_time": "2023-12-26T09:27:08.829Z"
   },
   {
    "duration": 340,
    "start_time": "2023-12-26T09:27:08.834Z"
   },
   {
    "duration": 270,
    "start_time": "2023-12-26T09:27:09.175Z"
   },
   {
    "duration": 19,
    "start_time": "2023-12-26T09:27:09.447Z"
   },
   {
    "duration": 435,
    "start_time": "2023-12-26T09:27:09.467Z"
   },
   {
    "duration": 278,
    "start_time": "2023-12-26T09:27:09.903Z"
   },
   {
    "duration": 370,
    "start_time": "2023-12-26T09:27:10.182Z"
   },
   {
    "duration": 254,
    "start_time": "2023-12-26T09:27:10.553Z"
   },
   {
    "duration": 5,
    "start_time": "2023-12-26T09:27:10.808Z"
   },
   {
    "duration": 218,
    "start_time": "2023-12-26T09:27:10.814Z"
   },
   {
    "duration": 4,
    "start_time": "2023-12-26T09:27:11.034Z"
   },
   {
    "duration": 61,
    "start_time": "2023-12-26T09:27:11.040Z"
   },
   {
    "duration": 10,
    "start_time": "2023-12-26T09:27:11.103Z"
   },
   {
    "duration": 12,
    "start_time": "2023-12-26T09:27:11.115Z"
   },
   {
    "duration": 48,
    "start_time": "2023-12-26T09:27:11.128Z"
   },
   {
    "duration": 18,
    "start_time": "2023-12-26T09:27:11.178Z"
   },
   {
    "duration": 11,
    "start_time": "2023-12-26T09:32:28.713Z"
   },
   {
    "duration": 5,
    "start_time": "2023-12-26T09:37:53.602Z"
   },
   {
    "duration": 5,
    "start_time": "2023-12-26T09:38:21.969Z"
   },
   {
    "duration": 10,
    "start_time": "2023-12-26T09:38:37.748Z"
   },
   {
    "duration": 11,
    "start_time": "2023-12-26T09:39:11.237Z"
   },
   {
    "duration": 8,
    "start_time": "2023-12-26T09:59:11.019Z"
   },
   {
    "duration": 11,
    "start_time": "2023-12-26T09:59:26.303Z"
   },
   {
    "duration": 271,
    "start_time": "2023-12-26T10:03:41.448Z"
   },
   {
    "duration": 10,
    "start_time": "2023-12-26T10:09:04.635Z"
   },
   {
    "duration": 11,
    "start_time": "2023-12-26T10:12:38.375Z"
   },
   {
    "duration": 13,
    "start_time": "2023-12-26T10:13:36.697Z"
   },
   {
    "duration": 7,
    "start_time": "2023-12-26T10:48:49.803Z"
   },
   {
    "duration": 4,
    "start_time": "2023-12-26T10:48:50.528Z"
   },
   {
    "duration": 4,
    "start_time": "2023-12-26T10:48:54.439Z"
   },
   {
    "duration": 9,
    "start_time": "2023-12-26T10:48:55.879Z"
   },
   {
    "duration": 9,
    "start_time": "2023-12-26T10:49:02.338Z"
   },
   {
    "duration": 10,
    "start_time": "2023-12-26T10:49:20.560Z"
   },
   {
    "duration": 6,
    "start_time": "2023-12-26T10:49:27.567Z"
   },
   {
    "duration": 4,
    "start_time": "2023-12-26T10:49:30.705Z"
   },
   {
    "duration": 4,
    "start_time": "2023-12-26T10:49:31.848Z"
   },
   {
    "duration": 4,
    "start_time": "2023-12-26T10:49:54.418Z"
   },
   {
    "duration": 105,
    "start_time": "2023-12-26T10:49:56.628Z"
   },
   {
    "duration": 7,
    "start_time": "2023-12-26T10:49:57.294Z"
   },
   {
    "duration": 8,
    "start_time": "2023-12-26T10:50:04.803Z"
   },
   {
    "duration": 9,
    "start_time": "2023-12-26T10:50:12.415Z"
   },
   {
    "duration": 10,
    "start_time": "2023-12-26T10:50:33.597Z"
   },
   {
    "duration": 3,
    "start_time": "2023-12-26T10:50:47.618Z"
   },
   {
    "duration": 7,
    "start_time": "2023-12-26T10:50:47.623Z"
   },
   {
    "duration": 75,
    "start_time": "2023-12-26T10:50:47.631Z"
   },
   {
    "duration": 10,
    "start_time": "2023-12-26T10:50:47.707Z"
   },
   {
    "duration": 35,
    "start_time": "2023-12-26T10:50:47.718Z"
   },
   {
    "duration": 33,
    "start_time": "2023-12-26T10:50:47.755Z"
   },
   {
    "duration": 15,
    "start_time": "2023-12-26T10:50:47.789Z"
   },
   {
    "duration": 14,
    "start_time": "2023-12-26T10:50:47.805Z"
   },
   {
    "duration": 10,
    "start_time": "2023-12-26T10:50:47.821Z"
   },
   {
    "duration": 35,
    "start_time": "2023-12-26T10:50:47.832Z"
   },
   {
    "duration": 65,
    "start_time": "2023-12-26T10:50:47.869Z"
   },
   {
    "duration": 0,
    "start_time": "2023-12-26T10:50:47.937Z"
   },
   {
    "duration": 0,
    "start_time": "2023-12-26T10:50:47.938Z"
   },
   {
    "duration": 0,
    "start_time": "2023-12-26T10:50:47.939Z"
   },
   {
    "duration": 0,
    "start_time": "2023-12-26T10:50:47.941Z"
   },
   {
    "duration": 0,
    "start_time": "2023-12-26T10:50:47.942Z"
   },
   {
    "duration": 0,
    "start_time": "2023-12-26T10:50:47.943Z"
   },
   {
    "duration": 0,
    "start_time": "2023-12-26T10:50:47.944Z"
   },
   {
    "duration": 0,
    "start_time": "2023-12-26T10:50:47.945Z"
   },
   {
    "duration": 0,
    "start_time": "2023-12-26T10:50:47.947Z"
   },
   {
    "duration": 0,
    "start_time": "2023-12-26T10:50:47.948Z"
   },
   {
    "duration": 0,
    "start_time": "2023-12-26T10:50:47.949Z"
   },
   {
    "duration": 0,
    "start_time": "2023-12-26T10:50:47.951Z"
   },
   {
    "duration": 0,
    "start_time": "2023-12-26T10:50:47.952Z"
   },
   {
    "duration": 0,
    "start_time": "2023-12-26T10:50:47.953Z"
   },
   {
    "duration": 0,
    "start_time": "2023-12-26T10:50:47.954Z"
   },
   {
    "duration": 0,
    "start_time": "2023-12-26T10:50:47.955Z"
   },
   {
    "duration": 0,
    "start_time": "2023-12-26T10:50:47.957Z"
   },
   {
    "duration": 0,
    "start_time": "2023-12-26T10:50:47.958Z"
   },
   {
    "duration": 0,
    "start_time": "2023-12-26T10:50:47.959Z"
   },
   {
    "duration": 0,
    "start_time": "2023-12-26T10:50:47.960Z"
   },
   {
    "duration": 0,
    "start_time": "2023-12-26T10:50:47.962Z"
   },
   {
    "duration": 0,
    "start_time": "2023-12-26T10:50:47.963Z"
   },
   {
    "duration": 7,
    "start_time": "2023-12-26T10:51:25.512Z"
   },
   {
    "duration": 12,
    "start_time": "2023-12-26T10:51:40.942Z"
   },
   {
    "duration": 4,
    "start_time": "2023-12-26T10:51:46.548Z"
   },
   {
    "duration": 4,
    "start_time": "2023-12-26T10:51:46.553Z"
   },
   {
    "duration": 77,
    "start_time": "2023-12-26T10:51:46.558Z"
   },
   {
    "duration": 9,
    "start_time": "2023-12-26T10:51:46.637Z"
   },
   {
    "duration": 11,
    "start_time": "2023-12-26T10:51:46.648Z"
   },
   {
    "duration": 10,
    "start_time": "2023-12-26T10:51:46.660Z"
   },
   {
    "duration": 13,
    "start_time": "2023-12-26T10:51:46.671Z"
   },
   {
    "duration": 8,
    "start_time": "2023-12-26T10:51:46.685Z"
   },
   {
    "duration": 10,
    "start_time": "2023-12-26T10:51:46.695Z"
   },
   {
    "duration": 26,
    "start_time": "2023-12-26T10:51:46.706Z"
   },
   {
    "duration": 9,
    "start_time": "2023-12-26T10:51:46.735Z"
   },
   {
    "duration": 19,
    "start_time": "2023-12-26T10:51:46.746Z"
   },
   {
    "duration": 7,
    "start_time": "2023-12-26T10:51:46.767Z"
   },
   {
    "duration": 15,
    "start_time": "2023-12-26T10:51:46.775Z"
   },
   {
    "duration": 11,
    "start_time": "2023-12-26T10:51:46.791Z"
   },
   {
    "duration": 267,
    "start_time": "2023-12-26T10:51:46.804Z"
   },
   {
    "duration": 4,
    "start_time": "2023-12-26T10:51:47.072Z"
   },
   {
    "duration": 259,
    "start_time": "2023-12-26T10:51:47.077Z"
   },
   {
    "duration": 188,
    "start_time": "2023-12-26T10:51:47.338Z"
   },
   {
    "duration": 13,
    "start_time": "2023-12-26T10:51:47.528Z"
   },
   {
    "duration": 337,
    "start_time": "2023-12-26T10:51:47.542Z"
   },
   {
    "duration": 208,
    "start_time": "2023-12-26T10:51:47.881Z"
   },
   {
    "duration": 293,
    "start_time": "2023-12-26T10:51:48.091Z"
   },
   {
    "duration": 250,
    "start_time": "2023-12-26T10:51:48.386Z"
   },
   {
    "duration": 4,
    "start_time": "2023-12-26T10:51:48.638Z"
   },
   {
    "duration": 231,
    "start_time": "2023-12-26T10:51:48.644Z"
   },
   {
    "duration": 4,
    "start_time": "2023-12-26T10:51:48.877Z"
   },
   {
    "duration": 64,
    "start_time": "2023-12-26T10:51:48.883Z"
   },
   {
    "duration": 13,
    "start_time": "2023-12-26T10:51:48.968Z"
   },
   {
    "duration": 13,
    "start_time": "2023-12-26T10:51:48.984Z"
   },
   {
    "duration": 40,
    "start_time": "2023-12-26T10:51:48.998Z"
   },
   {
    "duration": 33,
    "start_time": "2023-12-26T10:51:49.040Z"
   },
   {
    "duration": 1372,
    "start_time": "2023-12-27T18:50:42.684Z"
   },
   {
    "duration": 3,
    "start_time": "2023-12-27T18:50:44.058Z"
   },
   {
    "duration": 191,
    "start_time": "2023-12-27T18:50:44.065Z"
   },
   {
    "duration": 11,
    "start_time": "2023-12-27T18:50:44.259Z"
   },
   {
    "duration": 18,
    "start_time": "2023-12-27T18:50:44.272Z"
   },
   {
    "duration": 14,
    "start_time": "2023-12-27T18:50:44.292Z"
   },
   {
    "duration": 14,
    "start_time": "2023-12-27T18:50:44.308Z"
   },
   {
    "duration": 19,
    "start_time": "2023-12-27T18:50:44.324Z"
   },
   {
    "duration": 25,
    "start_time": "2023-12-27T18:50:44.345Z"
   },
   {
    "duration": 19,
    "start_time": "2023-12-27T18:50:44.372Z"
   },
   {
    "duration": 11,
    "start_time": "2023-12-27T18:50:44.392Z"
   },
   {
    "duration": 3,
    "start_time": "2023-12-27T18:50:44.404Z"
   },
   {
    "duration": 10,
    "start_time": "2023-12-27T18:50:44.409Z"
   },
   {
    "duration": 11,
    "start_time": "2023-12-27T18:50:44.420Z"
   },
   {
    "duration": 36,
    "start_time": "2023-12-27T18:50:44.432Z"
   },
   {
    "duration": 277,
    "start_time": "2023-12-27T18:50:44.469Z"
   },
   {
    "duration": 4,
    "start_time": "2023-12-27T18:50:44.748Z"
   },
   {
    "duration": 279,
    "start_time": "2023-12-27T18:50:44.753Z"
   },
   {
    "duration": 195,
    "start_time": "2023-12-27T18:50:45.033Z"
   },
   {
    "duration": 14,
    "start_time": "2023-12-27T18:50:45.230Z"
   },
   {
    "duration": 366,
    "start_time": "2023-12-27T18:50:45.245Z"
   },
   {
    "duration": 206,
    "start_time": "2023-12-27T18:50:45.612Z"
   },
   {
    "duration": 295,
    "start_time": "2023-12-27T18:50:45.820Z"
   },
   {
    "duration": 294,
    "start_time": "2023-12-27T18:50:46.117Z"
   },
   {
    "duration": 4,
    "start_time": "2023-12-27T18:50:46.413Z"
   },
   {
    "duration": 163,
    "start_time": "2023-12-27T18:50:46.418Z"
   },
   {
    "duration": 7,
    "start_time": "2023-12-27T18:50:46.582Z"
   },
   {
    "duration": 54,
    "start_time": "2023-12-27T18:50:46.592Z"
   },
   {
    "duration": 25,
    "start_time": "2023-12-27T18:50:46.648Z"
   },
   {
    "duration": 8,
    "start_time": "2023-12-27T18:50:46.675Z"
   },
   {
    "duration": 31,
    "start_time": "2023-12-27T18:50:46.684Z"
   },
   {
    "duration": 48,
    "start_time": "2023-12-27T18:50:46.717Z"
   },
   {
    "duration": 182,
    "start_time": "2023-12-27T18:56:09.671Z"
   },
   {
    "duration": 313,
    "start_time": "2023-12-27T18:57:30.566Z"
   },
   {
    "duration": 314,
    "start_time": "2023-12-27T19:08:42.142Z"
   },
   {
    "duration": 4,
    "start_time": "2023-12-27T19:10:24.968Z"
   },
   {
    "duration": 5,
    "start_time": "2023-12-27T19:11:00.927Z"
   },
   {
    "duration": 99,
    "start_time": "2023-12-27T19:12:23.126Z"
   },
   {
    "duration": 4,
    "start_time": "2023-12-27T19:13:09.626Z"
   },
   {
    "duration": 13,
    "start_time": "2023-12-27T19:13:09.632Z"
   },
   {
    "duration": 102,
    "start_time": "2023-12-27T19:13:09.647Z"
   },
   {
    "duration": 13,
    "start_time": "2023-12-27T19:13:09.751Z"
   },
   {
    "duration": 44,
    "start_time": "2023-12-27T19:13:09.766Z"
   },
   {
    "duration": 32,
    "start_time": "2023-12-27T19:13:09.812Z"
   },
   {
    "duration": 39,
    "start_time": "2023-12-27T19:13:09.846Z"
   },
   {
    "duration": 27,
    "start_time": "2023-12-27T19:13:09.887Z"
   },
   {
    "duration": 30,
    "start_time": "2023-12-27T19:13:09.918Z"
   },
   {
    "duration": 26,
    "start_time": "2023-12-27T19:13:09.950Z"
   },
   {
    "duration": 54,
    "start_time": "2023-12-27T19:13:09.978Z"
   },
   {
    "duration": 27,
    "start_time": "2023-12-27T19:13:10.034Z"
   },
   {
    "duration": 36,
    "start_time": "2023-12-27T19:13:10.062Z"
   },
   {
    "duration": 55,
    "start_time": "2023-12-27T19:13:10.100Z"
   },
   {
    "duration": 41,
    "start_time": "2023-12-27T19:13:10.156Z"
   },
   {
    "duration": 281,
    "start_time": "2023-12-27T19:13:10.198Z"
   },
   {
    "duration": 4,
    "start_time": "2023-12-27T19:13:10.480Z"
   },
   {
    "duration": 221,
    "start_time": "2023-12-27T19:13:10.486Z"
   },
   {
    "duration": 203,
    "start_time": "2023-12-27T19:13:10.709Z"
   },
   {
    "duration": 13,
    "start_time": "2023-12-27T19:13:10.914Z"
   },
   {
    "duration": 301,
    "start_time": "2023-12-27T19:13:10.929Z"
   },
   {
    "duration": 205,
    "start_time": "2023-12-27T19:13:11.231Z"
   },
   {
    "duration": 342,
    "start_time": "2023-12-27T19:13:11.438Z"
   },
   {
    "duration": 328,
    "start_time": "2023-12-27T19:13:11.783Z"
   },
   {
    "duration": 5,
    "start_time": "2023-12-27T19:13:12.113Z"
   },
   {
    "duration": 144,
    "start_time": "2023-12-27T19:13:12.119Z"
   },
   {
    "duration": 6,
    "start_time": "2023-12-27T19:13:12.264Z"
   },
   {
    "duration": 51,
    "start_time": "2023-12-27T19:13:12.271Z"
   },
   {
    "duration": 10,
    "start_time": "2023-12-27T19:13:12.324Z"
   },
   {
    "duration": 38,
    "start_time": "2023-12-27T19:13:12.335Z"
   },
   {
    "duration": 0,
    "start_time": "2023-12-27T19:13:12.374Z"
   },
   {
    "duration": 0,
    "start_time": "2023-12-27T19:13:12.376Z"
   },
   {
    "duration": 7,
    "start_time": "2023-12-27T19:19:37.012Z"
   },
   {
    "duration": 63,
    "start_time": "2023-12-27T19:20:43.156Z"
   },
   {
    "duration": 5,
    "start_time": "2023-12-27T19:20:57.430Z"
   },
   {
    "duration": 7,
    "start_time": "2023-12-27T19:21:11.657Z"
   },
   {
    "duration": 7,
    "start_time": "2023-12-27T19:21:25.732Z"
   },
   {
    "duration": 12,
    "start_time": "2023-12-27T19:21:42.214Z"
   },
   {
    "duration": 8,
    "start_time": "2023-12-27T19:23:37.959Z"
   },
   {
    "duration": 6,
    "start_time": "2023-12-27T19:23:49.953Z"
   },
   {
    "duration": 6,
    "start_time": "2023-12-27T19:26:20.574Z"
   },
   {
    "duration": 49,
    "start_time": "2023-12-27T19:26:26.353Z"
   },
   {
    "duration": 10,
    "start_time": "2023-12-27T19:26:26.853Z"
   },
   {
    "duration": 12,
    "start_time": "2023-12-27T19:26:30.092Z"
   },
   {
    "duration": 5,
    "start_time": "2023-12-27T19:27:35.776Z"
   },
   {
    "duration": 4,
    "start_time": "2023-12-27T19:27:54.786Z"
   },
   {
    "duration": 570,
    "start_time": "2023-12-27T19:28:06.153Z"
   },
   {
    "duration": 574,
    "start_time": "2023-12-27T19:28:26.987Z"
   },
   {
    "duration": 17,
    "start_time": "2023-12-27T19:29:38.191Z"
   },
   {
    "duration": 13,
    "start_time": "2023-12-27T19:30:09.165Z"
   },
   {
    "duration": 15,
    "start_time": "2023-12-27T19:32:11.348Z"
   },
   {
    "duration": 8,
    "start_time": "2023-12-27T19:32:45.062Z"
   },
   {
    "duration": 19,
    "start_time": "2023-12-27T19:44:42.241Z"
   },
   {
    "duration": 3,
    "start_time": "2023-12-27T19:46:01.351Z"
   },
   {
    "duration": 59,
    "start_time": "2023-12-27T19:46:01.356Z"
   },
   {
    "duration": 106,
    "start_time": "2023-12-27T19:46:01.417Z"
   },
   {
    "duration": 10,
    "start_time": "2023-12-27T19:46:01.525Z"
   },
   {
    "duration": 33,
    "start_time": "2023-12-27T19:46:01.537Z"
   },
   {
    "duration": 47,
    "start_time": "2023-12-27T19:46:01.572Z"
   },
   {
    "duration": 39,
    "start_time": "2023-12-27T19:46:01.620Z"
   },
   {
    "duration": 80,
    "start_time": "2023-12-27T19:46:01.660Z"
   },
   {
    "duration": 45,
    "start_time": "2023-12-27T19:46:01.742Z"
   },
   {
    "duration": 63,
    "start_time": "2023-12-27T19:46:01.788Z"
   },
   {
    "duration": 35,
    "start_time": "2023-12-27T19:46:01.853Z"
   },
   {
    "duration": 74,
    "start_time": "2023-12-27T19:46:01.890Z"
   },
   {
    "duration": 42,
    "start_time": "2023-12-27T19:46:01.965Z"
   },
   {
    "duration": 35,
    "start_time": "2023-12-27T19:46:02.008Z"
   },
   {
    "duration": 20,
    "start_time": "2023-12-27T19:46:02.045Z"
   },
   {
    "duration": 277,
    "start_time": "2023-12-27T19:46:02.066Z"
   },
   {
    "duration": 4,
    "start_time": "2023-12-27T19:46:02.345Z"
   },
   {
    "duration": 215,
    "start_time": "2023-12-27T19:46:02.351Z"
   },
   {
    "duration": 198,
    "start_time": "2023-12-27T19:46:02.567Z"
   },
   {
    "duration": 13,
    "start_time": "2023-12-27T19:46:02.767Z"
   },
   {
    "duration": 293,
    "start_time": "2023-12-27T19:46:02.781Z"
   },
   {
    "duration": 204,
    "start_time": "2023-12-27T19:46:03.075Z"
   },
   {
    "duration": 288,
    "start_time": "2023-12-27T19:46:03.280Z"
   },
   {
    "duration": 248,
    "start_time": "2023-12-27T19:46:03.571Z"
   },
   {
    "duration": 7,
    "start_time": "2023-12-27T19:46:03.821Z"
   },
   {
    "duration": 185,
    "start_time": "2023-12-27T19:46:03.829Z"
   },
   {
    "duration": 7,
    "start_time": "2023-12-27T19:46:04.016Z"
   },
   {
    "duration": 72,
    "start_time": "2023-12-27T19:46:04.025Z"
   },
   {
    "duration": 11,
    "start_time": "2023-12-27T19:46:04.099Z"
   },
   {
    "duration": 9,
    "start_time": "2023-12-27T19:46:04.111Z"
   },
   {
    "duration": 47,
    "start_time": "2023-12-27T19:46:04.121Z"
   },
   {
    "duration": 18,
    "start_time": "2023-12-27T19:46:04.169Z"
   },
   {
    "duration": 80,
    "start_time": "2023-12-28T05:36:50.079Z"
   },
   {
    "duration": 69,
    "start_time": "2023-12-28T05:37:30.509Z"
   },
   {
    "duration": 116,
    "start_time": "2023-12-28T05:39:15.167Z"
   },
   {
    "duration": 57,
    "start_time": "2023-12-28T18:45:24.616Z"
   },
   {
    "duration": 1599,
    "start_time": "2023-12-28T18:45:29.477Z"
   },
   {
    "duration": 3,
    "start_time": "2023-12-28T18:45:31.078Z"
   },
   {
    "duration": 220,
    "start_time": "2023-12-28T18:45:31.082Z"
   },
   {
    "duration": 13,
    "start_time": "2023-12-28T18:45:31.304Z"
   },
   {
    "duration": 98,
    "start_time": "2023-12-28T18:45:31.318Z"
   },
   {
    "duration": 52,
    "start_time": "2023-12-28T18:45:31.418Z"
   },
   {
    "duration": 95,
    "start_time": "2023-12-28T18:45:31.472Z"
   },
   {
    "duration": 57,
    "start_time": "2023-12-28T18:45:31.569Z"
   },
   {
    "duration": 80,
    "start_time": "2023-12-28T18:45:31.628Z"
   },
   {
    "duration": 40,
    "start_time": "2023-12-28T18:45:31.711Z"
   },
   {
    "duration": 65,
    "start_time": "2023-12-28T18:45:31.753Z"
   },
   {
    "duration": 0,
    "start_time": "2023-12-28T18:45:31.820Z"
   },
   {
    "duration": 0,
    "start_time": "2023-12-28T18:45:31.821Z"
   },
   {
    "duration": 0,
    "start_time": "2023-12-28T18:45:31.822Z"
   },
   {
    "duration": 0,
    "start_time": "2023-12-28T18:45:31.824Z"
   },
   {
    "duration": 0,
    "start_time": "2023-12-28T18:45:31.826Z"
   },
   {
    "duration": 0,
    "start_time": "2023-12-28T18:45:31.828Z"
   },
   {
    "duration": 0,
    "start_time": "2023-12-28T18:45:31.829Z"
   },
   {
    "duration": 1,
    "start_time": "2023-12-28T18:45:31.831Z"
   },
   {
    "duration": 0,
    "start_time": "2023-12-28T18:45:31.833Z"
   },
   {
    "duration": 0,
    "start_time": "2023-12-28T18:45:31.835Z"
   },
   {
    "duration": 0,
    "start_time": "2023-12-28T18:45:31.836Z"
   },
   {
    "duration": 0,
    "start_time": "2023-12-28T18:45:31.838Z"
   },
   {
    "duration": 0,
    "start_time": "2023-12-28T18:45:31.839Z"
   },
   {
    "duration": 0,
    "start_time": "2023-12-28T18:45:31.840Z"
   },
   {
    "duration": 0,
    "start_time": "2023-12-28T18:45:31.842Z"
   },
   {
    "duration": 0,
    "start_time": "2023-12-28T18:45:31.843Z"
   },
   {
    "duration": 0,
    "start_time": "2023-12-28T18:45:31.845Z"
   },
   {
    "duration": 0,
    "start_time": "2023-12-28T18:45:31.846Z"
   },
   {
    "duration": 0,
    "start_time": "2023-12-28T18:45:31.847Z"
   },
   {
    "duration": 0,
    "start_time": "2023-12-28T18:45:31.848Z"
   },
   {
    "duration": 0,
    "start_time": "2023-12-28T18:45:31.850Z"
   },
   {
    "duration": 0,
    "start_time": "2023-12-28T18:45:31.852Z"
   },
   {
    "duration": 16,
    "start_time": "2023-12-28T18:46:05.331Z"
   },
   {
    "duration": 117,
    "start_time": "2023-12-28T18:49:12.051Z"
   },
   {
    "duration": 20,
    "start_time": "2023-12-28T18:50:29.248Z"
   },
   {
    "duration": 5,
    "start_time": "2023-12-28T18:50:36.716Z"
   },
   {
    "duration": 25,
    "start_time": "2023-12-28T18:50:36.724Z"
   },
   {
    "duration": 89,
    "start_time": "2023-12-28T18:50:36.751Z"
   },
   {
    "duration": 16,
    "start_time": "2023-12-28T18:50:36.843Z"
   },
   {
    "duration": 34,
    "start_time": "2023-12-28T18:50:36.861Z"
   },
   {
    "duration": 40,
    "start_time": "2023-12-28T18:50:36.898Z"
   },
   {
    "duration": 22,
    "start_time": "2023-12-28T18:50:36.940Z"
   },
   {
    "duration": 21,
    "start_time": "2023-12-28T18:50:36.964Z"
   },
   {
    "duration": 40,
    "start_time": "2023-12-28T18:50:36.987Z"
   },
   {
    "duration": 19,
    "start_time": "2023-12-28T18:50:37.032Z"
   },
   {
    "duration": 43,
    "start_time": "2023-12-28T18:50:37.052Z"
   },
   {
    "duration": 32,
    "start_time": "2023-12-28T18:50:37.097Z"
   },
   {
    "duration": 7,
    "start_time": "2023-12-28T18:50:37.131Z"
   },
   {
    "duration": 10,
    "start_time": "2023-12-28T18:50:37.139Z"
   },
   {
    "duration": 26,
    "start_time": "2023-12-28T18:50:37.152Z"
   },
   {
    "duration": 55,
    "start_time": "2023-12-28T18:50:37.180Z"
   },
   {
    "duration": 309,
    "start_time": "2023-12-28T18:50:37.237Z"
   },
   {
    "duration": 5,
    "start_time": "2023-12-28T18:50:37.547Z"
   },
   {
    "duration": 341,
    "start_time": "2023-12-28T18:50:37.553Z"
   },
   {
    "duration": 236,
    "start_time": "2023-12-28T18:50:37.899Z"
   },
   {
    "duration": 16,
    "start_time": "2023-12-28T18:50:38.137Z"
   },
   {
    "duration": 424,
    "start_time": "2023-12-28T18:50:38.154Z"
   },
   {
    "duration": 250,
    "start_time": "2023-12-28T18:50:38.580Z"
   },
   {
    "duration": 319,
    "start_time": "2023-12-28T18:50:38.831Z"
   },
   {
    "duration": 395,
    "start_time": "2023-12-28T18:50:39.152Z"
   },
   {
    "duration": 9,
    "start_time": "2023-12-28T18:50:39.549Z"
   },
   {
    "duration": 173,
    "start_time": "2023-12-28T18:50:39.560Z"
   },
   {
    "duration": 7,
    "start_time": "2023-12-28T18:50:39.737Z"
   },
   {
    "duration": 90,
    "start_time": "2023-12-28T18:50:39.746Z"
   },
   {
    "duration": 13,
    "start_time": "2023-12-28T18:50:39.838Z"
   },
   {
    "duration": 13,
    "start_time": "2023-12-28T18:50:39.852Z"
   },
   {
    "duration": 55,
    "start_time": "2023-12-28T18:50:39.867Z"
   },
   {
    "duration": 22,
    "start_time": "2023-12-28T18:50:39.924Z"
   },
   {
    "duration": 12,
    "start_time": "2023-12-28T18:51:15.151Z"
   },
   {
    "duration": 12,
    "start_time": "2023-12-28T18:51:25.631Z"
   },
   {
    "duration": 14,
    "start_time": "2023-12-28T18:51:32.448Z"
   },
   {
    "duration": 4,
    "start_time": "2023-12-28T18:51:39.356Z"
   },
   {
    "duration": 51,
    "start_time": "2023-12-28T18:51:39.362Z"
   },
   {
    "duration": 108,
    "start_time": "2023-12-28T18:51:39.415Z"
   },
   {
    "duration": 12,
    "start_time": "2023-12-28T18:51:39.525Z"
   },
   {
    "duration": 45,
    "start_time": "2023-12-28T18:51:39.540Z"
   },
   {
    "duration": 38,
    "start_time": "2023-12-28T18:51:39.587Z"
   },
   {
    "duration": 25,
    "start_time": "2023-12-28T18:51:39.627Z"
   },
   {
    "duration": 33,
    "start_time": "2023-12-28T18:51:39.654Z"
   },
   {
    "duration": 53,
    "start_time": "2023-12-28T18:51:39.689Z"
   },
   {
    "duration": 15,
    "start_time": "2023-12-28T18:51:39.744Z"
   },
   {
    "duration": 33,
    "start_time": "2023-12-28T18:51:39.763Z"
   },
   {
    "duration": 61,
    "start_time": "2023-12-28T18:51:39.798Z"
   },
   {
    "duration": 43,
    "start_time": "2023-12-28T18:51:39.861Z"
   },
   {
    "duration": 44,
    "start_time": "2023-12-28T18:51:39.906Z"
   },
   {
    "duration": 38,
    "start_time": "2023-12-28T18:51:39.952Z"
   },
   {
    "duration": 44,
    "start_time": "2023-12-28T18:51:39.992Z"
   },
   {
    "duration": 332,
    "start_time": "2023-12-28T18:51:40.038Z"
   },
   {
    "duration": 5,
    "start_time": "2023-12-28T18:51:40.372Z"
   },
   {
    "duration": 236,
    "start_time": "2023-12-28T18:51:40.380Z"
   },
   {
    "duration": 227,
    "start_time": "2023-12-28T18:51:40.618Z"
   },
   {
    "duration": 16,
    "start_time": "2023-12-28T18:51:40.846Z"
   },
   {
    "duration": 419,
    "start_time": "2023-12-28T18:51:40.864Z"
   },
   {
    "duration": 248,
    "start_time": "2023-12-28T18:51:41.285Z"
   },
   {
    "duration": 309,
    "start_time": "2023-12-28T18:51:41.535Z"
   },
   {
    "duration": 349,
    "start_time": "2023-12-28T18:51:41.846Z"
   },
   {
    "duration": 6,
    "start_time": "2023-12-28T18:51:42.200Z"
   },
   {
    "duration": 170,
    "start_time": "2023-12-28T18:51:42.208Z"
   },
   {
    "duration": 7,
    "start_time": "2023-12-28T18:51:42.380Z"
   },
   {
    "duration": 60,
    "start_time": "2023-12-28T18:51:42.402Z"
   },
   {
    "duration": 13,
    "start_time": "2023-12-28T18:51:42.464Z"
   },
   {
    "duration": 11,
    "start_time": "2023-12-28T18:51:42.500Z"
   },
   {
    "duration": 36,
    "start_time": "2023-12-28T18:51:42.513Z"
   },
   {
    "duration": 21,
    "start_time": "2023-12-28T18:51:42.550Z"
   },
   {
    "duration": 19,
    "start_time": "2023-12-28T18:52:25.921Z"
   },
   {
    "duration": 14,
    "start_time": "2023-12-28T18:53:00.841Z"
   },
   {
    "duration": 4,
    "start_time": "2023-12-28T18:53:05.399Z"
   },
   {
    "duration": 21,
    "start_time": "2023-12-28T18:53:05.405Z"
   },
   {
    "duration": 75,
    "start_time": "2023-12-28T18:53:05.428Z"
   },
   {
    "duration": 12,
    "start_time": "2023-12-28T18:53:05.505Z"
   },
   {
    "duration": 18,
    "start_time": "2023-12-28T18:53:05.518Z"
   },
   {
    "duration": 24,
    "start_time": "2023-12-28T18:53:05.538Z"
   },
   {
    "duration": 19,
    "start_time": "2023-12-28T18:53:05.564Z"
   },
   {
    "duration": 26,
    "start_time": "2023-12-28T18:53:05.585Z"
   },
   {
    "duration": 15,
    "start_time": "2023-12-28T18:53:05.613Z"
   },
   {
    "duration": 18,
    "start_time": "2023-12-28T18:53:05.632Z"
   },
   {
    "duration": 29,
    "start_time": "2023-12-28T18:53:05.651Z"
   },
   {
    "duration": 11,
    "start_time": "2023-12-28T18:53:05.701Z"
   },
   {
    "duration": 41,
    "start_time": "2023-12-28T18:53:05.714Z"
   },
   {
    "duration": 44,
    "start_time": "2023-12-28T18:53:05.757Z"
   },
   {
    "duration": 37,
    "start_time": "2023-12-28T18:53:05.803Z"
   },
   {
    "duration": 46,
    "start_time": "2023-12-28T18:53:05.842Z"
   },
   {
    "duration": 307,
    "start_time": "2023-12-28T18:53:05.890Z"
   },
   {
    "duration": 6,
    "start_time": "2023-12-28T18:53:06.198Z"
   },
   {
    "duration": 304,
    "start_time": "2023-12-28T18:53:06.205Z"
   },
   {
    "duration": 226,
    "start_time": "2023-12-28T18:53:06.510Z"
   },
   {
    "duration": 28,
    "start_time": "2023-12-28T18:53:06.737Z"
   },
   {
    "duration": 354,
    "start_time": "2023-12-28T18:53:06.766Z"
   },
   {
    "duration": 229,
    "start_time": "2023-12-28T18:53:07.122Z"
   },
   {
    "duration": 292,
    "start_time": "2023-12-28T18:53:07.352Z"
   },
   {
    "duration": 289,
    "start_time": "2023-12-28T18:53:07.646Z"
   },
   {
    "duration": 9,
    "start_time": "2023-12-28T18:53:07.937Z"
   },
   {
    "duration": 171,
    "start_time": "2023-12-28T18:53:07.948Z"
   },
   {
    "duration": 7,
    "start_time": "2023-12-28T18:53:08.124Z"
   },
   {
    "duration": 78,
    "start_time": "2023-12-28T18:53:08.133Z"
   },
   {
    "duration": 15,
    "start_time": "2023-12-28T18:53:08.213Z"
   },
   {
    "duration": 50,
    "start_time": "2023-12-28T18:53:08.230Z"
   },
   {
    "duration": 33,
    "start_time": "2023-12-28T18:53:08.282Z"
   },
   {
    "duration": 26,
    "start_time": "2023-12-28T18:53:08.317Z"
   },
   {
    "duration": 31,
    "start_time": "2023-12-28T18:57:21.581Z"
   },
   {
    "duration": 22,
    "start_time": "2023-12-28T19:01:04.911Z"
   },
   {
    "duration": 22,
    "start_time": "2023-12-28T19:01:20.716Z"
   },
   {
    "duration": 13,
    "start_time": "2023-12-28T19:01:46.815Z"
   },
   {
    "duration": 5,
    "start_time": "2023-12-28T19:02:10.133Z"
   },
   {
    "duration": 22,
    "start_time": "2023-12-28T19:02:10.140Z"
   },
   {
    "duration": 88,
    "start_time": "2023-12-28T19:02:10.164Z"
   },
   {
    "duration": 11,
    "start_time": "2023-12-28T19:02:10.254Z"
   },
   {
    "duration": 26,
    "start_time": "2023-12-28T19:02:10.267Z"
   },
   {
    "duration": 51,
    "start_time": "2023-12-28T19:02:10.295Z"
   },
   {
    "duration": 36,
    "start_time": "2023-12-28T19:02:10.348Z"
   },
   {
    "duration": 15,
    "start_time": "2023-12-28T19:02:10.386Z"
   },
   {
    "duration": 21,
    "start_time": "2023-12-28T19:02:10.402Z"
   },
   {
    "duration": 29,
    "start_time": "2023-12-28T19:02:10.424Z"
   },
   {
    "duration": 24,
    "start_time": "2023-12-28T19:02:10.456Z"
   },
   {
    "duration": 21,
    "start_time": "2023-12-28T19:02:10.482Z"
   },
   {
    "duration": 17,
    "start_time": "2023-12-28T19:02:10.505Z"
   },
   {
    "duration": 15,
    "start_time": "2023-12-28T19:02:10.524Z"
   },
   {
    "duration": 17,
    "start_time": "2023-12-28T19:02:10.540Z"
   },
   {
    "duration": 27,
    "start_time": "2023-12-28T19:02:10.559Z"
   },
   {
    "duration": 27,
    "start_time": "2023-12-28T19:02:10.588Z"
   },
   {
    "duration": 304,
    "start_time": "2023-12-28T19:02:10.617Z"
   },
   {
    "duration": 6,
    "start_time": "2023-12-28T19:02:10.922Z"
   },
   {
    "duration": 266,
    "start_time": "2023-12-28T19:02:10.930Z"
   },
   {
    "duration": 237,
    "start_time": "2023-12-28T19:02:11.197Z"
   },
   {
    "duration": 16,
    "start_time": "2023-12-28T19:02:11.435Z"
   },
   {
    "duration": 378,
    "start_time": "2023-12-28T19:02:11.453Z"
   },
   {
    "duration": 238,
    "start_time": "2023-12-28T19:02:11.832Z"
   },
   {
    "duration": 439,
    "start_time": "2023-12-28T19:02:12.071Z"
   },
   {
    "duration": 317,
    "start_time": "2023-12-28T19:02:12.512Z"
   },
   {
    "duration": 7,
    "start_time": "2023-12-28T19:02:12.831Z"
   },
   {
    "duration": 176,
    "start_time": "2023-12-28T19:02:12.839Z"
   },
   {
    "duration": 7,
    "start_time": "2023-12-28T19:02:13.018Z"
   },
   {
    "duration": 73,
    "start_time": "2023-12-28T19:02:13.027Z"
   },
   {
    "duration": 12,
    "start_time": "2023-12-28T19:02:13.102Z"
   },
   {
    "duration": 65,
    "start_time": "2023-12-28T19:02:13.116Z"
   },
   {
    "duration": 47,
    "start_time": "2023-12-28T19:02:13.184Z"
   },
   {
    "duration": 23,
    "start_time": "2023-12-28T19:02:13.233Z"
   }
  ],
  "kernelspec": {
   "display_name": "Python 3 (ipykernel)",
   "language": "python",
   "name": "python3"
  },
  "language_info": {
   "codemirror_mode": {
    "name": "ipython",
    "version": 3
   },
   "file_extension": ".py",
   "mimetype": "text/x-python",
   "name": "python",
   "nbconvert_exporter": "python",
   "pygments_lexer": "ipython3",
   "version": "3.9.5"
  },
  "toc": {
   "base_numbering": 1,
   "nav_menu": {},
   "number_sections": true,
   "sideBar": true,
   "skip_h1_title": true,
   "title_cell": "Table of Contents",
   "title_sidebar": "Contents",
   "toc_cell": false,
   "toc_position": {},
   "toc_section_display": true,
   "toc_window_display": false
  }
 },
 "nbformat": 4,
 "nbformat_minor": 5
}
